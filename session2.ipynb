{
 "cells": [
  {
   "cell_type": "markdown",
   "id": "826d9bdd-5dd7-4d33-9435-34a0b0c61e4f",
   "metadata": {},
   "source": [
    "# Session 2:  Clarusway Mini-Bootcamp\n",
    "\n",
    "* Variables\n",
    "* Naming Conventions\n",
    "* Introduction to Data Types \n",
    "* String Type\n",
    "* Numeric Types\n",
    "* Boolean Type\n",
    "* Type Conversions\n",
    "\n",
    "Useful Links:\n",
    "\n",
    "* [Unicode Home](https://home.unicode.org/)\n",
    "* [Emojipedia](https://emojipedia.org/)\n",
    "* [LaTeX cheat sheet](https://joshua.smcvt.edu/undergradmath/undergradmath.pdf)"
   ]
  },
  {
   "cell_type": "markdown",
   "id": "e6957489-dbbe-4710-9173-0168a7d1859f",
   "metadata": {},
   "source": [
    "## Variables and Naming Conventions\n",
    "\n",
    "Variables are also called \"names\" and various conventions apply.  \n",
    "\n",
    "Names cannot start with a number, for example.  \n",
    "\n",
    "Names must not contain spaces (use snake_case instead).\n",
    "\n",
    "Since [PEP 3131](https://www.python.org/dev/peps/pep-3131), non-ASCII identifiers are supported"
   ]
  },
  {
   "cell_type": "code",
   "execution_count": 6,
   "id": "be39f1f3-c2d7-418a-b23e-834da3524928",
   "metadata": {},
   "outputs": [
    {
     "data": {
      "text/plain": [
       "'self'"
      ]
     },
     "execution_count": 6,
     "metadata": {},
     "output_type": "execute_result"
    }
   ],
   "source": [
    "自 = \"self\"  # in Chinese\n",
    "自"
   ]
  },
  {
   "cell_type": "code",
   "execution_count": 71,
   "id": "30b55f0e-3a8b-434f-92b2-4162e0f426af",
   "metadata": {},
   "outputs": [
    {
     "data": {
      "text/plain": [
       "33258"
      ]
     },
     "execution_count": 71,
     "metadata": {},
     "output_type": "execute_result"
    }
   ],
   "source": [
    "ord(\"自\")"
   ]
  },
  {
   "cell_type": "markdown",
   "id": "11b0455b-cb5a-4f9b-aa7b-b0fdea252421",
   "metadata": {},
   "source": [
    "From PEP 8:\n",
    "\n",
    "All identifiers in the Python standard library MUST use ASCII-only identifiers, and SHOULD use English words wherever feasible (in many cases, abbreviations and technical terms are used which aren’t English). In addition, string literals and comments must also be in ASCII. The only exceptions are (a) test cases testing the non-ASCII features, and (b) names of authors. Authors whose names are not based on the latin alphabet MUST provide a latin transliteration of their names."
   ]
  },
  {
   "cell_type": "markdown",
   "id": "ee3c3235-21d4-4bc4-8412-191054b74dee",
   "metadata": {},
   "source": [
    "## Data Types"
   ]
  },
  {
   "cell_type": "markdown",
   "id": "663f3972-020a-451e-9bcc-a504a7e8f1d7",
   "metadata": {},
   "source": [
    "### String Type"
   ]
  },
  {
   "cell_type": "code",
   "execution_count": 20,
   "id": "a5c8052e-35f9-480f-a8cd-d27dcd6982b7",
   "metadata": {},
   "outputs": [],
   "source": [
    "# help(str)"
   ]
  },
  {
   "cell_type": "markdown",
   "id": "5ee20fa0-9d3a-4619-91e8-5303ed0d02ff",
   "metadata": {},
   "source": [
    "Characters between single or triple quotes are called \"string literals\".  The quotes themselves may be \\\" or \\' and are called \"string delimiters\"."
   ]
  },
  {
   "cell_type": "code",
   "execution_count": 47,
   "id": "11201840-02c0-4eb5-b7ba-80ae97421503",
   "metadata": {},
   "outputs": [
    {
     "data": {
      "text/plain": [
       "71"
      ]
     },
     "execution_count": 47,
     "metadata": {},
     "output_type": "execute_result"
    }
   ],
   "source": [
    "s = 'Python has no individual character type, distinct from the string type.'\n",
    "len(s)"
   ]
  },
  {
   "cell_type": "markdown",
   "id": "a07cd279-09b7-4d61-8632-1de5ea04db07",
   "metadata": {},
   "source": [
    "The code below is an eye-opening because it introduces \"the dot\" (the accessor operator) for reaching inside the object to its left, to find the method name (in this case) on the right, and to call it."
   ]
  },
  {
   "cell_type": "code",
   "execution_count": 12,
   "id": "9ff31380-e17e-40e2-9984-39ab9ee3c6a4",
   "metadata": {},
   "outputs": [
    {
     "name": "stdout",
     "output_type": "stream",
     "text": [
      "Python Has No Individual Character Type, Distinct From The String Type.\n",
      "python has no individual character type, distinct from the string type.\n",
      "PYTHON HAS NO INDIVIDUAL CHARACTER TYPE, DISTINCT FROM THE STRING TYPE.\n",
      "Python has no individual character type, distinct from the string type.\n"
     ]
    }
   ],
   "source": [
    "print(s.title())\n",
    "print(s.lower())\n",
    "print(s.upper())\n",
    "print(s.capitalize())"
   ]
  },
  {
   "cell_type": "code",
   "execution_count": 48,
   "id": "985d708d-4f5e-40d1-8869-61d06ca44e59",
   "metadata": {},
   "outputs": [
    {
     "data": {
      "text/plain": [
       "<function str.title()>"
      ]
     },
     "execution_count": 48,
     "metadata": {},
     "output_type": "execute_result"
    }
   ],
   "source": [
    "# compare:\n",
    "s.title"
   ]
  },
  {
   "cell_type": "code",
   "execution_count": 49,
   "id": "633cef17-ddf7-489f-9f36-d5f88fde6239",
   "metadata": {},
   "outputs": [
    {
     "data": {
      "text/plain": [
       "True"
      ]
     },
     "execution_count": 49,
     "metadata": {},
     "output_type": "execute_result"
    }
   ],
   "source": [
    "callable(s.title)"
   ]
  },
  {
   "cell_type": "markdown",
   "id": "64bfc2ed-7d2b-43ff-8c7a-2c13de5dedc2",
   "metadata": {},
   "source": [
    "### Unicode: Beyond ASCII\n",
    "\n",
    "ASCII = American Standard Code for Information Interchange, and at first consisted of only [128 characters](http://www.csc.villanova.edu/~tway/resources/ascii-table.html), including \"control characters\" such as \"newline\" and \"tab\".  \n",
    "\n",
    "[Extended ASCII](https://www.ascii-code.com/) doubled the number of characters to 256 but there was still no wide agreement on what these characters should be.  \n",
    "\n",
    "Unicode is the new global standard and includes millions of characters, with room to grow.\n",
    "\n",
    "Unicode's [UTF-8](https://www.w3schools.com/charsets/ref_html_utf8.asp) and ASCII are the same for the first 128 characters."
   ]
  },
  {
   "cell_type": "code",
   "execution_count": 50,
   "id": "d2c20f8d-e17a-4117-833d-833f6debe153",
   "metadata": {},
   "outputs": [
    {
     "data": {
      "text/plain": [
       "10"
      ]
     },
     "execution_count": 50,
     "metadata": {},
     "output_type": "execute_result"
    }
   ],
   "source": [
    "ord(\"\\n\")"
   ]
  },
  {
   "cell_type": "code",
   "execution_count": 52,
   "id": "b1a1bec5-2e77-45d1-bd2e-1973c9ff7298",
   "metadata": {},
   "outputs": [
    {
     "data": {
      "text/plain": [
       "13"
      ]
     },
     "execution_count": 52,
     "metadata": {},
     "output_type": "execute_result"
    }
   ],
   "source": [
    "ord(\"\\r\")"
   ]
  },
  {
   "cell_type": "code",
   "execution_count": 65,
   "id": "34403876-e243-4ac6-8590-166da60586f9",
   "metadata": {},
   "outputs": [],
   "source": [
    "s = \"I ❤ 🐍\"  # emoji are part of unicode (but cannot be Python identifiers)"
   ]
  },
  {
   "cell_type": "code",
   "execution_count": 66,
   "id": "9ca9dc8f-3930-4835-9e6c-efdf298b34c2",
   "metadata": {},
   "outputs": [
    {
     "data": {
      "text/plain": [
       "True"
      ]
     },
     "execution_count": 66,
     "metadata": {},
     "output_type": "execute_result"
    }
   ],
   "source": [
    "\"❤\" in s"
   ]
  },
  {
   "cell_type": "code",
   "execution_count": 96,
   "id": "859b20b6-5124-4612-8025-459726a5f6a2",
   "metadata": {},
   "outputs": [
    {
     "data": {
      "text/plain": [
       "b'I \\xe2\\x9d\\xa4 \\xf0\\x9f\\x90\\x8d'"
      ]
     },
     "execution_count": 96,
     "metadata": {},
     "output_type": "execute_result"
    }
   ],
   "source": [
    "bytes(s, encoding='UTF-8')"
   ]
  },
  {
   "cell_type": "code",
   "execution_count": 67,
   "id": "e5c5005c-f92c-4124-a65b-0dab6809528a",
   "metadata": {},
   "outputs": [
    {
     "data": {
      "text/plain": [
       "2"
      ]
     },
     "execution_count": 67,
     "metadata": {},
     "output_type": "execute_result"
    }
   ],
   "source": [
    "s.index(\"❤\")"
   ]
  },
  {
   "cell_type": "code",
   "execution_count": 69,
   "id": "0672b853-599f-42bc-b02c-83e0b7d4cf4f",
   "metadata": {},
   "outputs": [
    {
     "data": {
      "text/plain": [
       "10084"
      ]
     },
     "execution_count": 69,
     "metadata": {},
     "output_type": "execute_result"
    }
   ],
   "source": [
    "ord(\"❤\")"
   ]
  },
  {
   "cell_type": "code",
   "execution_count": 70,
   "id": "1fbc21dc-c7c3-455d-b2c9-95e913c0c300",
   "metadata": {},
   "outputs": [
    {
     "data": {
      "text/plain": [
       "'0x2764'"
      ]
     },
     "execution_count": 70,
     "metadata": {},
     "output_type": "execute_result"
    }
   ],
   "source": [
    "hex(10084)"
   ]
  },
  {
   "cell_type": "code",
   "execution_count": 68,
   "id": "a1b9e101-45fb-4785-8524-2aaec4a8f251",
   "metadata": {},
   "outputs": [
    {
     "data": {
      "text/plain": [
       "'❤'"
      ]
     },
     "execution_count": 68,
     "metadata": {},
     "output_type": "execute_result"
    }
   ],
   "source": [
    "chr(0x2764)"
   ]
  },
  {
   "cell_type": "code",
   "execution_count": 57,
   "id": "e26c9b2b-24c5-445d-a951-7dae78987622",
   "metadata": {},
   "outputs": [
    {
     "data": {
      "text/plain": [
       "128013"
      ]
     },
     "execution_count": 57,
     "metadata": {},
     "output_type": "execute_result"
    }
   ],
   "source": [
    "ord('🐍')"
   ]
  },
  {
   "cell_type": "code",
   "execution_count": 58,
   "id": "105d99e0-2edb-4e08-ae67-13e9e8c01652",
   "metadata": {},
   "outputs": [
    {
     "data": {
      "text/plain": [
       "'🐍'"
      ]
     },
     "execution_count": 58,
     "metadata": {},
     "output_type": "execute_result"
    }
   ],
   "source": [
    "chr(128013)"
   ]
  },
  {
   "cell_type": "markdown",
   "id": "8a1e90ba-5fd5-4918-b1ba-d7f2808f98a1",
   "metadata": {},
   "source": [
    "### Numeric Types"
   ]
  },
  {
   "cell_type": "code",
   "execution_count": 46,
   "id": "bbfab263-8d72-4924-bcfc-a99fcc23ca82",
   "metadata": {},
   "outputs": [
    {
     "name": "stdout",
     "output_type": "stream",
     "text": [
      "𝞹 = 3.141592653589793\n",
      "e = 2.718281828459045\n"
     ]
    }
   ],
   "source": [
    "from math import pi, e\n",
    "print(\"𝞹 = \", pi, \"\\n\", \"e = \", e, sep=\"\")"
   ]
  },
  {
   "cell_type": "code",
   "execution_count": 14,
   "id": "422c75e9-4836-4d36-be5d-3601416d6194",
   "metadata": {},
   "outputs": [
    {
     "data": {
      "text/plain": [
       "float"
      ]
     },
     "execution_count": 14,
     "metadata": {},
     "output_type": "execute_result"
    }
   ],
   "source": [
    "type(pi)"
   ]
  },
  {
   "cell_type": "code",
   "execution_count": 15,
   "id": "37b194fe-23ce-4cfa-b4f1-eabf09f2dbfe",
   "metadata": {},
   "outputs": [
    {
     "data": {
      "text/plain": [
       "int"
      ]
     },
     "execution_count": 15,
     "metadata": {},
     "output_type": "execute_result"
    }
   ],
   "source": [
    "type(1)"
   ]
  },
  {
   "cell_type": "code",
   "execution_count": 17,
   "id": "ee449856-8964-45b1-9fed-9309e2771e94",
   "metadata": {},
   "outputs": [],
   "source": [
    "# help(1)"
   ]
  },
  {
   "cell_type": "code",
   "execution_count": 25,
   "id": "2cd486d0-de3c-424e-bc55-012af6de8682",
   "metadata": {},
   "outputs": [
    {
     "data": {
      "text/plain": [
       "Fraction(7, 6)"
      ]
     },
     "execution_count": 25,
     "metadata": {},
     "output_type": "execute_result"
    }
   ],
   "source": [
    "from fractions import Fraction\n",
    "p = Fraction(1, 2)\n",
    "q = Fraction(2, 3)\n",
    "p + q"
   ]
  },
  {
   "cell_type": "code",
   "execution_count": 26,
   "id": "952b4e8f-0ce2-4d0b-ba1e-ac9e8579d00f",
   "metadata": {},
   "outputs": [
    {
     "data": {
      "text/plain": [
       "Fraction(1, 3)"
      ]
     },
     "execution_count": 26,
     "metadata": {},
     "output_type": "execute_result"
    }
   ],
   "source": [
    "p * q"
   ]
  },
  {
   "cell_type": "code",
   "execution_count": 27,
   "id": "d425dee8-c276-4a27-ba9f-dd35df6641b6",
   "metadata": {},
   "outputs": [
    {
     "data": {
      "text/plain": [
       "0.6299605249474366"
      ]
     },
     "execution_count": 27,
     "metadata": {},
     "output_type": "execute_result"
    }
   ],
   "source": [
    "p ** q"
   ]
  },
  {
   "cell_type": "markdown",
   "id": "bd9e7804-ff62-4140-b2a3-b4c1359a331d",
   "metadata": {},
   "source": [
    "$(1/2)^{2/3} \\approx  0.6299605249474366$ "
   ]
  },
  {
   "cell_type": "code",
   "execution_count": 28,
   "id": "a6a7a5e8-8509-4e69-aa90-d083e9a7486e",
   "metadata": {},
   "outputs": [],
   "source": [
    "from math import sqrt"
   ]
  },
  {
   "cell_type": "code",
   "execution_count": 29,
   "id": "e14cfa78-9b15-45c2-9da3-09ed0c4aaa84",
   "metadata": {},
   "outputs": [
    {
     "data": {
      "text/plain": [
       "0.6299605249474366"
      ]
     },
     "execution_count": 29,
     "metadata": {},
     "output_type": "execute_result"
    }
   ],
   "source": [
    "pow(p, q)"
   ]
  },
  {
   "cell_type": "code",
   "execution_count": 32,
   "id": "acb8523d-ff67-4232-b4f5-df217411d168",
   "metadata": {},
   "outputs": [],
   "source": [
    "from decimal import Decimal"
   ]
  },
  {
   "cell_type": "markdown",
   "id": "c442f8bd-1f3b-4e8b-8cfa-4f8f566caf7a",
   "metadata": {},
   "source": [
    "Jupyter Notebooks understand $\\LaTeX$:\n",
    "$$\n",
    "\\phi = (1 + \\sqrt{5})/2 \n",
    "$$"
   ]
  },
  {
   "cell_type": "code",
   "execution_count": 36,
   "id": "cb627b6f-afad-432f-b10a-2cbe8781b503",
   "metadata": {},
   "outputs": [
    {
     "data": {
      "text/plain": [
       "Decimal('1.618033988749894848204586834')"
      ]
     },
     "execution_count": 36,
     "metadata": {},
     "output_type": "execute_result"
    }
   ],
   "source": [
    "φ = (1 + Decimal('5').sqrt())/2\n",
    "φ"
   ]
  },
  {
   "cell_type": "markdown",
   "id": "6b3bf2fc-6739-4cc3-b387-a77dbfb9a0a5",
   "metadata": {},
   "source": [
    "### Boolean Type\n",
    "\n",
    "In Python, you may think of True and False and built-in names for the numbers 1 and 0 respectively."
   ]
  },
  {
   "cell_type": "code",
   "execution_count": 72,
   "id": "29d41903-82dc-49bf-8bd4-35cd48e2b957",
   "metadata": {},
   "outputs": [
    {
     "data": {
      "text/plain": [
       "True"
      ]
     },
     "execution_count": 72,
     "metadata": {},
     "output_type": "execute_result"
    }
   ],
   "source": [
    "True == 1"
   ]
  },
  {
   "cell_type": "code",
   "execution_count": 73,
   "id": "52a7b8ed-5a2a-4254-bda8-bec771231a24",
   "metadata": {},
   "outputs": [
    {
     "data": {
      "text/plain": [
       "True"
      ]
     },
     "execution_count": 73,
     "metadata": {},
     "output_type": "execute_result"
    }
   ],
   "source": [
    "False + False == 0"
   ]
  },
  {
   "cell_type": "code",
   "execution_count": 75,
   "id": "c7f0c943-a05b-4c61-8e16-352d0491a565",
   "metadata": {},
   "outputs": [
    {
     "data": {
      "text/plain": [
       "False"
      ]
     },
     "execution_count": 75,
     "metadata": {},
     "output_type": "execute_result"
    }
   ],
   "source": [
    "True and False"
   ]
  },
  {
   "cell_type": "code",
   "execution_count": 76,
   "id": "85c1c1a4-fe01-4811-bd98-f596311bd1a6",
   "metadata": {},
   "outputs": [
    {
     "data": {
      "text/plain": [
       "True"
      ]
     },
     "execution_count": 76,
     "metadata": {},
     "output_type": "execute_result"
    }
   ],
   "source": [
    "True or False"
   ]
  },
  {
   "cell_type": "markdown",
   "id": "cca931f8-0c94-4951-9f64-fe92b41f2a6f",
   "metadata": {},
   "source": [
    "## Type Conversions\n",
    "\n",
    "We frequently wish to convert one type of data into another.  Not every data type may be converted to every other.  Let's see some examples."
   ]
  },
  {
   "cell_type": "code",
   "execution_count": 77,
   "id": "822d3f2c-5f48-40de-8993-877ee8fc2a03",
   "metadata": {},
   "outputs": [
    {
     "data": {
      "text/plain": [
       "Fraction(1, 2)"
      ]
     },
     "execution_count": 77,
     "metadata": {},
     "output_type": "execute_result"
    }
   ],
   "source": [
    "Fraction(1,2)"
   ]
  },
  {
   "cell_type": "code",
   "execution_count": 78,
   "id": "aae6b3cf-d02e-4b84-9296-9f25ab317c32",
   "metadata": {},
   "outputs": [
    {
     "data": {
      "text/plain": [
       "0.5"
      ]
     },
     "execution_count": 78,
     "metadata": {},
     "output_type": "execute_result"
    }
   ],
   "source": [
    "float(Fraction(1,2))"
   ]
  },
  {
   "cell_type": "code",
   "execution_count": 81,
   "id": "22de4561-b0d4-441f-a0a1-16c8697c39d5",
   "metadata": {},
   "outputs": [
    {
     "data": {
      "text/plain": [
       "0"
      ]
     },
     "execution_count": 81,
     "metadata": {},
     "output_type": "execute_result"
    }
   ],
   "source": [
    "int(Fraction(3,5))  # round down to the nearest int"
   ]
  },
  {
   "cell_type": "code",
   "execution_count": 84,
   "id": "3a677771-89d2-4aa4-ac4a-8a41b97f2650",
   "metadata": {},
   "outputs": [],
   "source": [
    "from math import floor, ceil"
   ]
  },
  {
   "cell_type": "code",
   "execution_count": 85,
   "id": "9d57d823-0196-4dfc-afab-84b802f3d710",
   "metadata": {},
   "outputs": [
    {
     "data": {
      "text/plain": [
       "1"
      ]
     },
     "execution_count": 85,
     "metadata": {},
     "output_type": "execute_result"
    }
   ],
   "source": [
    "ceil(Fraction(3,5))"
   ]
  },
  {
   "cell_type": "code",
   "execution_count": 86,
   "id": "50a1ad4b-6a83-4b81-b030-3855bc79ceab",
   "metadata": {},
   "outputs": [
    {
     "data": {
      "text/plain": [
       "3.14159"
      ]
     },
     "execution_count": 86,
     "metadata": {},
     "output_type": "execute_result"
    }
   ],
   "source": [
    "float('3.14159')"
   ]
  },
  {
   "cell_type": "code",
   "execution_count": 88,
   "id": "062554f2-48af-487d-ac36-5aa962c57d3f",
   "metadata": {},
   "outputs": [
    {
     "name": "stdout",
     "output_type": "stream",
     "text": [
      "Sorry, no can do\n"
     ]
    }
   ],
   "source": [
    "try:\n",
    "    int('3.14159')\n",
    "except:\n",
    "    print(\"Sorry, no can do\")"
   ]
  },
  {
   "cell_type": "code",
   "execution_count": 89,
   "id": "21819064-3642-4394-a04f-ab93e8550a80",
   "metadata": {},
   "outputs": [
    {
     "data": {
      "text/plain": [
       "True"
      ]
     },
     "execution_count": 89,
     "metadata": {},
     "output_type": "execute_result"
    }
   ],
   "source": [
    "bool(\"Does this make sense?\")"
   ]
  },
  {
   "cell_type": "code",
   "execution_count": 90,
   "id": "01633cb6-549e-4abc-9e75-bf7c8d3a1233",
   "metadata": {},
   "outputs": [
    {
     "data": {
      "text/plain": [
       "False"
      ]
     },
     "execution_count": 90,
     "metadata": {},
     "output_type": "execute_result"
    }
   ],
   "source": [
    "bool(\"\") # empty string"
   ]
  },
  {
   "cell_type": "code",
   "execution_count": 91,
   "id": "e938f0a3-6dab-4141-b196-351d012a52c1",
   "metadata": {},
   "outputs": [
    {
     "data": {
      "text/plain": [
       "True"
      ]
     },
     "execution_count": 91,
     "metadata": {},
     "output_type": "execute_result"
    }
   ],
   "source": [
    "bool(1)"
   ]
  },
  {
   "cell_type": "code",
   "execution_count": 92,
   "id": "262e1179-691e-4fe0-a0a7-f6edd60d0696",
   "metadata": {},
   "outputs": [
    {
     "data": {
      "text/plain": [
       "False"
      ]
     },
     "execution_count": 92,
     "metadata": {},
     "output_type": "execute_result"
    }
   ],
   "source": [
    "bool(0)"
   ]
  },
  {
   "cell_type": "code",
   "execution_count": 93,
   "id": "d7e54020-15cb-4498-b5d4-39b758f0b4d6",
   "metadata": {},
   "outputs": [
    {
     "data": {
      "text/plain": [
       "False"
      ]
     },
     "execution_count": 93,
     "metadata": {},
     "output_type": "execute_result"
    }
   ],
   "source": [
    "bool(0.0)"
   ]
  },
  {
   "cell_type": "code",
   "execution_count": null,
   "id": "7a2028d1-3d93-4270-bee5-91e6a18527af",
   "metadata": {},
   "outputs": [],
   "source": []
  }
 ],
 "metadata": {
  "kernelspec": {
   "display_name": "Python 3 (ipykernel)",
   "language": "python",
   "name": "python3"
  },
  "language_info": {
   "codemirror_mode": {
    "name": "ipython",
    "version": 3
   },
   "file_extension": ".py",
   "mimetype": "text/x-python",
   "name": "python",
   "nbconvert_exporter": "python",
   "pygments_lexer": "ipython3",
   "version": "3.7.9"
  }
 },
 "nbformat": 4,
 "nbformat_minor": 5
}
