{
 "cells": [
  {
   "cell_type": "markdown",
   "id": "7940436d-ce52-4618-98af-6365a30919fb",
   "metadata": {
    "tags": []
   },
   "source": [
    "<a data-flickr-embed=\"true\" href=\"https://www.flickr.com/photos/kirbyurner/51883694976/in/album-72177720296706479/\" title=\"week1_schedule\"><img src=\"https://live.staticflickr.com/65535/51883694976_cc33017f67.jpg\" width=\"359\" height=\"500\" alt=\"week1_schedule\"></a><script async src=\"//embedr.flickr.com/assets/client-code.js\" charset=\"utf-8\"></script>\n",
    "\n",
    "# Session 2:  Clarusway Mini-Bootcamp\n",
    "\n",
    "* Variables\n",
    "* Naming Conventions\n",
    "* Introduction to Data Types \n",
    "* String Type\n",
    "* Numeric Types\n",
    "* Boolean Type\n",
    "* Type Conversions"
   ]
  },
  {
   "cell_type": "markdown",
   "id": "8e465f2e-a4bf-4836-bd5d-cf369cf044d5",
   "metadata": {
    "tags": []
   },
   "source": [
    "### Useful Links (not always unique)\n",
    "\n",
    "* [This Notebook on Colab](https://colab.research.google.com/github/4dsolutions/bootcamp/blob/main/session2.ipynb)\n",
    "* [This Notebook on nbviewer](https://nbviewer.org/github/4dsolutions/bootcamp/blob/main/session2.ipynb)\n",
    "* [PEP8.org](https://pep8.org)\n",
    "* [Free Books by Allen Downey](https://greenteapress.com/wp/)\n",
    "* [String Literals](https://docs.python.org/3/reference/lexical_analysis.html#strings)\n",
    "* [Standard Library Modules](https://docs.python.org/3/library/index.html)\n",
    "* [Built-in Types](https://docs.python.org/3/library/stdtypes.html)\n",
    "* [Unicode Home](https://home.unicode.org/)\n",
    "* [Emojipedia](https://emojipedia.org/)\n",
    "* [Python Environment (XKCD)](https://xkcd.com/1987/)\n",
    "* [LaTeX cheat sheet](https://joshua.smcvt.edu/undergradmath/undergradmath.pdf)\n",
    "* [Formatting Mini-Language](https://docs.python.org/3/library/string.html#formatspec)\n",
    "* [json module](https://docs.python.org/3/library/json.html)\n",
    "* [Python Documentation](https://docs.python.org/3/)\n",
    "* [Markdown Cheat Sheet](https://notebook.community/tschinz/iPython_Workspace/00_Admin/CheatSheet/Markdown%20CheatSheet)\n",
    "* [Repl.it](https://replit.com/site/ide)\n",
    "* [Course Album](https://flic.kr/s/aHBqjzCs82)\n",
    "* [Course Repository](https://github.com/4dsolutions/bootcamp)"
   ]
  },
  {
   "cell_type": "markdown",
   "id": "45390e1f-e380-4f74-ab3f-383839f045cb",
   "metadata": {},
   "source": [
    "### Glossary of Terms (not alphabetical)\n",
    "\n",
    "* Type: the class of an object e.g. int or str\n",
    "* Instance: a special case example of a type e.g. 3 of 'a'\n",
    "* LAMP Stack:  Linux, Apache, MySQL, a P-language\n",
    "* Linux: operating system developed by Linus Torvalds and friends\n",
    "* Apache:  popular free webserver\n",
    "* Apache Foundation:  umbrella organization for many community projects\n",
    "* MySQL:  free SQL DB now owned by Oracle\n",
    "* Postgres: free SQL DB, also known as PostgreSQL\n",
    "* NoSQL:  not-only SQL (e.g. MongoDB, Cassandra)\n",
    "* MongoDB: document store with local and cloud services\n",
    "* Apache Cassandra:  a popular NoSQL DB\n",
    "* P-language: Perl, PHP, Python (in the LAMP era)\n",
    "* Django:  full-featured web application framework\n",
    "* Rhinehart, Django: gypsy jazz guitarist\n",
    "* Flask: light-weight web framework\n",
    "* Framework: smooths many tasks if one masters a bureaucracy\n",
    "* requests:  popular Python package for talking to web servers\n",
    "* sphinx:  package for building documentation as a website\n",
    "* PyPi: Python Package Index\n",
    "* CPAN: similar to PyPi but for Perl\n",
    "* Crates.io: similar to PyPi but for Rust\n",
    "* npm:  JavaScript Registry\n",
    "* Repo: repository (usually Git-based)\n",
    "* Distro:  a remix of free software (frequently a Linux, but also Anaconda)\n",
    "* SPA:  Single Page Application; web app that rewrites in place\n",
    "\n",
    "*add more glossary terms as the course progresses*"
   ]
  },
  {
   "cell_type": "markdown",
   "id": "e6957489-dbbe-4710-9173-0168a7d1859f",
   "metadata": {},
   "source": [
    "## Variables and Naming Conventions\n",
    "\n",
    "Variables are also called \"names\" and various conventions apply.  \n",
    "\n",
    "Names cannot start with a number, for example.  \n",
    "\n",
    "Names must not contain spaces (use snake_case instead).\n",
    "\n",
    "Since [PEP 3131](https://www.python.org/dev/peps/pep-3131), non-ASCII identifiers are supported"
   ]
  },
  {
   "cell_type": "code",
   "execution_count": null,
   "id": "be39f1f3-c2d7-418a-b23e-834da3524928",
   "metadata": {},
   "outputs": [],
   "source": [
    "自 = \"self\"  # in Chinese\n",
    "自"
   ]
  },
  {
   "cell_type": "code",
   "execution_count": null,
   "id": "30b55f0e-3a8b-434f-92b2-4162e0f426af",
   "metadata": {},
   "outputs": [],
   "source": [
    "ord(\"自\")"
   ]
  },
  {
   "cell_type": "markdown",
   "id": "11b0455b-cb5a-4f9b-aa7b-b0fdea252421",
   "metadata": {},
   "source": [
    "From PEP 8:\n",
    "\n",
    "All identifiers in the Python standard library MUST use ASCII-only identifiers, and SHOULD use English words wherever feasible (in many cases, abbreviations and technical terms are used which aren’t English). In addition, string literals and comments must also be in ASCII. The only exceptions are (a) test cases testing the non-ASCII features, and (b) names of authors. Authors whose names are not based on the latin alphabet MUST provide a latin transliteration of their names."
   ]
  },
  {
   "cell_type": "code",
   "execution_count": null,
   "id": "b5c8b295-b32a-4cd5-a1f9-77a25f064c66",
   "metadata": {},
   "outputs": [],
   "source": [
    "import keyword"
   ]
  },
  {
   "cell_type": "code",
   "execution_count": null,
   "id": "2fe6db48-8951-4b11-b59a-c7995e367677",
   "metadata": {},
   "outputs": [],
   "source": [
    "print(keyword.kwlist)  # cannot be used as Python names"
   ]
  },
  {
   "cell_type": "markdown",
   "id": "ee3c3235-21d4-4bc4-8412-191054b74dee",
   "metadata": {},
   "source": [
    "## Data Types\n",
    "\n",
    "Slides: Python Basics (2 of 2)"
   ]
  },
  {
   "cell_type": "markdown",
   "id": "663f3972-020a-451e-9bcc-a504a7e8f1d7",
   "metadata": {},
   "source": [
    "### String Type"
   ]
  },
  {
   "cell_type": "code",
   "execution_count": null,
   "id": "a5c8052e-35f9-480f-a8cd-d27dcd6982b7",
   "metadata": {},
   "outputs": [],
   "source": [
    "# help(str)"
   ]
  },
  {
   "cell_type": "markdown",
   "id": "5ee20fa0-9d3a-4619-91e8-5303ed0d02ff",
   "metadata": {},
   "source": [
    "Characters between single or triple quotes are called \"string literals\".  The quotes themselves may be \\\" or \\' and are called \"string delimiters\"."
   ]
  },
  {
   "cell_type": "code",
   "execution_count": null,
   "id": "11201840-02c0-4eb5-b7ba-80ae97421503",
   "metadata": {},
   "outputs": [],
   "source": [
    "s = 'Python has no individual character type, distinct from the string type.'\n",
    "len(s)"
   ]
  },
  {
   "cell_type": "markdown",
   "id": "a07cd279-09b7-4d61-8632-1de5ea04db07",
   "metadata": {},
   "source": [
    "The code below is an eye-opening because it introduces \"the dot\" (the accessor operator) for reaching inside the object to its left, to find the method name (in this case) on the right, and to call it."
   ]
  },
  {
   "cell_type": "code",
   "execution_count": null,
   "id": "9ff31380-e17e-40e2-9984-39ab9ee3c6a4",
   "metadata": {},
   "outputs": [],
   "source": [
    "print(s.title())\n",
    "print(s.lower())\n",
    "print(s.upper())\n",
    "print(s.capitalize())"
   ]
  },
  {
   "cell_type": "code",
   "execution_count": null,
   "id": "985d708d-4f5e-40d1-8869-61d06ca44e59",
   "metadata": {},
   "outputs": [],
   "source": [
    "# compare:\n",
    "s.title"
   ]
  },
  {
   "cell_type": "code",
   "execution_count": null,
   "id": "633cef17-ddf7-489f-9f36-d5f88fde6239",
   "metadata": {},
   "outputs": [],
   "source": [
    "callable(s.title)"
   ]
  },
  {
   "cell_type": "markdown",
   "id": "64bfc2ed-7d2b-43ff-8c7a-2c13de5dedc2",
   "metadata": {},
   "source": [
    "### Unicode: Beyond ASCII\n",
    "\n",
    "ASCII = American Standard Code for Information Interchange, and at first consisted of only [128 characters](http://www.csc.villanova.edu/~tway/resources/ascii-table.html), including \"control characters\" such as \"newline\" and \"tab\".  \n",
    "\n",
    "[Extended ASCII](https://www.ascii-code.com/) doubled the number of characters to 256 but there was still no wide agreement on what these characters should be.  \n",
    "\n",
    "Unicode is the new global standard and includes millions of characters, with room to grow.\n",
    "\n",
    "Unicode's [UTF-8](https://www.w3schools.com/charsets/ref_html_utf8.asp) and ASCII are the same for the first 128 characters."
   ]
  },
  {
   "cell_type": "code",
   "execution_count": null,
   "id": "d2c20f8d-e17a-4117-833d-833f6debe153",
   "metadata": {},
   "outputs": [],
   "source": [
    "ord(\"\\n\")"
   ]
  },
  {
   "cell_type": "code",
   "execution_count": null,
   "id": "b1a1bec5-2e77-45d1-bd2e-1973c9ff7298",
   "metadata": {},
   "outputs": [],
   "source": [
    "ord(\"\\r\")"
   ]
  },
  {
   "cell_type": "code",
   "execution_count": null,
   "id": "34403876-e243-4ac6-8590-166da60586f9",
   "metadata": {},
   "outputs": [],
   "source": [
    "s = \"I ❤ 🐍\"  # emoji are part of unicode (but cannot be Python identifiers)"
   ]
  },
  {
   "cell_type": "code",
   "execution_count": null,
   "id": "9ca9dc8f-3930-4835-9e6c-efdf298b34c2",
   "metadata": {},
   "outputs": [],
   "source": [
    "\"❤\" in s"
   ]
  },
  {
   "cell_type": "code",
   "execution_count": null,
   "id": "859b20b6-5124-4612-8025-459726a5f6a2",
   "metadata": {},
   "outputs": [],
   "source": [
    "bytes(s, encoding='UTF-8')"
   ]
  },
  {
   "cell_type": "code",
   "execution_count": null,
   "id": "e5c5005c-f92c-4124-a65b-0dab6809528a",
   "metadata": {},
   "outputs": [],
   "source": [
    "s.index(\"❤\")"
   ]
  },
  {
   "cell_type": "code",
   "execution_count": null,
   "id": "0672b853-599f-42bc-b02c-83e0b7d4cf4f",
   "metadata": {},
   "outputs": [],
   "source": [
    "ord(\"❤\")"
   ]
  },
  {
   "cell_type": "code",
   "execution_count": null,
   "id": "1fbc21dc-c7c3-455d-b2c9-95e913c0c300",
   "metadata": {},
   "outputs": [],
   "source": [
    "hex(10084)"
   ]
  },
  {
   "cell_type": "code",
   "execution_count": null,
   "id": "a1b9e101-45fb-4785-8524-2aaec4a8f251",
   "metadata": {},
   "outputs": [],
   "source": [
    "chr(0x2764)"
   ]
  },
  {
   "cell_type": "code",
   "execution_count": null,
   "id": "e26c9b2b-24c5-445d-a951-7dae78987622",
   "metadata": {},
   "outputs": [],
   "source": [
    "ord('🐍')"
   ]
  },
  {
   "cell_type": "code",
   "execution_count": null,
   "id": "105d99e0-2edb-4e08-ae67-13e9e8c01652",
   "metadata": {},
   "outputs": [],
   "source": [
    "chr(128013)"
   ]
  },
  {
   "cell_type": "markdown",
   "id": "f53e3d33-c3f5-4fbc-9420-034265be9e74",
   "metadata": {},
   "source": [
    "### Sending Strings Between Computers\n",
    "\n",
    "Think of Gmail, an SPA or Single Page Application, which stays focused on a web page that keeps updating itself by contacting the server.  Traffic back and forth, from server to client, is likely JSON, which looks very much like Python's nested data structures with minor differences.  \n",
    "\n",
    "By turning complex, structured data into data structures, then sent as a string (serialized), the sender and receiver maintain the complexity level.  Python objects (such as what's in the Gmail inbox) get continuously refreshed in a language they understand (Python).\n",
    "\n",
    "Since Gmail runs inside a web client, its implementation language would actually be JavaScript. Python is one of many languages capable of scripting a web server, communicating back to a web client.  The real point is to keep focusing on strings as capable of maintaining structure even as the information gets serialized and transmitted. JSON, XML, CSV are some of these protocols."
   ]
  },
  {
   "cell_type": "code",
   "execution_count": null,
   "id": "bc3ee68f-3518-4f18-bfad-1d523c339a3d",
   "metadata": {},
   "outputs": [],
   "source": [
    "import json  # JavaScript Object Notation"
   ]
  },
  {
   "cell_type": "code",
   "execution_count": null,
   "id": "ed929f49-870e-4aa9-8614-38ac5a3c2854",
   "metadata": {},
   "outputs": [],
   "source": [
    "obj = json.loads('{\"key\": 3}') # string of structured data"
   ]
  },
  {
   "cell_type": "code",
   "execution_count": null,
   "id": "3f474b47-7656-4aff-88ed-615cdb4d31e3",
   "metadata": {},
   "outputs": [],
   "source": [
    "obj  # turned into a Python dict, coming up in our intro"
   ]
  },
  {
   "cell_type": "markdown",
   "id": "b3d782b5-92c0-4a99-a48f-765dcce9a3c7",
   "metadata": {},
   "source": [
    "### String Substitution\n",
    "\n",
    "Probably the most common operation we do with strings is dropping shorter strings into templates, which we call \"filling out forms\".  Substitution is akin to concatenation, which means splicing strings together to make longer strings.\n",
    "\n",
    "Python, or any general purpose computer language, is generous with string operations, which includes formatting them rather precisely.\n",
    "\n",
    "A good way to introduce string substitution is through the idea of \"MadLibs\" which are silly stories designed around \"fill in the blanks\" substitutions.\n",
    "\n",
    "Let's contrast a string.Template-based solution with a more conventional solution using curly-brace placeholders.  Substitution is the aim of both methods."
   ]
  },
  {
   "cell_type": "code",
   "execution_count": null,
   "id": "9cfcd5fa-b6f4-4769-9f7c-81be7f655238",
   "metadata": {},
   "outputs": [],
   "source": [
    "from string import Template  # rarely used, exotic\n",
    "t = Template(\"\"\"\n",
    "Start with a string but with $dollar $sign\n",
    "strings embedded.  The dollar signed strings \n",
    "then become the basis for substitute values.\n",
    "\"\"\")\n",
    "t"
   ]
  },
  {
   "cell_type": "code",
   "execution_count": null,
   "id": "cc2d8acb-1a50-4bae-8c14-c088fb03c0b4",
   "metadata": {},
   "outputs": [],
   "source": [
    "# help(t)"
   ]
  },
  {
   "cell_type": "code",
   "execution_count": null,
   "id": "20b18da6-09f7-4a2e-81b0-9ea15cb142f1",
   "metadata": {},
   "outputs": [],
   "source": [
    "print(t.substitute({\"dollar\": \"externally\", \"sign\": \"provided\"}))"
   ]
  },
  {
   "cell_type": "markdown",
   "id": "4b22d202-90d3-46b1-8e74-f0f52c9d6df0",
   "metadata": {},
   "source": [
    "The above would be considered arcane Python because the Template type in the string library is rarely used.  The more common treatment would be:"
   ]
  },
  {
   "cell_type": "code",
   "execution_count": null,
   "id": "28cc3748-4592-4547-952f-0187fa812ac6",
   "metadata": {},
   "outputs": [],
   "source": [
    "print(\n",
    "\"\"\"\n",
    "Start with a string but with {dollar} {sign}\n",
    "strings embedded.  The dollar signed strings \n",
    "then become the basis for substitute values.\n",
    "\"\"\".format(**{\"dollar\": \"externally\", \"sign\": \"provided\"}))"
   ]
  },
  {
   "cell_type": "markdown",
   "id": "80302a4d-e7ed-42d7-bf09-48bbe6f860c2",
   "metadata": {},
   "source": [
    "Equivalently:"
   ]
  },
  {
   "cell_type": "code",
   "execution_count": null,
   "id": "59b43cf8-5f48-407b-8e0d-1bc47bc7cb19",
   "metadata": {},
   "outputs": [],
   "source": [
    "print(\n",
    "\"\"\"\n",
    "Start with a string but with {dollar} {sign}\n",
    "strings embedded.  The dollar signed strings \n",
    "then become the basis for substitute values.\n",
    "\"\"\".format(dollar = \"externally\", sign = \"provided\"))"
   ]
  },
  {
   "cell_type": "markdown",
   "id": "275b2043-3734-4ca5-9d6e-24fd78457019",
   "metadata": {},
   "source": [
    "Finally, there's another way to accomplish string substitution and that's with what we call `printf` format, short for \"formatted print\".  The `printf` idea spreads across several languages such that [reading about it in Wikipedia](https://en.wikipedia.org/wiki/Printf_format_string) gives one a whirlwind tour.\n",
    "\n",
    "The printf solution was Python's only solution until the emergence of curly brace substitution around Python 3.6.  The legacy way of doing things has not been deprecated.  Consider it a permitted dialect."
   ]
  },
  {
   "cell_type": "code",
   "execution_count": null,
   "id": "e07d268f-e16c-4811-9b88-117a159268a2",
   "metadata": {},
   "outputs": [],
   "source": [
    "\"this %s %s substitution using printf\" % (\"is\", \"string\")"
   ]
  },
  {
   "cell_type": "markdown",
   "id": "c9c0f249-f8e6-4202-af49-e790057aff60",
   "metadata": {},
   "source": [
    "We'll be revisiting these features in a future session."
   ]
  },
  {
   "cell_type": "markdown",
   "id": "b63aae41-899e-4ad8-807c-9ccc3df38e7c",
   "metadata": {},
   "source": [
    "### Numeric Types\n",
    "\n",
    "To qualify as a Numeric Type, one needs a characteristic \"bag of tricks\" such as the ability to engage in arithmetic operations.  Ideas from taxonomy (the classification of plants and animals etc.) may be helpful.  Numeric Types form a \"family tree\"."
   ]
  },
  {
   "cell_type": "code",
   "execution_count": null,
   "id": "bbfab263-8d72-4924-bcfc-a99fcc23ca82",
   "metadata": {},
   "outputs": [],
   "source": [
    "from math import pi, e\n",
    "print(\"𝞹 = \", pi, \"\\n\", \"e = \", e, sep=\"\")"
   ]
  },
  {
   "cell_type": "code",
   "execution_count": null,
   "id": "422c75e9-4836-4d36-be5d-3601416d6194",
   "metadata": {},
   "outputs": [],
   "source": [
    "type(pi)"
   ]
  },
  {
   "cell_type": "code",
   "execution_count": null,
   "id": "37b194fe-23ce-4cfa-b4f1-eabf09f2dbfe",
   "metadata": {},
   "outputs": [],
   "source": [
    "type(1)"
   ]
  },
  {
   "cell_type": "markdown",
   "id": "9cc73a7a-1396-4f58-a1dc-5d1ab0aaf2d5",
   "metadata": {},
   "source": [
    "### Object Oriented:  What Does it Mean?\n",
    "\n",
    "Each instance of a type, say 1, 2 or 3 of the int type, has access to that type's methods i.e. behaviors.  As an int, an integer, I'm expected to know certain tricks, such as how to add to other integers.  I carry this knowledge \"in my bones\", meaning through the \"dunder\" style special names that pair with prettier syntax at a higher level."
   ]
  },
  {
   "cell_type": "code",
   "execution_count": null,
   "id": "6a19c621-7eee-458c-b4f8-3b2be5bb14db",
   "metadata": {},
   "outputs": [],
   "source": [
    "print(dir(1)) # lots of 'bones' or 'ribs' or 'special names'"
   ]
  },
  {
   "cell_type": "code",
   "execution_count": null,
   "id": "8982d875-168c-477b-9e18-3f981aff5e7c",
   "metadata": {},
   "outputs": [],
   "source": [
    "1 .__add__(2)  # ugly, but what 1 + 2 actually triggers"
   ]
  },
  {
   "cell_type": "code",
   "execution_count": null,
   "id": "ee449856-8964-45b1-9fed-9309e2771e94",
   "metadata": {},
   "outputs": [],
   "source": [
    "# help(1)"
   ]
  },
  {
   "cell_type": "markdown",
   "id": "0a34a2c7-a9b1-4a0a-a28e-63d5ea4946f0",
   "metadata": {},
   "source": [
    "### More Numeric Types\n",
    "\n",
    "As a Fraction type, I have \"attributes\" that other Numeric Types will not have, such as me.numerator and me.denominator.  I'm still in the Numeric Type family, and yet the way I implement the arithmetic operators (paired with methods) is unique to me."
   ]
  },
  {
   "cell_type": "code",
   "execution_count": null,
   "id": "1c85ca95-12de-47a7-b51b-c89091e32975",
   "metadata": {},
   "outputs": [],
   "source": [
    "from fractions import Fraction"
   ]
  },
  {
   "cell_type": "code",
   "execution_count": null,
   "id": "fda5f305-7fe3-455c-9da3-f9ab54e8c068",
   "metadata": {},
   "outputs": [],
   "source": [
    "p = Fraction(1, 2)\n",
    "q = Fraction(2, 3)\n",
    "r = p + q\n",
    "r"
   ]
  },
  {
   "cell_type": "code",
   "execution_count": null,
   "id": "f2c5fa19-0f52-49ca-8ac3-7daac1d3d49c",
   "metadata": {},
   "outputs": [],
   "source": [
    "r.numerator"
   ]
  },
  {
   "cell_type": "code",
   "execution_count": null,
   "id": "952b4e8f-0ce2-4d0b-ba1e-ac9e8579d00f",
   "metadata": {},
   "outputs": [],
   "source": [
    "p * q"
   ]
  },
  {
   "cell_type": "code",
   "execution_count": null,
   "id": "d425dee8-c276-4a27-ba9f-dd35df6641b6",
   "metadata": {},
   "outputs": [],
   "source": [
    "p ** q # output is naturally float"
   ]
  },
  {
   "cell_type": "markdown",
   "id": "bd9e7804-ff62-4140-b2a3-b4c1359a331d",
   "metadata": {},
   "source": [
    "$(1/2)^{2/3} \\approx  0.6299605249474366$ "
   ]
  },
  {
   "cell_type": "code",
   "execution_count": null,
   "id": "a9de90ca-4eab-4690-bfe0-156580bfea3b",
   "metadata": {},
   "outputs": [],
   "source": [
    "Fraction(1, 2) ** 2      # \"staying in character\""
   ]
  },
  {
   "cell_type": "code",
   "execution_count": null,
   "id": "2645c6fd-e11b-4965-b1e0-cbc5e3e922e6",
   "metadata": {},
   "outputs": [],
   "source": [
    "Fraction(1, 2) ** (1/2)  # coerced to change type"
   ]
  },
  {
   "cell_type": "code",
   "execution_count": null,
   "id": "a6a7a5e8-8509-4e69-aa90-d083e9a7486e",
   "metadata": {},
   "outputs": [],
   "source": [
    "from math import sqrt"
   ]
  },
  {
   "cell_type": "code",
   "execution_count": null,
   "id": "e14cfa78-9b15-45c2-9da3-09ed0c4aaa84",
   "metadata": {},
   "outputs": [],
   "source": [
    "pow(p, q)"
   ]
  },
  {
   "cell_type": "code",
   "execution_count": null,
   "id": "acb8523d-ff67-4232-b4f5-df217411d168",
   "metadata": {},
   "outputs": [],
   "source": [
    "from decimal import Decimal"
   ]
  },
  {
   "cell_type": "markdown",
   "id": "c442f8bd-1f3b-4e8b-8cfa-4f8f566caf7a",
   "metadata": {},
   "source": [
    "Jupyter Notebooks understand $\\LaTeX$:\n",
    "$$\n",
    "\\phi = (1 + \\sqrt{5})/2 \n",
    "$$"
   ]
  },
  {
   "cell_type": "code",
   "execution_count": null,
   "id": "cb627b6f-afad-432f-b10a-2cbe8781b503",
   "metadata": {},
   "outputs": [],
   "source": [
    "φ = (1 + Decimal('5').sqrt())/2\n",
    "φ"
   ]
  },
  {
   "cell_type": "code",
   "execution_count": null,
   "id": "1e605c6b-503e-4785-a17c-f49c2e948e10",
   "metadata": {},
   "outputs": [],
   "source": [
    "import decimal\n",
    "decimal.getcontext().prec"
   ]
  },
  {
   "cell_type": "code",
   "execution_count": null,
   "id": "a778334d-b4f1-4927-9835-eebe7f72328f",
   "metadata": {},
   "outputs": [],
   "source": [
    "decimal.getcontext().prec = 100\n",
    "φ = (1 + Decimal('5').sqrt())/2\n",
    "φ"
   ]
  },
  {
   "cell_type": "markdown",
   "id": "6b3bf2fc-6739-4cc3-b387-a77dbfb9a0a5",
   "metadata": {},
   "source": [
    "### Boolean Type  (more ahead)\n",
    "\n",
    "In Python, you may think of True and False and built-in names for the numbers 1 and 0 respectively."
   ]
  },
  {
   "cell_type": "code",
   "execution_count": null,
   "id": "29d41903-82dc-49bf-8bd4-35cd48e2b957",
   "metadata": {},
   "outputs": [],
   "source": [
    "True == 1"
   ]
  },
  {
   "cell_type": "code",
   "execution_count": null,
   "id": "52a7b8ed-5a2a-4254-bda8-bec771231a24",
   "metadata": {},
   "outputs": [],
   "source": [
    "False + False == 0"
   ]
  },
  {
   "cell_type": "code",
   "execution_count": null,
   "id": "c7f0c943-a05b-4c61-8e16-352d0491a565",
   "metadata": {},
   "outputs": [],
   "source": [
    "True and False"
   ]
  },
  {
   "cell_type": "code",
   "execution_count": null,
   "id": "85c1c1a4-fe01-4811-bd98-f596311bd1a6",
   "metadata": {},
   "outputs": [],
   "source": [
    "True or False"
   ]
  },
  {
   "cell_type": "markdown",
   "id": "cca931f8-0c94-4951-9f64-fe92b41f2a6f",
   "metadata": {},
   "source": [
    "## Type Conversions\n",
    "\n",
    "We frequently wish to convert one type of data into another.  Not every data type may be converted to every other.  Let's see some examples."
   ]
  },
  {
   "cell_type": "code",
   "execution_count": null,
   "id": "822d3f2c-5f48-40de-8993-877ee8fc2a03",
   "metadata": {},
   "outputs": [],
   "source": [
    "Fraction(1,2)"
   ]
  },
  {
   "cell_type": "code",
   "execution_count": null,
   "id": "aae6b3cf-d02e-4b84-9296-9f25ab317c32",
   "metadata": {},
   "outputs": [],
   "source": [
    "float(Fraction(1,2))"
   ]
  },
  {
   "cell_type": "code",
   "execution_count": null,
   "id": "22de4561-b0d4-441f-a0a1-16c8697c39d5",
   "metadata": {},
   "outputs": [],
   "source": [
    "int(Fraction(3,5))  # round down to the nearest int"
   ]
  },
  {
   "cell_type": "code",
   "execution_count": null,
   "id": "3a677771-89d2-4aa4-ac4a-8a41b97f2650",
   "metadata": {},
   "outputs": [],
   "source": [
    "from math import floor, ceil"
   ]
  },
  {
   "cell_type": "code",
   "execution_count": null,
   "id": "9d57d823-0196-4dfc-afab-84b802f3d710",
   "metadata": {},
   "outputs": [],
   "source": [
    "ceil(Fraction(3,5))"
   ]
  },
  {
   "cell_type": "code",
   "execution_count": null,
   "id": "50a1ad4b-6a83-4b81-b030-3855bc79ceab",
   "metadata": {},
   "outputs": [],
   "source": [
    "float('3.14159')"
   ]
  },
  {
   "cell_type": "code",
   "execution_count": null,
   "id": "062554f2-48af-487d-ac36-5aa962c57d3f",
   "metadata": {},
   "outputs": [],
   "source": [
    "try:\n",
    "    int('3.14159')\n",
    "except:\n",
    "    print(\"Sorry, no can do\")"
   ]
  },
  {
   "cell_type": "code",
   "execution_count": null,
   "id": "21819064-3642-4394-a04f-ab93e8550a80",
   "metadata": {},
   "outputs": [],
   "source": [
    "bool(\"Does this make sense?\")"
   ]
  },
  {
   "cell_type": "code",
   "execution_count": null,
   "id": "01633cb6-549e-4abc-9e75-bf7c8d3a1233",
   "metadata": {},
   "outputs": [],
   "source": [
    "bool(\"\") # empty string"
   ]
  },
  {
   "cell_type": "code",
   "execution_count": null,
   "id": "e938f0a3-6dab-4141-b196-351d012a52c1",
   "metadata": {},
   "outputs": [],
   "source": [
    "bool(1)"
   ]
  },
  {
   "cell_type": "code",
   "execution_count": null,
   "id": "262e1179-691e-4fe0-a0a7-f6edd60d0696",
   "metadata": {},
   "outputs": [],
   "source": [
    "bool(0)"
   ]
  },
  {
   "cell_type": "code",
   "execution_count": null,
   "id": "d7e54020-15cb-4498-b5d4-39b758f0b4d6",
   "metadata": {},
   "outputs": [],
   "source": [
    "bool(0.0)"
   ]
  },
  {
   "cell_type": "markdown",
   "id": "a3fdb725-459d-4154-a71c-15c54afd4d36",
   "metadata": {},
   "source": [
    "\n",
    "<a data-flickr-embed=\"true\" href=\"https://www.flickr.com/photos/kirbyurner/30269841575/in/album-72157660337424600/\" title=\"DSCF9928\"><img src=\"https://live.staticflickr.com/5691/30269841575_8bea763a54.jpg\" width=\"375\" height=\"500\" alt=\"DSCF9928\"></a><script async src=\"//embedr.flickr.com/assets/client-code.js\" charset=\"utf-8\"></script>\n"
   ]
  }
 ],
 "metadata": {
  "kernelspec": {
   "display_name": "Python 3 (ipykernel)",
   "language": "python",
   "name": "python3"
  },
  "language_info": {
   "codemirror_mode": {
    "name": "ipython",
    "version": 3
   },
   "file_extension": ".py",
   "mimetype": "text/x-python",
   "name": "python",
   "nbconvert_exporter": "python",
   "pygments_lexer": "ipython3",
   "version": "3.7.9"
  }
 },
 "nbformat": 4,
 "nbformat_minor": 5
}
