{
 "cells": [
  {
   "cell_type": "markdown",
   "id": "826d9bdd-5dd7-4d33-9435-34a0b0c61e4f",
   "metadata": {},
   "source": [
    "<a data-flickr-embed=\"true\" href=\"https://www.flickr.com/photos/kirbyurner/51883694941/in/album-72177720296706479/\" title=\"week2_schedule\"><img src=\"https://live.staticflickr.com/65535/51883694941_84ef7655e9.jpg\" width=\"359\" height=\"500\" alt=\"week2_schedule\"></a><script async src=\"//embedr.flickr.com/assets/client-code.js\" charset=\"utf-8\"></script>\n",
    "\n",
    "# Session 5:  Clarusway Mini-Bootcamp\n",
    "\n",
    "* Main String Operations\n",
    "* Collection Types\n",
    "\n",
    "Useful Links:\n",
    "\n"
   ]
  },
  {
   "cell_type": "markdown",
   "id": "06bdf8f0-1494-4c1f-b8a2-0b35142d9e04",
   "metadata": {},
   "source": [
    "## Main String Operations"
   ]
  },
  {
   "cell_type": "markdown",
   "id": "65ac1143-7a68-466c-abd7-a9c451743a09",
   "metadata": {},
   "source": [
    "## Collection Types\n",
    "\n",
    "See LMS.\n",
    "\n",
    "Actually a string is an example of a collection type in that each character is an individual element thereof, and addressible using index notation.\n",
    "\n",
    "The list should seem similar, in having a left to right ascending index for each element, starting from 0.  The elements may be of different types."
   ]
  },
  {
   "cell_type": "code",
   "execution_count": 2,
   "id": "0ac29847-fbdf-4707-859a-4687ade1710d",
   "metadata": {},
   "outputs": [],
   "source": [
    "the_list = [\"string\", 1, [], 10.10]"
   ]
  },
  {
   "cell_type": "code",
   "execution_count": 3,
   "id": "9a7df2a7-3b96-4014-b6db-fe7abd650e03",
   "metadata": {},
   "outputs": [
    {
     "data": {
      "text/plain": [
       "str"
      ]
     },
     "execution_count": 3,
     "metadata": {},
     "output_type": "execute_result"
    }
   ],
   "source": [
    "type(the_list[0])"
   ]
  },
  {
   "cell_type": "code",
   "execution_count": 4,
   "id": "03c9adc6-e26b-4fb8-8326-d33050615743",
   "metadata": {},
   "outputs": [
    {
     "data": {
      "text/plain": [
       "int"
      ]
     },
     "execution_count": 4,
     "metadata": {},
     "output_type": "execute_result"
    }
   ],
   "source": [
    "type(the_list[1])"
   ]
  },
  {
   "cell_type": "code",
   "execution_count": 5,
   "id": "180e44fc-fd56-46d0-b249-8847582984f6",
   "metadata": {},
   "outputs": [
    {
     "data": {
      "text/plain": [
       "list"
      ]
     },
     "execution_count": 5,
     "metadata": {},
     "output_type": "execute_result"
    }
   ],
   "source": [
    "type(the_list[2])"
   ]
  },
  {
   "cell_type": "markdown",
   "id": "310f0a24-f7d7-4967-b9ba-8a7c6e16251d",
   "metadata": {},
   "source": [
    "The list is one of the most used data structures.  Because they're sequences, one is able to \"slice\" them using slice notation."
   ]
  },
  {
   "cell_type": "code",
   "execution_count": 6,
   "id": "7c774629-8948-4def-8728-b6cae2199cdb",
   "metadata": {},
   "outputs": [
    {
     "data": {
      "text/plain": [
       "[1, []]"
      ]
     },
     "execution_count": 6,
     "metadata": {},
     "output_type": "execute_result"
    }
   ],
   "source": [
    "the_list[1:-1]"
   ]
  },
  {
   "cell_type": "code",
   "execution_count": 7,
   "id": "7f855aeb-8626-461a-bbe2-ed16a91dd2aa",
   "metadata": {},
   "outputs": [
    {
     "data": {
      "text/plain": [
       "[1, [], 10.1]"
      ]
     },
     "execution_count": 7,
     "metadata": {},
     "output_type": "execute_result"
    }
   ],
   "source": [
    "the_slice = slice(1, None)\n",
    "the_list[the_slice]"
   ]
  },
  {
   "cell_type": "markdown",
   "id": "77c224e9-6294-4454-8a42-e463781f8318",
   "metadata": {},
   "source": [
    "<blockquote class=\"twitter-tweet\"><p lang=\"en\" dir=\"ltr\">Remember <a href=\"https://twitter.com/hashtag/Python?src=hash&amp;ref_src=twsrc%5Etfw\">#Python</a> sets and dicts use a hash table internally which makes them very fast - algorithmic complexity of O(1) - for lookups (e.g. using the &quot;in&quot; operator).</p>&mdash; Bob Belderbos (@bbelderbos) <a href=\"https://twitter.com/bbelderbos/status/1493526761195417602?ref_src=twsrc%5Etfw\">February 15, 2022</a></blockquote> <script async src=\"https://platform.twitter.com/widgets.js\" charset=\"utf-8\"></script> "
   ]
  },
  {
   "cell_type": "code",
   "execution_count": null,
   "id": "4af2e2f3-5c73-4f81-9cb6-cfa3229f76ef",
   "metadata": {},
   "outputs": [],
   "source": []
  }
 ],
 "metadata": {
  "kernelspec": {
   "display_name": "Python 3 (ipykernel)",
   "language": "python",
   "name": "python3"
  },
  "language_info": {
   "codemirror_mode": {
    "name": "ipython",
    "version": 3
   },
   "file_extension": ".py",
   "mimetype": "text/x-python",
   "name": "python",
   "nbconvert_exporter": "python",
   "pygments_lexer": "ipython3",
   "version": "3.7.9"
  }
 },
 "nbformat": 4,
 "nbformat_minor": 5
}
