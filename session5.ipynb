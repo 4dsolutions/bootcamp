{
 "cells": [
  {
   "cell_type": "markdown",
   "id": "826d9bdd-5dd7-4d33-9435-34a0b0c61e4f",
   "metadata": {},
   "source": [
    "<a data-flickr-embed=\"true\" href=\"https://www.flickr.com/photos/kirbyurner/51883694941/in/album-72177720296706479/\" title=\"week2_schedule\"><img src=\"https://live.staticflickr.com/65535/51883694941_84ef7655e9.jpg\" width=\"359\" height=\"500\" alt=\"week2_schedule\"></a><script async src=\"//embedr.flickr.com/assets/client-code.js\" charset=\"utf-8\"></script>\n",
    "\n",
    "# Session 5:  Clarusway Mini-Bootcamp\n",
    "\n",
    "* Main String Operations\n",
    "* Collection Types"
   ]
  },
  {
   "cell_type": "markdown",
   "id": "b1028514-836a-4760-81da-e5811a776d3e",
   "metadata": {},
   "source": [
    "\n",
    "### Useful Links\n",
    "\n",
    "* [This Notebook on Colab](https://colab.research.google.com/github/4dsolutions/bootcamp/blob/main/session1.ipynb)\n",
    "* [This Notebook on nbviewer](https://nbviewer.org/github/4dsolutions/bootcamp/blob/main/session1.ipynb)\n",
    "* [Kaggle](https://www.kaggle.com)\n",
    "* [A Neural Network Playground](https://playground.tensorflow.org/)\n",
    "* [Machine Learning Guide](https://www.datasciencecentral.com/top-down-learning-path-machine-learning-for-software-engineers/)\n",
    "* [Common String Operations](https://docs.python.org/3/library/string.html)\n",
    "* [PyData: Built-in Superheros by David Beazley](https://youtu.be/lyDLAutA88s)\n",
    "* [Python Data Structures](https://docs.python.org/3/tutorial/datastructures.html)\n",
    "* [Walrus Operator](https://youtu.be/QVIpHAsgMas)\n",
    "* [Course Album](https://flic.kr/s/aHBqjzCs82)\n",
    "* [Course Repository](https://github.com/4dsolutions/bootcamp)\n",
    "* [MongoDB localhost edition](https://www.mongodb.com/try/download/community)\n",
    "* [Python driver for MongoDB](https://www.mongodb.com/languages/python)"
   ]
  },
  {
   "cell_type": "markdown",
   "id": "0556ba83-891e-4900-a741-58534698e325",
   "metadata": {},
   "source": [
    "### Glossary of Terms (not alphabetical)\n",
    "\n",
    "* Boole, George: inventor of Boolean algebra\n",
    "* Byron, Ada: inventor of computer programming\n",
    "* Hopper, Grace:  computer scientists, US Navy Rear Admiral\n",
    "* DARPA: Defense Advanced Research Projects Agency\n",
    "* IDLE:  Python's official IDE (which DARPA helped fund)\n",
    "* Kleene, Stephen Cole:  mathematician, inventor of regex syntax\n",
    "* Regular Expression: a pattern-matching string-based a mini-language\n",
    "* re:  Python's Standard Library module implementing Regular Expressions\n",
    "* regex:  Regular Expression"
   ]
  },
  {
   "cell_type": "markdown",
   "id": "06bdf8f0-1494-4c1f-b8a2-0b35142d9e04",
   "metadata": {},
   "source": [
    "## Main String Operations\n",
    "\n",
    "Computer programming is as much about string manipulation as number crunching.\n",
    "\n"
   ]
  },
  {
   "cell_type": "code",
   "execution_count": null,
   "id": "83bc4241-afd8-499a-bc57-8bc3b3948fad",
   "metadata": {},
   "outputs": [],
   "source": [
    "import string"
   ]
  },
  {
   "cell_type": "code",
   "execution_count": null,
   "id": "7b8d6c07-63e1-4ae3-9dde-db95602fe94d",
   "metadata": {},
   "outputs": [],
   "source": [
    "string.ascii_lowercase"
   ]
  },
  {
   "cell_type": "code",
   "execution_count": null,
   "id": "b79b4d0d-03c3-4d77-9c26-2f5c34fabb3f",
   "metadata": {},
   "outputs": [],
   "source": [
    "string.punctuation"
   ]
  },
  {
   "cell_type": "code",
   "execution_count": null,
   "id": "e9a22345-512d-469e-b4e8-677155381ebc",
   "metadata": {},
   "outputs": [],
   "source": [
    "\"I like JavaScript\".replace(\"JavaScript\", \"Python\")  # or like both"
   ]
  },
  {
   "cell_type": "code",
   "execution_count": null,
   "id": "5008509b-e99e-44d0-b2f3-4f4c42047ca8",
   "metadata": {},
   "outputs": [],
   "source": [
    "webpage = \\\n",
    "\"\"\"\n",
    "<html>\n",
    "<head>\n",
    "<title>{title}</title>\n",
    "</head>\n",
    "<body>\n",
    "{body}\n",
    "</body>\n",
    "</html>\n",
    "\"\"\""
   ]
  },
  {
   "cell_type": "code",
   "execution_count": null,
   "id": "e3585f9e-b4db-44e6-8c19-402513b9837d",
   "metadata": {},
   "outputs": [],
   "source": [
    "body = \\\n",
    "\"\"\"\n",
    "<p>Here is some simple HTML.  This section\n",
    "will be substituted for {body} in a template\n",
    "the contains outermost tags.</p>\n",
    "<ul>\n",
    "<li>Python:  Batteries included</li>\n",
    "<li>Python:  Fits Your Brain</li>\n",
    "<li>Python:  Plays Well with Others</li>\n",
    "</ul>\n",
    "\"\"\"\n",
    "\n",
    "title = \"Why Python is Great\"\n",
    "\n",
    "outfile = open(\"why_python.html\", \"w\")\n",
    "print(webpage.format(title=title, body=body), file=outfile)\n",
    "outfile.close()"
   ]
  },
  {
   "cell_type": "markdown",
   "id": "7e744831-3783-417b-9209-480b760a2899",
   "metadata": {},
   "source": [
    "## Collection Types\n",
    "\n",
    "See Slides.\n",
    "\n",
    "Collections store multiple elements within some kind of structure.  The elements may themselves be collections, meaning collection types may be nested to arbitrary depth, which is not to say they should be nested too deeply."
   ]
  },
  {
   "cell_type": "markdown",
   "id": "d277eede-4bf4-4828-9819-8f700cbe191c",
   "metadata": {},
   "source": [
    "### Sequences versus Mappings\n",
    "\n",
    "Sequence types have a left to right and right to left order.  One my access them with numeric indexes, and also slice them.\n",
    "\n",
    "Mappings are not necessarily ordered by a numeric index and cannot be sliced.  They do not have \"leftmost\" or \"rightmost\" elements."
   ]
  },
  {
   "cell_type": "markdown",
   "id": "dad98f9d-1058-4899-8957-78c13eabf170",
   "metadata": {},
   "source": [
    "Actually a string is a good example of a sequence in that each character is an individual element thereof, and addressible using index and/or slice notation.\n",
    "\n",
    "The list should seem similar, in having a left to right ascending index for each element, starting from 0.  The elements may be of different types.  The list is also mutable."
   ]
  },
  {
   "cell_type": "code",
   "execution_count": null,
   "id": "0ac29847-fbdf-4707-859a-4687ade1710d",
   "metadata": {},
   "outputs": [],
   "source": [
    "the_list = [\"string\", 1, [], 10.10]\n",
    "the_list"
   ]
  },
  {
   "cell_type": "code",
   "execution_count": null,
   "id": "9a7df2a7-3b96-4014-b6db-fe7abd650e03",
   "metadata": {},
   "outputs": [],
   "source": [
    "type(the_list[0])"
   ]
  },
  {
   "cell_type": "code",
   "execution_count": null,
   "id": "03c9adc6-e26b-4fb8-8326-d33050615743",
   "metadata": {},
   "outputs": [],
   "source": [
    "type(the_list[1])"
   ]
  },
  {
   "cell_type": "code",
   "execution_count": null,
   "id": "180e44fc-fd56-46d0-b249-8847582984f6",
   "metadata": {},
   "outputs": [],
   "source": [
    "type(the_list[2])"
   ]
  },
  {
   "cell_type": "markdown",
   "id": "310f0a24-f7d7-4967-b9ba-8a7c6e16251d",
   "metadata": {},
   "source": [
    "The list is one of the most used data structures.  Because they're sequences, one is able to \"slice\" them using slice notation."
   ]
  },
  {
   "cell_type": "code",
   "execution_count": null,
   "id": "4beb7679-b842-4117-a3d8-f361823bc732",
   "metadata": {},
   "outputs": [],
   "source": [
    "the_list"
   ]
  },
  {
   "cell_type": "code",
   "execution_count": null,
   "id": "7c774629-8948-4def-8728-b6cae2199cdb",
   "metadata": {},
   "outputs": [],
   "source": [
    "whole_list  = the_list.copy()"
   ]
  },
  {
   "cell_type": "code",
   "execution_count": null,
   "id": "f167a0b1-3667-4f7b-81a9-85c03350bc85",
   "metadata": {},
   "outputs": [],
   "source": [
    "whole_list is the_list"
   ]
  },
  {
   "cell_type": "markdown",
   "id": "e2381a04-6c0b-4187-ba0c-1e75189d986c",
   "metadata": {},
   "source": [
    "The Python slice is actually its own type of object."
   ]
  },
  {
   "cell_type": "code",
   "execution_count": null,
   "id": "7f855aeb-8626-461a-bbe2-ed16a91dd2aa",
   "metadata": {},
   "outputs": [],
   "source": [
    "the_slice = slice(1, None)\n",
    "the_list[the_slice]"
   ]
  },
  {
   "cell_type": "code",
   "execution_count": null,
   "id": "fd971a86-6173-48dd-8d3d-79dd8f3e0da8",
   "metadata": {},
   "outputs": [],
   "source": [
    "the_list[0] = 10\n",
    "the_list"
   ]
  },
  {
   "cell_type": "code",
   "execution_count": null,
   "id": "f81e859e-c3fb-4cb0-a7f2-4eea3e0b5b6b",
   "metadata": {},
   "outputs": [],
   "source": [
    "the_list[2].append('monkey')\n",
    "the_list[2].append('parrot')\n",
    "the_list[2].append('zebra')\n",
    "\n",
    "the_list"
   ]
  },
  {
   "cell_type": "code",
   "execution_count": null,
   "id": "874a5669-ec79-4c4d-a0ec-45e112330592",
   "metadata": {},
   "outputs": [],
   "source": [
    "the_list.insert(0, 'penguin')\n"
   ]
  },
  {
   "cell_type": "code",
   "execution_count": null,
   "id": "9a83b0a8-392b-41b8-a124-39e61dcb2bdc",
   "metadata": {},
   "outputs": [],
   "source": [
    "the_list"
   ]
  },
  {
   "cell_type": "markdown",
   "id": "c72ec35b-dc3a-46e7-bed4-b0e473f015dd",
   "metadata": {},
   "source": [
    "The `tuple` is very like a list in being able to contain a mix of types.  However the `tuple` type is immutable but for its mutable elements, which cannot themselves be eliminated.  Lets take a look..."
   ]
  },
  {
   "cell_type": "code",
   "execution_count": null,
   "id": "51558666-6d4c-46b9-bda3-a190bfbbd1b5",
   "metadata": {},
   "outputs": [],
   "source": [
    "my_tuple = ('dog', 'cat', [ ], 'monkey')\n",
    "my_tuple"
   ]
  },
  {
   "cell_type": "code",
   "execution_count": null,
   "id": "a29f82c7-4bca-436c-b127-96202c75c01f",
   "metadata": {},
   "outputs": [],
   "source": [
    "try:\n",
    "    my_tuple[0] = 'snake'\n",
    "except Exception as e:\n",
    "    print(e)"
   ]
  },
  {
   "cell_type": "code",
   "execution_count": null,
   "id": "0d2a8803-be68-4d13-bff6-2aa69ce358a0",
   "metadata": {},
   "outputs": [],
   "source": [
    "my_tuple[2]"
   ]
  },
  {
   "cell_type": "code",
   "execution_count": null,
   "id": "1caae53a-5478-4f8b-a40d-f4781869d407",
   "metadata": {},
   "outputs": [],
   "source": [
    "my_tuple[2].append(\"still\")\n",
    "my_tuple[2].append(\"mutable\")\n",
    "my_tuple"
   ]
  },
  {
   "cell_type": "code",
   "execution_count": null,
   "id": "f46bc397-48cb-4a2c-8614-f861847de7ae",
   "metadata": {},
   "outputs": [],
   "source": [
    "try:\n",
    "    del my_tuple[2]  # trying to delete the whole list\n",
    "except Exception as e:\n",
    "    print(e)"
   ]
  },
  {
   "cell_type": "code",
   "execution_count": null,
   "id": "395426bd-f5fc-4fef-b9fe-1ae46ba8b433",
   "metadata": {},
   "outputs": [],
   "source": [
    "from collections import namedtuple\n",
    "Element  = namedtuple(\"Atom\", \"Symbol Name Protons Weight Series\")\n",
    "hydrogen = Element(\"H\", \"Hydrogen\", 1, 1.008, \"diatomic nonmetal\")\n",
    "lead     = Element(\"Pb\", \"Lead\", 82, 207.21, \"post-transition metal\")"
   ]
  },
  {
   "cell_type": "code",
   "execution_count": null,
   "id": "465065ed-b3b4-4bd6-8912-e60882dd0985",
   "metadata": {},
   "outputs": [],
   "source": [
    "hydrogen"
   ]
  },
  {
   "cell_type": "code",
   "execution_count": null,
   "id": "f9bc0406-6954-4cf7-bd24-52a5d66a3c7a",
   "metadata": {},
   "outputs": [],
   "source": [
    "hydrogen.Symbol"
   ]
  },
  {
   "cell_type": "code",
   "execution_count": null,
   "id": "d60128ec-1a12-4892-a691-2e6ad7a9d1dd",
   "metadata": {},
   "outputs": [],
   "source": [
    "list(hydrogen)"
   ]
  },
  {
   "cell_type": "markdown",
   "id": "7f7305b8-182f-4c75-9cdc-3123abe9a298",
   "metadata": {},
   "source": [
    "A truly immutable piece of data, such as `(2, 1, 1, 0)` is suitable for use as a key in a dictionary.  Lists are not suitable because not immutable.  Think of the corruption one might cause if two keys started out unique, but then were mutated to become identical.  The whole premise of the dict type is that keys are unique."
   ]
  },
  {
   "cell_type": "code",
   "execution_count": null,
   "id": "a65c6e1e-79ea-41e0-945a-72c26c477a75",
   "metadata": {},
   "outputs": [],
   "source": [
    "from collections import deque"
   ]
  },
  {
   "cell_type": "code",
   "execution_count": null,
   "id": "7abb53c9-bbc0-4e38-8a39-9171a40c3565",
   "metadata": {},
   "outputs": [],
   "source": [
    "pipe = deque()"
   ]
  },
  {
   "cell_type": "code",
   "execution_count": null,
   "id": "6d5f02de-bedb-4b10-9bf3-f4926d02b4b8",
   "metadata": {},
   "outputs": [],
   "source": [
    "pipe.append('job1')\n",
    "pipe.append('job2')\n",
    "pipe.append('job3')"
   ]
  },
  {
   "cell_type": "code",
   "execution_count": null,
   "id": "1966f9a7-04f0-4465-b2ae-72343ca9cf27",
   "metadata": {},
   "outputs": [],
   "source": [
    "pipe"
   ]
  },
  {
   "cell_type": "code",
   "execution_count": null,
   "id": "ae779935-1dbe-42da-8b1d-b3c55defaf56",
   "metadata": {},
   "outputs": [],
   "source": [
    "job = pipe.popleft()\n",
    "job"
   ]
  },
  {
   "cell_type": "code",
   "execution_count": null,
   "id": "346b18ff-01b7-403c-a7ff-ae8ef3ac98cd",
   "metadata": {},
   "outputs": [],
   "source": [
    "pipe"
   ]
  },
  {
   "cell_type": "markdown",
   "id": "c4095ee3-4b06-4832-9b6a-00845491a688",
   "metadata": {},
   "source": [
    "## Mappings"
   ]
  },
  {
   "cell_type": "markdown",
   "id": "77c224e9-6294-4454-8a42-e463781f8318",
   "metadata": {},
   "source": [
    "<blockquote class=\"twitter-tweet\"><p lang=\"en\" dir=\"ltr\">Remember <a href=\"https://twitter.com/hashtag/Python?src=hash&amp;ref_src=twsrc%5Etfw\">#Python</a> sets and dicts use a hash table internally which makes them very fast - algorithmic complexity of O(1) - for lookups (e.g. using the &quot;in&quot; operator).</p>&mdash; Bob Belderbos (@bbelderbos) <a href=\"https://twitter.com/bbelderbos/status/1493526761195417602?ref_src=twsrc%5Etfw\">February 15, 2022</a></blockquote> <script async src=\"https://platform.twitter.com/widgets.js\" charset=\"utf-8\"></script> "
   ]
  },
  {
   "cell_type": "code",
   "execution_count": null,
   "id": "4af2e2f3-5c73-4f81-9cb6-cfa3229f76ef",
   "metadata": {},
   "outputs": [],
   "source": [
    "p = set([1, 4, 3, 9, 2, 2, 5, 1, 10])\n",
    "p"
   ]
  },
  {
   "cell_type": "code",
   "execution_count": null,
   "id": "3a68fd9f-fa73-4c80-a0ab-e40c9561273a",
   "metadata": {},
   "outputs": [],
   "source": [
    "q = set([2, 17, 9, 5, 2, 11, 12])"
   ]
  },
  {
   "cell_type": "code",
   "execution_count": null,
   "id": "880ae697-369b-41b4-b3cd-c2f381ef30a9",
   "metadata": {},
   "outputs": [],
   "source": [
    "p.intersection(q)"
   ]
  },
  {
   "cell_type": "code",
   "execution_count": null,
   "id": "a5aff33e-d3d3-4cd6-a2e7-ba194a66c543",
   "metadata": {},
   "outputs": [],
   "source": [
    "p.union(q)"
   ]
  },
  {
   "cell_type": "code",
   "execution_count": null,
   "id": "f564bbe7-0013-48f1-b541-31fffa346db4",
   "metadata": {},
   "outputs": [],
   "source": [
    "import numpy as np    # may need to pip install\n",
    "import pandas as pd   # may need to pip install\n",
    "import sys\n",
    "\n",
    "print(\"np:\", np.__version__, \"\\npd:\", \n",
    "pd.__version__, '\\npython:', sys.version[:5])\n",
    "sys.path"
   ]
  },
  {
   "cell_type": "code",
   "execution_count": null,
   "id": "9f763f39-c3bd-4f60-90cb-73d3a0a87f3b",
   "metadata": {},
   "outputs": [],
   "source": [
    "the_dict = {\"python\": '3.7.9', \"numpy\": '1.17.3', \"pandas\": '1.2.4'}"
   ]
  },
  {
   "cell_type": "code",
   "execution_count": null,
   "id": "5dd6f41a-ed10-46c8-912f-a9171846c332",
   "metadata": {},
   "outputs": [],
   "source": [
    "the_dict.get(\"Julia\", \"N/A\")"
   ]
  },
  {
   "cell_type": "code",
   "execution_count": null,
   "id": "11caa0bd-5cb9-4d35-b2b0-8a6c83df7d4b",
   "metadata": {},
   "outputs": [],
   "source": [
    "the_dict.get(\"python\", \"N/A\")"
   ]
  },
  {
   "cell_type": "code",
   "execution_count": null,
   "id": "05c0ad17-090b-443d-99fb-d98bf79e7d80",
   "metadata": {},
   "outputs": [],
   "source": [
    "the_dict['pandas']"
   ]
  },
  {
   "cell_type": "code",
   "execution_count": null,
   "id": "521ec8ed-9110-4c37-976c-21c92458d2c7",
   "metadata": {},
   "outputs": [],
   "source": [
    "the_dict.keys()"
   ]
  },
  {
   "cell_type": "code",
   "execution_count": null,
   "id": "a1a2c069-96cf-4537-b820-cb0976154cac",
   "metadata": {},
   "outputs": [],
   "source": [
    "the_dict.values()"
   ]
  },
  {
   "cell_type": "code",
   "execution_count": null,
   "id": "9c840627-8b05-4ae0-a712-030a3db4214a",
   "metadata": {},
   "outputs": [],
   "source": [
    "list(the_dict.items())"
   ]
  },
  {
   "cell_type": "markdown",
   "id": "21f61216-43ac-4d3e-9c9a-3c9e33328708",
   "metadata": {},
   "source": [
    "### Russian Doll Nesting of Data Structures\n",
    "\n",
    "Remember the comment above about lists not being suitable as dict keys, because they're mutable.  Ergo, not every data structure is able to play in every position.  Yet to a remarkable extend, the collection types introduced so far may be treated as just more everyday Python objects, meaning they interoperate and nest seamlessly."
   ]
  },
  {
   "cell_type": "code",
   "execution_count": null,
   "id": "35376df8-693a-4293-806c-e7e68411ebd4",
   "metadata": {},
   "outputs": [],
   "source": [
    "rock_stars = [{\"Yolandi Visser\":\"Die Antwoord\"}, {\"Mick Jagger\":\"Rolling Stones\"},\n",
    "              {\"John Lennon\":\"The Beatles\"}, {\"George Harrison\":\"The Beatles\"}]\n",
    "\n",
    "rock_stars[1]"
   ]
  },
  {
   "cell_type": "code",
   "execution_count": null,
   "id": "2cf04189-ecfa-431f-9b71-0eb7705f0880",
   "metadata": {},
   "outputs": [],
   "source": [
    "tuple_keys = {tuple([2, 1, 1, 0]): [\"center\", \"ball 1\"],\n",
    "              tuple([1, 2, 1, 0]): [\"center\", \"ball 7\"]}"
   ]
  },
  {
   "cell_type": "code",
   "execution_count": null,
   "id": "40aa91f9-e2e8-4bf9-ab0b-2fc8d74136cb",
   "metadata": {},
   "outputs": [],
   "source": [
    "tuple_keys[(1, 2, 1, 0)]"
   ]
  },
  {
   "cell_type": "markdown",
   "id": "10004a2d-1088-48de-9dbc-6c770d2cc3ed",
   "metadata": {},
   "source": [
    "Might we nest much more deeply?  Of course.  But have mercey on your readers, which may include yourself at a later date.\n",
    "\n",
    "Let's show off our Notebook's ability to showcase Youtubes.  The awesome talk below is from PyData 2016 in Chicago, and features David Beazeley talking about built-in data structures as superheros."
   ]
  },
  {
   "cell_type": "code",
   "execution_count": null,
   "id": "137b66b0-a2ca-44b8-a502-b44ebe3185ec",
   "metadata": {},
   "outputs": [],
   "source": [
    "from IPython.display import YouTubeVideo"
   ]
  },
  {
   "cell_type": "code",
   "execution_count": null,
   "id": "37faa36d-cbd4-445b-bd5e-eb2ef8921ca0",
   "metadata": {},
   "outputs": [],
   "source": [
    "# https://youtu.be/lyDLAutA88s\n",
    "YouTubeVideo(\"lyDLAutA88s\")"
   ]
  },
  {
   "cell_type": "code",
   "execution_count": null,
   "id": "f5ad653d-8fc1-423f-bfa1-46ebcc4af520",
   "metadata": {},
   "outputs": [],
   "source": [
    "zoo = {\"tiger\": 8, \"bear\": 7, \"monkey\": 4}"
   ]
  },
  {
   "cell_type": "code",
   "execution_count": null,
   "id": "2797afa6-8cd7-45e1-8217-c21e30251288",
   "metadata": {},
   "outputs": [],
   "source": [
    "len(zoo)"
   ]
  },
  {
   "cell_type": "code",
   "execution_count": null,
   "id": "75bb7dfb-077e-4b17-8d1d-8fc857c23bf5",
   "metadata": {},
   "outputs": [],
   "source": [
    "list(zoo)"
   ]
  },
  {
   "cell_type": "code",
   "execution_count": null,
   "id": "89449643-f00d-4dde-9e45-9f1a7c1a3eb1",
   "metadata": {},
   "outputs": [],
   "source": [
    "zoo.update({\"bear\": 10, \"parrot\": 101, \"lizard\": 4})"
   ]
  },
  {
   "cell_type": "code",
   "execution_count": null,
   "id": "657e0a94-e8bf-414f-adf3-df0f227bff72",
   "metadata": {},
   "outputs": [],
   "source": [
    "zoo"
   ]
  },
  {
   "cell_type": "code",
   "execution_count": null,
   "id": "1c9e8de2-4bfe-47f7-bba0-4d3e54744c44",
   "metadata": {},
   "outputs": [],
   "source": [
    "dir(zoo)"
   ]
  },
  {
   "cell_type": "code",
   "execution_count": null,
   "id": "8b37382a-d46c-47bb-8ae6-77f5f4a90bcf",
   "metadata": {},
   "outputs": [],
   "source": [
    "dir([])"
   ]
  },
  {
   "cell_type": "code",
   "execution_count": null,
   "id": "43fabbbf-8368-4156-b22d-406b35f3a646",
   "metadata": {},
   "outputs": [],
   "source": [
    "data = [(1, 2), (3, 5), (10, 11), (0, 3)]"
   ]
  },
  {
   "cell_type": "code",
   "execution_count": null,
   "id": "8fd7c1c5-d0e3-4edb-a327-3c631f6fe4c7",
   "metadata": {},
   "outputs": [],
   "source": [
    "data.sort()"
   ]
  },
  {
   "cell_type": "code",
   "execution_count": null,
   "id": "cb39aeff-b333-4776-b804-c86442b0fd42",
   "metadata": {},
   "outputs": [],
   "source": [
    "data"
   ]
  },
  {
   "cell_type": "code",
   "execution_count": null,
   "id": "6ca1aa39-6811-4706-b3be-1bf90c4fc479",
   "metadata": {},
   "outputs": [],
   "source": [
    "sorted(data, key = lambda i: i[1])"
   ]
  },
  {
   "cell_type": "code",
   "execution_count": null,
   "id": "7eebacc7-b13a-4f37-99d2-7de69adb996e",
   "metadata": {},
   "outputs": [],
   "source": [
    "dir([])"
   ]
  },
  {
   "cell_type": "code",
   "execution_count": null,
   "id": "ef931529-3f72-423f-b0f3-032f05140b8b",
   "metadata": {},
   "outputs": [],
   "source": [
    "np.ndarray"
   ]
  },
  {
   "cell_type": "code",
   "execution_count": null,
   "id": "73bb1187-78d7-4c15-8be0-dec97ff77cd2",
   "metadata": {},
   "outputs": [],
   "source": [
    "dir(np.ndarray)"
   ]
  },
  {
   "cell_type": "code",
   "execution_count": null,
   "id": "45ece0a3-5570-4858-8208-4b6a10f3be9b",
   "metadata": {},
   "outputs": [],
   "source": [
    "np.ones((10, 10)) + 2"
   ]
  },
  {
   "cell_type": "code",
   "execution_count": null,
   "id": "e498491b-04fa-490f-a1a2-ab72d97e4769",
   "metadata": {},
   "outputs": [],
   "source": []
  }
 ],
 "metadata": {
  "kernelspec": {
   "display_name": "Python 3 (ipykernel)",
   "language": "python",
   "name": "python3"
  },
  "language_info": {
   "codemirror_mode": {
    "name": "ipython",
    "version": 3
   },
   "file_extension": ".py",
   "mimetype": "text/x-python",
   "name": "python",
   "nbconvert_exporter": "python",
   "pygments_lexer": "ipython3",
   "version": "3.7.9"
  }
 },
 "nbformat": 4,
 "nbformat_minor": 5
}
