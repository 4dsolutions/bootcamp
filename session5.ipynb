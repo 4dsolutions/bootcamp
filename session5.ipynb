{
 "cells": [
  {
   "cell_type": "markdown",
   "id": "826d9bdd-5dd7-4d33-9435-34a0b0c61e4f",
   "metadata": {},
   "source": [
    "# Session 4:  Clarusway Mini-Bootcamp\n",
    "\n",
    "* Boolean Logic Expressions\n",
    "* Truth Values of Logic Statements\n",
    "* The Strength of the String\n",
    "\n",
    "Useful Links:\n",
    "\n"
   ]
  },
  {
   "cell_type": "markdown",
   "id": "06bdf8f0-1494-4c1f-b8a2-0b35142d9e04",
   "metadata": {},
   "source": [
    "## Boolean Logic Expressions"
   ]
  },
  {
   "cell_type": "markdown",
   "id": "65ac1143-7a68-466c-abd7-a9c451743a09",
   "metadata": {},
   "source": [
    "## Truth Values of Logic Statements"
   ]
  },
  {
   "cell_type": "markdown",
   "id": "87978919-ceab-4043-b486-a445fa581df3",
   "metadata": {},
   "source": [
    "## The Strength of the String"
   ]
  },
  {
   "cell_type": "code",
   "execution_count": null,
   "id": "4af2e2f3-5c73-4f81-9cb6-cfa3229f76ef",
   "metadata": {},
   "outputs": [],
   "source": []
  }
 ],
 "metadata": {
  "kernelspec": {
   "display_name": "Python 3 (ipykernel)",
   "language": "python",
   "name": "python3"
  },
  "language_info": {
   "codemirror_mode": {
    "name": "ipython",
    "version": 3
   },
   "file_extension": ".py",
   "mimetype": "text/x-python",
   "name": "python",
   "nbconvert_exporter": "python",
   "pygments_lexer": "ipython3",
   "version": "3.7.9"
  }
 },
 "nbformat": 4,
 "nbformat_minor": 5
}
