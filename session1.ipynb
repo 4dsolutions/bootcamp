{
 "cells": [
  {
   "cell_type": "markdown",
   "id": "826d9bdd-5dd7-4d33-9435-34a0b0c61e4f",
   "metadata": {},
   "source": [
    "<a data-flickr-embed=\"true\" href=\"https://www.flickr.com/photos/kirbyurner/51883694976/in/album-72177720296706479/\" title=\"week1_schedule\"><img src=\"https://live.staticflickr.com/65535/51883694976_cc33017f67.jpg\" width=\"359\" height=\"500\" alt=\"week1_schedule\"></a><script async src=\"//embedr.flickr.com/assets/client-code.js\" charset=\"utf-8\"></script>\n",
    "\n",
    "\n",
    "# Session 1:  Clarusway Mini-Bootcamp\n",
    "\n",
    "* General Information About Python\n",
    "* First Program (\"Hello world\")\n",
    "* Matter of Quotes and PEP 8 conventions\n",
    "\n",
    "\n",
    "### Useful Links\n",
    "\n",
    "* [This Notebook on Colab](https://colab.research.google.com/github/4dsolutions/bootcamp/blob/main/session1.ipynb)\n",
    "* [This Notebook on nbviewer](https://nbviewer.org/github/4dsolutions/bootcamp/blob/main/session1.ipynb)\n",
    "* [Python.org Home Page](https://www.python.org)\n",
    "* [Beginner's Guide](https://wiki.python.org/moin/BeginnersGuide)\n",
    "* [Python PEPs](https://www.python.org/dev/peps/)\n",
    "* [PEP 8](https://www.python.org/dev/peps/pep-0008/)\n",
    "* [PEP8.org](https://pep8.org)\n",
    "* [Standard Library Modules](https://docs.python.org/3/library/index.html)\n",
    "* [Formatting Mini-Language](  )\n",
    "* [Python Documentation](https://docs.python.org/3/)\n",
    "* [Anaconda Home Page](https://anaconda.org)\n",
    "* [Jupyter Project](https://jupyter.org/)\n",
    "* [Markdown Cheat Sheet](https://notebook.community/tschinz/iPython_Workspace/00_Admin/CheatSheet/Markdown%20CheatSheet)\n",
    "* [Repl.it](https://replit.com/site/ide)\n",
    "* [Course Album](https://flic.kr/s/aHBqjzCs82)\n",
    "\n",
    "*curate more links!*"
   ]
  },
  {
   "cell_type": "markdown",
   "id": "dc88f0a8-36bf-4c9f-a9bb-ba0633b03f6b",
   "metadata": {},
   "source": [
    "### Glossary of Terms\n",
    "\n",
    "* localhost:  your own computer, with IP number 127.0.0.1\n",
    "* ASCII: American Standard Code for Information Interchange, 256 glyphs max.\n",
    "* BDFL:  Guido's old title, Benevolent Dictator for Life (he's now BDFL emeritus)\n",
    "* Python:  a general purpose, object-oriented computer language \n",
    "* Python 3:  any 3.x version of Python\n",
    "* Python 2:  any 2.x version of Python (2.7.x is the last)\n",
    "* REPL: read, evaluate, print loop (interactive shell)\n",
    "* SQL:  Structured Query Language\n",
    "* TCP/IP:  Transmission Control Protocol/Internet Protocol. How computers talk to each other on the internet.\n",
    "* Unicode: supercedes ASCII, millions of glyphs (including emoji)\n",
    "\n",
    "*add more glossary terms as the course progresses*"
   ]
  },
  {
   "cell_type": "markdown",
   "id": "e6957489-dbbe-4710-9173-0168a7d1859f",
   "metadata": {},
   "source": [
    "## General Information\n",
    "\n",
    "Python was designed by Guido van Rossum for a technical audience already well-versed in computer skills.  Unlike BASIC, which was designed as a \"teaching language\".  However, Python is elegant and expressive enough to attract beginners and professionals alike.  Guido always intended that Python should help make \"computer programming for everybody\" a reality as his [1999 CP4E proposal](https://www.python.org/doc/essays/cp4e/) clearly shows.\n",
    "\n",
    "Python was originally named for the British comedy troupe Monty Python.  References to Monty Python are scattered throughout the documentation.  For example IDLE, the IDE that comes with Python, is a pun on Eric Idle.\n",
    "\n",
    "The rich, yet inexpensive (as in mostly free), ecosystem surrounding Python attracts the best and brightest from many walks of life, who then freely contribute, thereby adding yet more value to our Python World.\n",
    "\n",
    "Every computer language has its pedigree and story.  Python's story includes the great leap forward from 2.x to 3.x, breaking backward compatibility, at a time when Python was already popular within industry.\n",
    "\n",
    "The Jupyter Project is one of those value-adding 3rd party tools that brings people flocking to Python. It grew out of the I-Python project, which includes the I-Python console and its \"magics\".\n",
    "\n",
    "\"3rd party\" means \"not part of the Standard Library\".  The [Python Package Index](https://pypi.org/) is a catalog of freely available 3rd party projects.\n",
    "\n",
    "Slides:  In Class Python Basics"
   ]
  },
  {
   "cell_type": "markdown",
   "id": "023f123a-e3eb-430a-884c-cbfed1e6e1ce",
   "metadata": {},
   "source": [
    "### What Should I Be Doing Now?\n",
    "\n",
    "As this is a first class, it's fine to just listen and see what the work environment will be.  If you are able to boot up JupyterLab, locally on your own machine, feel free to do so.  Use the Notebook to take notes.\n",
    "\n",
    "I recommend extending the Useful Links and Glossary sections using Markdown, and later turning that text into Python dictionaries (after you learn what those are)."
   ]
  },
  {
   "cell_type": "markdown",
   "id": "bf7a6d18-8bab-4d44-b270-bd25872b6ca3",
   "metadata": {},
   "source": [
    "### How Do We Interact with Python?\n",
    "\n",
    "In several ways.\n",
    "\n",
    "* Invisibly:  we don't always know, when using a website, whether Python is playing a role.\n",
    "* Through the Command Line:  Enter `python` on the command line to boot into a Python shell ([REPL](https://en.wikipedia.org/wiki/Read%E2%80%93eval%E2%80%93print_loop)).  Alternatively, enter `python some_module.py` to run the module.\n",
    "* Through an IDE:  many interactive development environments are good for Python development.  Try them out!\n",
    "* Inside a Notebook:  like here, like in Google colab.  Sometimes we use Notebooks in read-only mode, as through nbviewer.  Mostly we will use them on localhost.\n",
    "* Inside an application:  some applications are scriptable from the inside using Python e.g.: Rhino3D, Blender, ESRI products."
   ]
  },
  {
   "cell_type": "markdown",
   "id": "39892184-5d99-4bfa-96b5-24fec71b1220",
   "metadata": {},
   "source": [
    "IDEs:\n",
    "\n",
    "<img src=\"https://miro.medium.com/max/1600/0*5vSccKOZ9Y_aNcVN.png\" alt=\"Python IDEs\" width=\"415\" height=\"146\">\n",
    "\n",
    "<a data-flickr-embed=\"true\" href=\"https://www.flickr.com/photos/kirbyurner/51440394003/in/dateposted-public/\" title=\"VScode\"><img src=\"https://live.staticflickr.com/65535/51440394003_14bbe49dd2_o.png\" width=\"318\" height=\"159\" alt=\"VScode\"></a><script async src=\"//embedr.flickr.com/assets/client-code.js\" charset=\"utf-8\"></script>\n",
    "\n",
    "A question to ask yourself:  do I need my IDE to work in mutiple languages or only in Python?  You may use different IDEs for different types of work.  New IDEs are always in the works."
   ]
  },
  {
   "cell_type": "markdown",
   "id": "1dba37c1-ef37-4a92-980e-236f5b1d040f",
   "metadata": {},
   "source": [
    "# Exploring Python"
   ]
  },
  {
   "cell_type": "code",
   "execution_count": null,
   "id": "be39f1f3-c2d7-418a-b23e-834da3524928",
   "metadata": {},
   "outputs": [],
   "source": [
    "copyright"
   ]
  },
  {
   "cell_type": "markdown",
   "id": "ac5a135f-8567-4b7a-ab08-b447f238cd33",
   "metadata": {},
   "source": [
    "How is it that Python knows how to provide copyright info in response to this one instruction?  Even without importing anything, Python has access to ```__builtins__```.  This module contains Python's core vocabulary and is available upon boot up."
   ]
  },
  {
   "cell_type": "code",
   "execution_count": null,
   "id": "809eac18-0d62-4da2-b4c0-410c42eaab7d",
   "metadata": {},
   "outputs": [],
   "source": [
    "\"copyright\" in dir(__builtins__)"
   ]
  },
  {
   "cell_type": "code",
   "execution_count": null,
   "id": "a59828eb-0d4a-4e4f-b2c3-e967cd1dfe8d",
   "metadata": {},
   "outputs": [],
   "source": [
    "a = 2 + 2\n",
    "a"
   ]
  },
  {
   "cell_type": "markdown",
   "id": "ee3c3235-21d4-4bc4-8412-191054b74dee",
   "metadata": {},
   "source": [
    "## First Program"
   ]
  },
  {
   "cell_type": "code",
   "execution_count": null,
   "id": "11201840-02c0-4eb5-b7ba-80ae97421503",
   "metadata": {},
   "outputs": [],
   "source": [
    "print(\"Hello, World\")"
   ]
  },
  {
   "cell_type": "code",
   "execution_count": null,
   "id": "5d4a7cef-41d1-477c-ab53-2af6156dd324",
   "metadata": {},
   "outputs": [],
   "source": [
    "print(\"Merhaba Dünya\")"
   ]
  },
  {
   "cell_type": "code",
   "execution_count": null,
   "id": "2f514e77-64eb-4cdf-b8d6-b47323dcc180",
   "metadata": {},
   "outputs": [],
   "source": [
    "print(\"مرحبا بالعالم\")"
   ]
  },
  {
   "cell_type": "markdown",
   "id": "8a1e90ba-5fd5-4918-b1ba-d7f2808f98a1",
   "metadata": {},
   "source": [
    "## Quotes and PEP 8"
   ]
  },
  {
   "cell_type": "code",
   "execution_count": null,
   "id": "bbfab263-8d72-4924-bcfc-a99fcc23ca82",
   "metadata": {},
   "outputs": [],
   "source": [
    "'This '        \"is \" 'OK '        \"\"\"too\"\"\""
   ]
  },
  {
   "cell_type": "code",
   "execution_count": null,
   "id": "de9b680c-0ffc-4337-b459-02c19af29215",
   "metadata": {},
   "outputs": [],
   "source": [
    "print(\"\"\"\n",
    "      this might not be\n",
    "      what you wanted\n",
    "      \"\"\")"
   ]
  },
  {
   "cell_type": "code",
   "execution_count": null,
   "id": "9ab19a30-4c76-4745-a376-7feb9c5024b3",
   "metadata": {},
   "outputs": [],
   "source": [
    "print(r\"this\\t might be\\n\"\n",
    "      \"closer to what you\\n\"\n",
    "      \"expected\")"
   ]
  },
  {
   "cell_type": "markdown",
   "id": "10879a5b-b7e4-403b-9d86-786ad97018ac",
   "metadata": {},
   "source": [
    "Escaped quotes:"
   ]
  },
  {
   "cell_type": "code",
   "execution_count": null,
   "id": "a0d721b2-7706-43d3-8f71-e3548631cc9c",
   "metadata": {},
   "outputs": [],
   "source": [
    "print(\"You said: \\\"If I want quotes to be taken literally, I can 'escape' them.\\\"\")"
   ]
  },
  {
   "cell_type": "markdown",
   "id": "f87675f7-012d-4cb4-b9ac-db00ba4928ae",
   "metadata": {},
   "source": [
    "Raw strings:"
   ]
  },
  {
   "cell_type": "code",
   "execution_count": null,
   "id": "d97300ea-54c8-4f34-8d95-b5c598ad4346",
   "metadata": {},
   "outputs": [],
   "source": [
    "print(r\"This is a raw string \\n\\n\")"
   ]
  },
  {
   "cell_type": "markdown",
   "id": "8e8e9f57-5da5-43d2-a585-c886c81c62a6",
   "metadata": {},
   "source": [
    "Format strings:"
   ]
  },
  {
   "cell_type": "code",
   "execution_count": null,
   "id": "25e74987-013a-447b-8169-1fde1361f1c7",
   "metadata": {},
   "outputs": [],
   "source": [
    "v = \"format\"\n",
    "print(f\"This is a {v} string\")"
   ]
  },
  {
   "cell_type": "code",
   "execution_count": null,
   "id": "6fb5beca-d36c-4409-a773-af344565591f",
   "metadata": {},
   "outputs": [],
   "source": [
    "b\"this is a byte string\""
   ]
  },
  {
   "cell_type": "markdown",
   "id": "5331b54a-469b-4ff9-b097-df2333d39792",
   "metadata": {},
   "source": [
    "## Extra Fun"
   ]
  },
  {
   "cell_type": "code",
   "execution_count": null,
   "id": "37b194fe-23ce-4cfa-b4f1-eabf09f2dbfe",
   "metadata": {},
   "outputs": [],
   "source": [
    "import this"
   ]
  },
  {
   "cell_type": "code",
   "execution_count": null,
   "id": "ee449856-8964-45b1-9fed-9309e2771e94",
   "metadata": {},
   "outputs": [],
   "source": [
    "import antigravity  # run this yourself"
   ]
  },
  {
   "cell_type": "markdown",
   "id": "06731021-ff80-40a8-aa69-17e919813618",
   "metadata": {},
   "source": [
    "See:  [Python Environment (also XKCD)](https://xkcd.com/1987/)"
   ]
  },
  {
   "cell_type": "markdown",
   "id": "4f1a4050-0164-4a0b-becc-945ff9348647",
   "metadata": {},
   "source": [
    "Books:\n",
    "\n",
    "<a data-flickr-embed=\"true\" href=\"https://www.flickr.com/photos/kirbyurner/49220514452/in/album-72177720296706479/\" title=\"Python Shelf\"><img src=\"https://live.staticflickr.com/65535/49220514452_0e43b2888b.jpg\" width=\"500\" height=\"500\" alt=\"Python Shelf\"></a><script async src=\"//embedr.flickr.com/assets/client-code.js\" charset=\"utf-8\"></script>\n",
    "\n",
    "Many good ones are online, and some of those are free.  Consider subscribing to an online book source."
   ]
  }
 ],
 "metadata": {
  "kernelspec": {
   "display_name": "Python 3 (ipykernel)",
   "language": "python",
   "name": "python3"
  },
  "language_info": {
   "codemirror_mode": {
    "name": "ipython",
    "version": 3
   },
   "file_extension": ".py",
   "mimetype": "text/x-python",
   "name": "python",
   "nbconvert_exporter": "python",
   "pygments_lexer": "ipython3",
   "version": "3.7.9"
  }
 },
 "nbformat": 4,
 "nbformat_minor": 5
}
