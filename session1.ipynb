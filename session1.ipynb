{
 "cells": [
  {
   "cell_type": "markdown",
   "id": "826d9bdd-5dd7-4d33-9435-34a0b0c61e4f",
   "metadata": {},
   "source": [
    "\n",
    "<a data-flickr-embed=\"true\" href=\"https://www.flickr.com/photos/kirbyurner/49220514452/in/album-72157660337424600/\" title=\"Python Shelf\"><img src=\"https://live.staticflickr.com/65535/49220514452_0e43b2888b.jpg\" width=\"500\" height=\"500\" alt=\"Python Shelf\"></a><script async src=\"//embedr.flickr.com/assets/client-code.js\" charset=\"utf-8\"></script>\n",
    "\n",
    "\n",
    "# Session 1:  Clarusway Mini-Bootcamp\n",
    "\n",
    "* General Information About Python\n",
    "* First Program (\"Hello world\")\n",
    "* Matter of Quotes and PEP 8 conventions\n",
    "\n",
    "\n",
    "### Useful Links\n",
    "\n",
    "* [Python.org Home Page](https://www.python.org)\n",
    "* [Beginner's Guide](https://wiki.python.org/moin/BeginnersGuide)\n",
    "* [Python PEPs](https://www.python.org/dev/peps/)\n",
    "* [PEP 8](https://www.python.org/dev/peps/pep-0008/)\n",
    "* [PEP8.org](https://pep8.org)\n",
    "* [Standard Library Modules](https://docs.python.org/3/library/index.html)\n",
    "* [Python Documentation](https://docs.python.org/3/)\n",
    "* [Anaconda Home Page](https://anaconda.org)\n",
    "* [Jupyter Project](https://jupyter.org/)\n",
    "* [Markdown Cheat Sheet](https://notebook.community/tschinz/iPython_Workspace/00_Admin/CheatSheet/Markdown%20CheatSheet)\n",
    "\n",
    "*curate more links!*"
   ]
  },
  {
   "cell_type": "markdown",
   "id": "dc88f0a8-36bf-4c9f-a9bb-ba0633b03f6b",
   "metadata": {},
   "source": [
    "### Glossary of Terms\n",
    "\n",
    "* Python:  a general purpose, object-oriented computer language \n",
    "* Python 3:  any 3.x version of Python\n",
    "* Python 2:  any 2.x version of Python (2.7.x is the last)\n",
    "* SQL:  Structured Query Language\n",
    "\n",
    "*add more glossary terms as the course progresses*"
   ]
  },
  {
   "cell_type": "markdown",
   "id": "e6957489-dbbe-4710-9173-0168a7d1859f",
   "metadata": {},
   "source": [
    "## General Information\n",
    "\n",
    "Python was designed by Guido van Rossum for a technical audience already well-versed in computer skills.  Unlike BASIC, which was designed as a \"teaching language\".  However, Python is elegant and expressive enough to attract beginners and professionals alike.\n",
    "\n",
    "Python was originally named for the British comedy troupe Monty Python.  References to Monty Python are scattered throughout the documentation.  For example IDLE, the IDE that comes with Python, is a pun on Eric Idle.\n",
    "\n",
    "The rich, yet inexpensive (as in mostly free), ecosystem surrounding Python attracts the best and brightest from many walks of life, who then freely contribute, thereby adding yet more value to our Python World.\n",
    "\n",
    "Every computer language has its pedigree and story.  Python's story includes the great leap forward from 2.x to 3.x, breaking backward compatibility, at a time when Python was already popular within industry.\n",
    "\n",
    "The Jupyter Project is one of those value-adding 3rd party tools that brings people flocking to Python. It grew out of the I-Python project, which includes the I-Python console and its \"magics\".\n",
    "\n",
    "\"3rd party\" means \"not part of the Standard Library\".  The [Python Package Index](https://pypi.org/) is a catalog of freely available 3rd party projects."
   ]
  },
  {
   "cell_type": "code",
   "execution_count": 1,
   "id": "be39f1f3-c2d7-418a-b23e-834da3524928",
   "metadata": {},
   "outputs": [
    {
     "data": {
      "text/plain": [
       "Copyright (c) 2001-2020 Python Software Foundation.\n",
       "All Rights Reserved.\n",
       "\n",
       "Copyright (c) 2000 BeOpen.com.\n",
       "All Rights Reserved.\n",
       "\n",
       "Copyright (c) 1995-2001 Corporation for National Research Initiatives.\n",
       "All Rights Reserved.\n",
       "\n",
       "Copyright (c) 1991-1995 Stichting Mathematisch Centrum, Amsterdam.\n",
       "All Rights Reserved."
      ]
     },
     "execution_count": 1,
     "metadata": {},
     "output_type": "execute_result"
    }
   ],
   "source": [
    "copyright"
   ]
  },
  {
   "cell_type": "markdown",
   "id": "ac5a135f-8567-4b7a-ab08-b447f238cd33",
   "metadata": {},
   "source": [
    "How is it that Python knows how to provide copyright info in response to this one instruction?  Even without importing anything, Python has access to ```__builtins__```.  This module contains Python's core vocabulary and is available upon boot up."
   ]
  },
  {
   "cell_type": "code",
   "execution_count": 15,
   "id": "809eac18-0d62-4da2-b4c0-410c42eaab7d",
   "metadata": {},
   "outputs": [
    {
     "data": {
      "text/plain": [
       "True"
      ]
     },
     "execution_count": 15,
     "metadata": {},
     "output_type": "execute_result"
    }
   ],
   "source": [
    "\"copyright\" in dir(__builtins__)"
   ]
  },
  {
   "cell_type": "markdown",
   "id": "ee3c3235-21d4-4bc4-8412-191054b74dee",
   "metadata": {},
   "source": [
    "## First Program"
   ]
  },
  {
   "cell_type": "code",
   "execution_count": 7,
   "id": "11201840-02c0-4eb5-b7ba-80ae97421503",
   "metadata": {},
   "outputs": [
    {
     "name": "stdout",
     "output_type": "stream",
     "text": [
      "Hello World\n"
     ]
    }
   ],
   "source": [
    "print(\"Hello World\")"
   ]
  },
  {
   "cell_type": "code",
   "execution_count": 8,
   "id": "5d4a7cef-41d1-477c-ab53-2af6156dd324",
   "metadata": {},
   "outputs": [
    {
     "name": "stdout",
     "output_type": "stream",
     "text": [
      "Merhaba Dünya\n"
     ]
    }
   ],
   "source": [
    "print(\"Merhaba Dünya\")"
   ]
  },
  {
   "cell_type": "code",
   "execution_count": 9,
   "id": "2f514e77-64eb-4cdf-b8d6-b47323dcc180",
   "metadata": {},
   "outputs": [
    {
     "name": "stdout",
     "output_type": "stream",
     "text": [
      "مرحبا بالعالم\n"
     ]
    }
   ],
   "source": [
    "print(\"مرحبا بالعالم\")"
   ]
  },
  {
   "cell_type": "markdown",
   "id": "8a1e90ba-5fd5-4918-b1ba-d7f2808f98a1",
   "metadata": {},
   "source": [
    "## Quotes and PEP 8"
   ]
  },
  {
   "cell_type": "code",
   "execution_count": 2,
   "id": "bbfab263-8d72-4924-bcfc-a99fcc23ca82",
   "metadata": {},
   "outputs": [
    {
     "data": {
      "text/plain": [
       "'This is OK too'"
      ]
     },
     "execution_count": 2,
     "metadata": {},
     "output_type": "execute_result"
    }
   ],
   "source": [
    "\"This \" \"is \" \"OK \" \"too\""
   ]
  },
  {
   "cell_type": "code",
   "execution_count": 3,
   "id": "de9b680c-0ffc-4337-b459-02c19af29215",
   "metadata": {},
   "outputs": [
    {
     "name": "stdout",
     "output_type": "stream",
     "text": [
      "\n",
      "      this might not be\n",
      "      what you wanted\n",
      "      \n"
     ]
    }
   ],
   "source": [
    "print(\"\"\"\n",
    "      this might not be\n",
    "      what you wanted\n",
    "      \"\"\")"
   ]
  },
  {
   "cell_type": "code",
   "execution_count": 6,
   "id": "9ab19a30-4c76-4745-a376-7feb9c5024b3",
   "metadata": {},
   "outputs": [
    {
     "name": "stdout",
     "output_type": "stream",
     "text": [
      "this might be\n",
      "closer to what you\n",
      "expected\n"
     ]
    }
   ],
   "source": [
    "print(\"this might be\\n\"\n",
    "      \"closer to what you\\n\"\n",
    "      \"expected\")"
   ]
  },
  {
   "cell_type": "markdown",
   "id": "10879a5b-b7e4-403b-9d86-786ad97018ac",
   "metadata": {},
   "source": [
    "Escaped quotes:"
   ]
  },
  {
   "cell_type": "code",
   "execution_count": 18,
   "id": "a0d721b2-7706-43d3-8f71-e3548631cc9c",
   "metadata": {},
   "outputs": [
    {
     "name": "stdout",
     "output_type": "stream",
     "text": [
      "You said: \"If I want quotes to be taken literally, I can 'escape' them.\"\n"
     ]
    }
   ],
   "source": [
    "print(\"You said: \\\"If I want quotes to be taken literally, I can 'escape' them.\\\"\")"
   ]
  },
  {
   "cell_type": "markdown",
   "id": "f87675f7-012d-4cb4-b9ac-db00ba4928ae",
   "metadata": {},
   "source": [
    "Raw strings:"
   ]
  },
  {
   "cell_type": "code",
   "execution_count": 20,
   "id": "d97300ea-54c8-4f34-8d95-b5c598ad4346",
   "metadata": {},
   "outputs": [
    {
     "name": "stdout",
     "output_type": "stream",
     "text": [
      "This is a raw string \\n\\n\n"
     ]
    }
   ],
   "source": [
    "print(r\"This is a raw string \\n\\n\")"
   ]
  },
  {
   "cell_type": "markdown",
   "id": "8e8e9f57-5da5-43d2-a585-c886c81c62a6",
   "metadata": {},
   "source": [
    "Format strings:"
   ]
  },
  {
   "cell_type": "code",
   "execution_count": 21,
   "id": "25e74987-013a-447b-8169-1fde1361f1c7",
   "metadata": {},
   "outputs": [
    {
     "name": "stdout",
     "output_type": "stream",
     "text": [
      "This is a format string\n"
     ]
    }
   ],
   "source": [
    "v = \"format\"\n",
    "print(f\"This is a {v} string\")"
   ]
  },
  {
   "cell_type": "code",
   "execution_count": 22,
   "id": "6fb5beca-d36c-4409-a773-af344565591f",
   "metadata": {},
   "outputs": [
    {
     "data": {
      "text/plain": [
       "b'this is a byte string'"
      ]
     },
     "execution_count": 22,
     "metadata": {},
     "output_type": "execute_result"
    }
   ],
   "source": [
    "b\"this is a byte string\""
   ]
  },
  {
   "cell_type": "markdown",
   "id": "5331b54a-469b-4ff9-b097-df2333d39792",
   "metadata": {},
   "source": [
    "## Extra Fun"
   ]
  },
  {
   "cell_type": "code",
   "execution_count": 2,
   "id": "37b194fe-23ce-4cfa-b4f1-eabf09f2dbfe",
   "metadata": {},
   "outputs": [
    {
     "name": "stdout",
     "output_type": "stream",
     "text": [
      "The Zen of Python, by Tim Peters\n",
      "\n",
      "Beautiful is better than ugly.\n",
      "Explicit is better than implicit.\n",
      "Simple is better than complex.\n",
      "Complex is better than complicated.\n",
      "Flat is better than nested.\n",
      "Sparse is better than dense.\n",
      "Readability counts.\n",
      "Special cases aren't special enough to break the rules.\n",
      "Although practicality beats purity.\n",
      "Errors should never pass silently.\n",
      "Unless explicitly silenced.\n",
      "In the face of ambiguity, refuse the temptation to guess.\n",
      "There should be one-- and preferably only one --obvious way to do it.\n",
      "Although that way may not be obvious at first unless you're Dutch.\n",
      "Now is better than never.\n",
      "Although never is often better than *right* now.\n",
      "If the implementation is hard to explain, it's a bad idea.\n",
      "If the implementation is easy to explain, it may be a good idea.\n",
      "Namespaces are one honking great idea -- let's do more of those!\n"
     ]
    }
   ],
   "source": [
    "import this"
   ]
  },
  {
   "cell_type": "code",
   "execution_count": 3,
   "id": "ee449856-8964-45b1-9fed-9309e2771e94",
   "metadata": {},
   "outputs": [],
   "source": [
    "import antigravity  # run this yourself"
   ]
  }
 ],
 "metadata": {
  "kernelspec": {
   "display_name": "Python 3 (ipykernel)",
   "language": "python",
   "name": "python3"
  },
  "language_info": {
   "codemirror_mode": {
    "name": "ipython",
    "version": 3
   },
   "file_extension": ".py",
   "mimetype": "text/x-python",
   "name": "python",
   "nbconvert_exporter": "python",
   "pygments_lexer": "ipython3",
   "version": "3.7.9"
  }
 },
 "nbformat": 4,
 "nbformat_minor": 5
}
