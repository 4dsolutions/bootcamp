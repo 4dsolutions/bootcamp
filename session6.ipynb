{
 "cells": [
  {
   "cell_type": "markdown",
   "id": "c31a6c0e-6c02-4c7e-a4bb-99fc24709c1f",
   "metadata": {},
   "source": [
    "<a data-flickr-embed=\"true\" href=\"https://www.flickr.com/photos/kirbyurner/51883694941/in/album-72177720296706479/\" title=\"week2_schedule\"><img src=\"https://live.staticflickr.com/65535/51883694941_84ef7655e9.jpg\" width=\"359\" height=\"500\" alt=\"week2_schedule\"></a><script async src=\"//embedr.flickr.com/assets/client-code.js\" charset=\"utf-8\"></script>\n",
    "\n",
    "# Session 6:  Clarusway Mini-Bootcamp\n",
    "\n",
    "## Control Flow Statements\n",
    "\n",
    "* Conditionals (if elif else)\n",
    "* Loops (for and while)\n",
    "* List Comprehensions (combining list with for loop syntax)\n",
    "* Match-Case (Python's new Switch statement)"
   ]
  },
  {
   "cell_type": "markdown",
   "id": "25b83041-f463-4817-a495-b1d1f1439af2",
   "metadata": {},
   "source": [
    "### Useful Links: \n",
    "(sometimes repeated)\n",
    "\n",
    "* [As We May Think (*Atlantic Montly*, 1945)](https://www.theatlantic.com/magazine/archive/1945/07/as-we-may-think/303881/)\n",
    "* [The Scientific Paper is Obsolete (*Atlantic Monthly*, 2018)](https://www.theatlantic.com/science/archive/2018/04/the-scientific-paper-is-obsolete/556676/) \n",
    "* [HOW TO: sqlite3 in Python](https://docs.python.org/3/library/sqlite3.html)\n",
    "* [StackOverflow:  Field contains Text](https://stackoverflow.com/questions/68161715/does-something-like-followin-exists-select-from-table-where-in-field)\n",
    "* [Online Encyclopedia of Integer Sequences](https://oeis.org/)\n",
    "* [Regular Expressions in Wikipedia](https://en.wikipedia.org/wiki/Regular_expression)\n",
    "* [json module](https://docs.python.org/3/library/string.html#formatspec)\n",
    "* [Case-Match Syntax in 3.10+](https://www.pythonpool.com/match-case-python/)\n",
    "* [pandas read_sql](https://pandas.pydata.org/pandas-docs/version/0.15.0/generated/pandas.read_sql.html)\n",
    "* [pandas read_csv](https://pandas.pydata.org/docs/reference/api/pandas.read_csv.html)\n",
    "* [Sampling data from a DataFrame](https://youtu.be/CBCCcssjXQY)\n",
    "* [Search and Lookup in pandas](https://pandas.pydata.org/pandas-docs/stable/user_guide/indexing.html)\n",
    "* [Socratica Channel](https://www.youtube.com/watch?v=bY6m6_IIN94&list=PLi01XoE8jYohWFPpC17Z-wWhPOSuh8Er-)\n",
    "* [Python Data Science Handbook by Jake VanderPlas](https://jakevdp.github.io/PythonDataScienceHandbook/)"
   ]
  },
  {
   "cell_type": "markdown",
   "id": "a8220db6-e861-4f3b-9b28-dcbffa0200af",
   "metadata": {},
   "source": [
    "### Glossary of Terms \n",
    "(not alphabetical)\n",
    "\n",
    "* ndarray: n-dimensional array (often 2D), a rectangle of cells, in the numpy package\n",
    "* range:  a type of Python object, a sequence defined by start, stop and step\n",
    "* list: a type of Python object, like an array, but allowed to be heterogenous\n",
    "* array:  a type of Python object, like a list but of uniform type (more like an ndarray)\n",
    "* dict: a type of Python object consisting of key-value pairs, fast lookup, core glue\n",
    "* hash table: a more generic name for the dict idea, common across most languages\n",
    "* tuple: a type of Python object, like a list but frozen"
   ]
  },
  {
   "cell_type": "markdown",
   "id": "06bdf8f0-1494-4c1f-b8a2-0b35142d9e04",
   "metadata": {},
   "source": [
    "# Control Flow Statements\n",
    "\n",
    "What makes computer programs so useful is their ability to take a different route through the code depending on circumstances.  During any one use of a program, large sections of code may never be executed, because the user wants to do this, and not that.\n",
    "\n",
    "Even at a much lower level than user choices, programs need to be able to execute code \"conditionally\" meaning only if specific conditions are met.  \n",
    "\n",
    "The ability to control the flow of execution is what we will take up next."
   ]
  },
  {
   "cell_type": "markdown",
   "id": "888e24a5-da57-40ce-94b4-24754587d859",
   "metadata": {},
   "source": [
    "## Conditional Statements\n",
    "\n",
    "Conditional statements revole around three keywords: if, else, and elif."
   ]
  },
  {
   "cell_type": "code",
   "execution_count": 1,
   "id": "d41074db-ec9b-495f-87af-aba903bcd33a",
   "metadata": {},
   "outputs": [
    {
     "name": "stdout",
     "output_type": "stream",
     "text": [
      "\"A\" is True\n"
     ]
    }
   ],
   "source": [
    "if \"A\":  # bool(\"A\")\n",
    "    print(\"\\\"A\\\" is True\")"
   ]
  },
  {
   "cell_type": "code",
   "execution_count": 2,
   "id": "7af95c9e-6d2f-49d4-ab61-69e2e37fcec9",
   "metadata": {},
   "outputs": [
    {
     "data": {
      "text/plain": [
       "True"
      ]
     },
     "execution_count": 2,
     "metadata": {},
     "output_type": "execute_result"
    }
   ],
   "source": [
    "bool(123)"
   ]
  },
  {
   "cell_type": "code",
   "execution_count": 3,
   "id": "5b54cf9d-305c-4282-8501-3a258cf79d8f",
   "metadata": {},
   "outputs": [
    {
     "name": "stdout",
     "output_type": "stream",
     "text": [
      "Another day in the neighborhood\n"
     ]
    }
   ],
   "source": [
    "if 2 + 2 == 5:\n",
    "    print(\"We're in a parallel universe\")\n",
    "else:\n",
    "    print(\"Another day in the neighborhood\")"
   ]
  },
  {
   "cell_type": "markdown",
   "id": "253c7ca0-6824-40ce-8149-48b2b1d545f0",
   "metadata": {},
   "source": [
    "The construct below is sometimes called an if-else ladder.  Any number of elifs is OK, and `else` is optional."
   ]
  },
  {
   "cell_type": "code",
   "execution_count": 4,
   "id": "3fdd6ea8-46d2-4e4b-baf4-b60d1767fcf9",
   "metadata": {},
   "outputs": [
    {
     "name": "stdout",
     "output_type": "stream",
     "text": [
      "Two is for Blue\n"
     ]
    }
   ],
   "source": [
    "from random import randint\n",
    "\n",
    "guess = randint(1, 6)  # inclusive of both lower and upper bound\n",
    "\n",
    "if guess   == 1:\n",
    "    print(\"One is for Fun\")\n",
    "elif guess == 2:\n",
    "    print(\"Two is for Blue\")\n",
    "elif guess == 3:\n",
    "    print(\"Three is for Free\")\n",
    "elif guess == 4:\n",
    "    print(\"Four is for door\")\n",
    "elif guess == 5:\n",
    "    print(\"Five is alive\")\n",
    "else:\n",
    "    print(\"Not 1-5\")"
   ]
  },
  {
   "cell_type": "markdown",
   "id": "4e0cbc8d-ecf6-4ce2-be14-82529ec2bb32",
   "metadata": {},
   "source": [
    "Quite often one will find, at the end of a Python module, a conditional statement that says what to do, if and only if, the module is being run top-level i.e. is not being imported by some other module.\n",
    "\n",
    "Some modules, which we could call library modules, define a lot of callable objects when run, but leave it to the top-level module to do any actual calling.  For example, the `math` module, when imported, does nothing on its own except define a lot of ready-to-hand objects (e.g. sqrt, log, cos etc.)."
   ]
  },
  {
   "cell_type": "code",
   "execution_count": 5,
   "id": "f33222b1-eec9-4f26-9dd2-a3a56df9bc6b",
   "metadata": {},
   "outputs": [
    {
     "name": "stdout",
     "output_type": "stream",
     "text": [
      "Run some code only if the module is being run, not imported\n"
     ]
    }
   ],
   "source": [
    "if __name__ == \"__main__\":\n",
    "    print(\"Run some code only if the module is being run, not imported\")"
   ]
  },
  {
   "cell_type": "markdown",
   "id": "0d35a56a-d743-45d3-8a6f-6dd60b1b04b8",
   "metadata": {},
   "source": [
    "Finally there's what's called a ternary statement."
   ]
  },
  {
   "cell_type": "code",
   "execution_count": 6,
   "id": "ee94a274-953b-45b3-a116-a3722e82d0a7",
   "metadata": {},
   "outputs": [
    {
     "data": {
      "text/plain": [
       "1"
      ]
     },
     "execution_count": 6,
     "metadata": {},
     "output_type": "execute_result"
    }
   ],
   "source": [
    "expr = \"a\" in \"cat\"\n",
    "\n",
    "a = 1 if expr else 2  \n",
    "\n",
    "a"
   ]
  },
  {
   "cell_type": "markdown",
   "id": "d19bbcf3-08b0-4b18-b869-baa1549a10aa",
   "metadata": {},
   "source": [
    "That's the same as:"
   ]
  },
  {
   "cell_type": "code",
   "execution_count": 7,
   "id": "6abb87b6-d105-456e-aa03-36cf37cfa84f",
   "metadata": {},
   "outputs": [
    {
     "data": {
      "text/plain": [
       "1"
      ]
     },
     "execution_count": 7,
     "metadata": {},
     "output_type": "execute_result"
    }
   ],
   "source": [
    "if expr:\n",
    "    a= 1\n",
    "else:\n",
    "    a = 2\n",
    "    \n",
    "a"
   ]
  },
  {
   "cell_type": "markdown",
   "id": "65ac1143-7a68-466c-abd7-a9c451743a09",
   "metadata": {},
   "source": [
    "## Loops\n",
    "\n",
    "Loops are among the most useful of flow control structures, and, combined with if / elif / else, give you (the programmer) a lot of power and flexibility.  You also get to be more concise, as we will see with \"list comprehension syntax\" -- a combination of list and for-loop syntax.\n",
    "\n",
    "Python has only two looping statements:  `for` and `while`.  Both work with additional keywords: `else`, `break`, and `continue`.\n",
    "\n",
    "`for` is for iteration over a for-loop body, an indented suite or block.  The `for` syntax causes a Python name or names to assume a succession of values.  These names are available within the block to drive whatever computations."
   ]
  },
  {
   "cell_type": "code",
   "execution_count": 8,
   "id": "2a357532-13e8-4dd7-a3d3-901329c41393",
   "metadata": {},
   "outputs": [
    {
     "data": {
      "text/plain": [
       "105"
      ]
     },
     "execution_count": 8,
     "metadata": {},
     "output_type": "execute_result"
    }
   ],
   "source": [
    "total = 0\n",
    "for x in range(15):\n",
    "    total = total + x  # keep accumulating\n",
    "total"
   ]
  },
  {
   "cell_type": "code",
   "execution_count": 9,
   "id": "96840350-0edd-45f1-b3b0-b19c5a578184",
   "metadata": {},
   "outputs": [
    {
     "data": {
      "text/plain": [
       "105"
      ]
     },
     "execution_count": 9,
     "metadata": {},
     "output_type": "execute_result"
    }
   ],
   "source": [
    "sum(range(15))"
   ]
  },
  {
   "cell_type": "code",
   "execution_count": 10,
   "id": "06c20699-9dd3-4e81-a1e6-cddfa1b17006",
   "metadata": {},
   "outputs": [
    {
     "name": "stdout",
     "output_type": "stream",
     "text": [
      "found an 'i'\n",
      "found an 's'\n",
      "found an 'i'\n",
      "found an 'i'\n",
      "found an 's'\n",
      "found an 'f'\n",
      "found an 'i'\n",
      "\n"
     ]
    }
   ],
   "source": [
    "for c in \"Iterating over a string is fine\":\n",
    "    if c == \"s\":\n",
    "        print(\"found an 's'\")\n",
    "    if c == \"f\":\n",
    "        print(\"found an 'f'\")\n",
    "    if c == \"i\":\n",
    "        print(\"found an 'i'\")\n",
    "\n",
    "print()"
   ]
  },
  {
   "cell_type": "markdown",
   "id": "de37fc91-c77a-4557-8b9c-1522fcf689ab",
   "metadata": {},
   "source": [
    "Remembering our dict type:"
   ]
  },
  {
   "cell_type": "code",
   "execution_count": 11,
   "id": "3ac14c30-b91b-46d4-8502-f2378185b48f",
   "metadata": {},
   "outputs": [
    {
     "data": {
      "text/plain": [
       "{'monkey': 4, 'dog': 3, 'penguin': 5}"
      ]
     },
     "execution_count": 11,
     "metadata": {},
     "output_type": "execute_result"
    }
   ],
   "source": [
    "zoo = {'monkey': 4, 'dog': 3, 'penguin': 5}\n",
    "zoo"
   ]
  },
  {
   "cell_type": "markdown",
   "id": "580e3808-b0c1-49bb-9020-3170c8248158",
   "metadata": {},
   "source": [
    "Poking fun at a worst practice:"
   ]
  },
  {
   "cell_type": "code",
   "execution_count": 12,
   "id": "c0f68d2c-24f8-4ae9-8c88-d9114087e0fd",
   "metadata": {},
   "outputs": [
    {
     "name": "stdout",
     "output_type": "stream",
     "text": [
      "The Zen of Python, by Tim Peters\n",
      "\n",
      "Beautiful is better than ugly.\n",
      "Explicit is better than implicit.\n",
      "Simple is better than complex.\n",
      "Complex is better than complicated.\n",
      "Flat is better than nested.\n",
      "Sparse is better than dense.\n",
      "Readability counts.\n",
      "Special cases aren't special enough to break the rules.\n",
      "Although practicality beats purity.\n",
      "Errors should never pass silently.\n",
      "Unless explicitly silenced.\n",
      "In the face of ambiguity, refuse the temptation to guess.\n",
      "There should be one-- and preferably only one --obvious way to do it.\n",
      "Although that way may not be obvious at first unless you're Dutch.\n",
      "Now is better than never.\n",
      "Although never is often better than *right* now.\n",
      "If the implementation is hard to explain, it's a bad idea.\n",
      "If the implementation is easy to explain, it may be a good idea.\n",
      "Namespaces are one honking great idea -- let's do more of those!\n"
     ]
    }
   ],
   "source": [
    "try:\n",
    "    # all your buggy code\n",
    "    pass\n",
    "except:\n",
    "    pass\n",
    "\n",
    "import this"
   ]
  },
  {
   "cell_type": "markdown",
   "id": "0c651964-8a21-4f55-8ad3-a97c460bf57c",
   "metadata": {},
   "source": [
    "The loop below breaks long before s reaches 1000 - 1, or 999."
   ]
  },
  {
   "cell_type": "code",
   "execution_count": 13,
   "id": "20dd5ca5-ea81-47c6-a8df-791e968f1684",
   "metadata": {},
   "outputs": [
    {
     "name": "stdout",
     "output_type": "stream",
     "text": [
      "0 1 2 3 4 5 6 7 8 9 10 11 \n"
     ]
    }
   ],
   "source": [
    "for s in range(1000):\n",
    "    print(s, end=\" \")\n",
    "    if s > 10:\n",
    "        print()\n",
    "        break"
   ]
  },
  {
   "cell_type": "markdown",
   "id": "42b86165-3ac7-4831-adb9-a04abdda48ef",
   "metadata": {},
   "source": [
    "Below is a Python script for playing a guessing game.  \n",
    "\n",
    "The `while True` loop keeps giving the player a next turn, but when the player wins or runs out of turns or quits, the keyword `break` stops the action. \n",
    "\n",
    "The keyword `continue` does not break out of the loop, but merely jumps us to the top of the loop.  One could call it a \"short cut\" as it tells Python to skip executing the rest of the loop and go back to the initial `while` or `for` statement.\n",
    "\n",
    "Both `break` and `continue` have a role to play in the code below."
   ]
  },
  {
   "cell_type": "code",
   "execution_count": 14,
   "id": "4af2e2f3-5c73-4f81-9cb6-cfa3229f76ef",
   "metadata": {},
   "outputs": [
    {
     "name": "stdout",
     "output_type": "stream",
     "text": [
      "I'm thinking of a number from 1 to 10.\n",
      "What is it?\n",
      "You have 5 guesses, enter q to quit\n"
     ]
    },
    {
     "name": "stdin",
     "output_type": "stream",
     "text": [
      "Your guess >  9\n"
     ]
    },
    {
     "name": "stdout",
     "output_type": "stream",
     "text": [
      "Too high.\n",
      "Guesses remaining: 4\n"
     ]
    },
    {
     "name": "stdin",
     "output_type": "stream",
     "text": [
      "Your guess >  3\n"
     ]
    },
    {
     "name": "stdout",
     "output_type": "stream",
     "text": [
      "Yay, you won!  Congratulations!\n",
      "Lets play again soon\n"
     ]
    }
   ],
   "source": [
    "from random import randint\n",
    "\n",
    "guesses = 5\n",
    "guess   = randint(1, 10)  # adjust at will\n",
    "\n",
    "print(\"I'm thinking of a number from 1 to 10.\\nWhat is it?\")\n",
    "print(\"You have 5 guesses, enter q to quit\")\n",
    "\n",
    "while True:\n",
    "    \n",
    "    # are we done?\n",
    "    if guesses == 0:\n",
    "        print(\"Sorry, no more guesses, you lose.\")\n",
    "        break\n",
    "\n",
    "    ans = input(\"Your guess > \")\n",
    "    \n",
    "    # initial answer check\n",
    "    if ans.upper() == \"Q\":\n",
    "        print(\"OK bye\")\n",
    "        break\n",
    "    if not ans.isdigit() or not 1 <= int(ans) <= 10:\n",
    "        print(\"Integer between 1 and 10 please\")\n",
    "        # guesses -= 1\n",
    "        print(f\"Guesses remaining: {guesses}\")\n",
    "        continue\n",
    "        \n",
    "    # if not quitting and not illegal input...\n",
    "    answer = int(ans)\n",
    "    if answer == guess:\n",
    "        print(\"Yay, you won!  Congratulations!\")\n",
    "        break\n",
    "    elif answer < guess:\n",
    "        print(\"Too low.\")\n",
    "    else:\n",
    "        print(\"Too high.\")\n",
    "        \n",
    "    guesses -= 1\n",
    "    print(f\"Guesses remaining: {guesses}\")\n",
    "\n",
    "print(\"Lets play again soon\")"
   ]
  },
  {
   "cell_type": "markdown",
   "id": "8903dcda-338f-413e-84de-a9fe70eee22e",
   "metadata": {},
   "source": [
    "### List Comprehension Syntax\n",
    "\n",
    "Now that you know about lists collections, and about for loops, lets check out a pithy syntax Pythonistas tend to favor for its conciseness."
   ]
  },
  {
   "cell_type": "code",
   "execution_count": 15,
   "id": "5b154df6-451e-498a-9b18-0db7baf6157d",
   "metadata": {},
   "outputs": [
    {
     "data": {
      "text/plain": [
       "[0, 1, 3, 6, 10, 15, 21, 28, 36, 45, 55]"
      ]
     },
     "execution_count": 15,
     "metadata": {},
     "output_type": "execute_result"
    }
   ],
   "source": [
    "# https://oeis.org/A000217\n",
    "A000217 = [n * (n + 1)//2 for n in range(0, 11)]\n",
    "\n",
    "A000217"
   ]
  },
  {
   "cell_type": "code",
   "execution_count": 16,
   "id": "a964eb61-55fd-4c35-a152-9427e93fe9b5",
   "metadata": {},
   "outputs": [
    {
     "data": {
      "text/plain": [
       "[0, 1, 4, 9, 16, 25, 36, 49, 64, 81, 100]"
      ]
     },
     "execution_count": 16,
     "metadata": {},
     "output_type": "execute_result"
    }
   ],
   "source": [
    "# https://oeis.org/A000290\n",
    "\n",
    "A000290 = [n**2 for n in range(0, 11)]\n",
    "\n",
    "A000290"
   ]
  },
  {
   "cell_type": "code",
   "execution_count": 17,
   "id": "7e60875e-b5bc-4f0e-88c1-efe2e788cfdd",
   "metadata": {},
   "outputs": [
    {
     "data": {
      "text/plain": [
       "[0, 1, 3, 6, 10, 15, 21, 28, 36, 45, 55]"
      ]
     },
     "execution_count": 17,
     "metadata": {},
     "output_type": "execute_result"
    }
   ],
   "source": [
    "# https://oeis.org/A000217\n",
    "A000217 = [n * (n + 1)//2 for n in range(0, 11)]\n",
    "\n",
    "A000217"
   ]
  },
  {
   "cell_type": "code",
   "execution_count": 18,
   "id": "d46034ca-7ec2-47b2-8061-e7adade4fe6a",
   "metadata": {},
   "outputs": [
    {
     "data": {
      "text/plain": [
       "[1, 42, 92, 162, 252, 362, 492, 642, 812, 1002]"
      ]
     },
     "execution_count": 18,
     "metadata": {},
     "output_type": "execute_result"
    }
   ],
   "source": [
    "# https://oeis.org/A005901\n",
    "A005901 = [(10 * f * f + 2 if f > 1 else 1) \n",
    "           for f in range(1, 11)]\n",
    "\n",
    "A005901"
   ]
  },
  {
   "cell_type": "markdown",
   "id": "13059761-e978-4674-a9a7-b1cc1987df75",
   "metadata": {},
   "source": [
    "List comprehensions also accept an optional if clause, which may be used to filter out unwanted values.\n",
    "\n",
    "The if clause below only keeps `eye` if it has no factors in common with `n` other than 1.  Two integers with no factors in common other than 1 are known as \"strangers\" to one another, or as \"relatively prime\".  The number of strangers from n-1 down to 1, is known as the \"totient\" of n."
   ]
  },
  {
   "cell_type": "code",
   "execution_count": 19,
   "id": "a54690a5-a603-4026-8127-88be84e04cf5",
   "metadata": {},
   "outputs": [
    {
     "name": "stdout",
     "output_type": "stream",
     "text": [
      "[1, 3, 7, 9, 11, 13, 17, 19]\n"
     ]
    }
   ],
   "source": [
    "from math import gcd\n",
    "n = 20\n",
    "\n",
    "strangers = [ eye for eye in range(n) if gcd(eye, n) == 1 ]\n",
    "print(strangers)"
   ]
  },
  {
   "cell_type": "code",
   "execution_count": 20,
   "id": "a2fb496c-df10-4265-a276-834720c1d419",
   "metadata": {},
   "outputs": [
    {
     "name": "stdout",
     "output_type": "stream",
     "text": [
      "The totient of n=20 is 8\n"
     ]
    }
   ],
   "source": [
    "totient = len(strangers)\n",
    "print(f\"The totient of n={n} is {totient}\")"
   ]
  },
  {
   "cell_type": "markdown",
   "id": "9ea5c8a9-cc60-49e8-8382-b5a1b827c226",
   "metadata": {},
   "source": [
    "The idea of list comprehensions gave rise to set and dict comprehension syntax.  There's also the parentheses-based \"generator expression\".  You might have imagined a \"tuple comprehension\" but that turns out to be unnecessary.  \n",
    "\n",
    "A generator expression doesn't actually contain all the values in precomputed form, like a list would.  It computes next values \"on demand\".  This turns out to be a deep concept."
   ]
  },
  {
   "cell_type": "markdown",
   "id": "25e4c364-920b-45ab-9f93-a84c04ad5948",
   "metadata": {},
   "source": [
    "### Match-Case Syntax (new in 3.10)\n",
    "\n",
    "Until version 3.10, Python never had a true switch statement, a common pattern in other languages.  Python's match-case is a powerful addition to the flow control toolkit."
   ]
  },
  {
   "cell_type": "markdown",
   "id": "3d15737b-e6ff-46de-8990-31ff23de32db",
   "metadata": {},
   "source": [
    "## Some Summary Scripts\n",
    "\n",
    "Now that we have a lot of Python behind us, lets use fragments from previous sessions to convert the `links.txt` file into .csv and .json files.\n",
    "\n",
    "What you're checking for are signs that Python has become readable, and the \"plots\" of the following \"stories\" comes through loud and clear. Remember these scripts run top to bottom.\n",
    "\n",
    "In each case, we're either reading from one format in order to save in another, or simply consulting the data in one form or another, perhaps pulling it up in a sorted order."
   ]
  },
  {
   "cell_type": "code",
   "execution_count": 21,
   "id": "72a427ff-c465-434e-b1ac-a917246b4406",
   "metadata": {},
   "outputs": [],
   "source": [
    "from csv import writer\n",
    "links_obj = open(\"links.txt\", 'r')\n",
    "csv_file  = open(\"links.csv\", 'w')\n",
    "\n",
    "output = writer(csv_file, delimiter=\",\")\n",
    "\n",
    "output.writerow([\"Link\", \"URL\"])\n",
    "for line in links_obj.readlines():\n",
    "    row = line[:-2].replace(\"* [\",\"\").split(\"](\")\n",
    "    output.writerow(row)\n",
    "    \n",
    "csv_file.close()\n",
    "links_obj.close()"
   ]
  },
  {
   "cell_type": "code",
   "execution_count": 22,
   "id": "487526f4-a39f-4755-9124-568dcd0f95f6",
   "metadata": {},
   "outputs": [
    {
     "name": "stdout",
     "output_type": "stream",
     "text": [
      "Link,URL\n",
      "This Notebook on Colab,https://colab.research.google.com/github/4dsolutions/bootcamp/blob/main/session1.ipynb\n",
      "This Notebook on nbviewer,https://nbviewer.org/github/4dsolutions/bootcamp/blob/main/session1.ipynb\n",
      "Python.org Home Page,https://www.python.org\n",
      "Beginner's Guide,https://wiki.python.org/moin/BeginnersGuide\n",
      "Python PEPs,https://www.python.org/dev/peps/\n",
      "PEP 8,https://www.python.org/dev/peps/pep-0008/\n",
      "PEP8.org,https://pep8.org\n",
      "Standard Library Modules,https://docs.python.org/3/library/index.html\n",
      "Formatting Mini-Language,https://docs.python.org/3/library/string.html#formatspec\n",
      "Python Documentation,https://docs.python.org/3/\n",
      "Anaconda Home Page,https://anaconda.org\n",
      "Jupyter Project,https://jupyter.org/\n",
      "Markdown Cheat Sheet,https://notebook.community/tschinz/iPython_Workspace/00_Admin/CheatSheet/Markdown%20CheatSheet\n",
      "Repl.it,https://replit.com/site/ide\n",
      "Course Album,https://flic.kr/s/aHBqjzCs82\n",
      "Course Repository,https://github.com/4dsolutions/bootcamp\n",
      "This Notebook on Colab,https\n"
     ]
    }
   ],
   "source": [
    "csv_file = open(\"links.csv\", \"r\")\n",
    "print(csv_file.read()[:1000])  # or print the whole thing\n",
    "csv_file.close()"
   ]
  },
  {
   "cell_type": "code",
   "execution_count": 23,
   "id": "f20fee4d-5944-40bc-af97-a572a6a72b34",
   "metadata": {},
   "outputs": [],
   "source": [
    "import json\n",
    "import csv\n",
    "\n",
    "csv_file = open(\"links.csv\", \"r\")\n",
    "csv_reader = csv.reader(csv_file)\n",
    "\n",
    "pairs = {}  # empty dict\n",
    "for line in csv_reader:\n",
    "    if line[0] == \"Link\":\n",
    "        continue\n",
    "    pairs[line[0]]=line[1]  # building up the dict\n",
    "csv_file.close()\n",
    "\n",
    "# print(pairs)  -- uncomment if you wish\n",
    "\n",
    "json_file = open(\"links.json\",'w')\n",
    "json.dump(pairs, json_file)\n",
    "json_file.close()"
   ]
  },
  {
   "cell_type": "markdown",
   "id": "4c4b21bb-9905-41a1-9662-d7f8073db0d2",
   "metadata": {},
   "source": [
    "The script below uses the `links.json` file we just created to populate a SQLite database.\n",
    "\n",
    "<a data-flickr-embed=\"true\" href=\"https://www.flickr.com/photos/kirbyurner/24749338009/in/album-72177720296706479/\" title=\"Pythonic Ecosystem\"><img src=\"https://live.staticflickr.com/1624/24749338009_537ab57eb1.jpg\" width=\"375\" height=\"500\" alt=\"Pythonic Ecosystem\"></a><script async src=\"//embedr.flickr.com/assets/client-code.js\" charset=\"utf-8\"></script>"
   ]
  },
  {
   "cell_type": "code",
   "execution_count": 24,
   "id": "f114ad82-2fb7-42b5-84bd-332cd7ecdad8",
   "metadata": {},
   "outputs": [],
   "source": [
    "import sqlite3\n",
    "import json\n",
    "\n",
    "con = sqlite3.connect('links.db')\n",
    "cur = con.cursor()\n",
    "\n",
    "# Create table\n",
    "cur.execute(\"\"\"DROP TABLE IF EXISTS BookMarks\"\"\")\n",
    "cur.execute('''CREATE TABLE BookMarks\n",
    "               (location text, \n",
    "                url text UNIQUE)''')\n",
    "\n",
    "json_file = open(\"links.json\",'r')\n",
    "pairs = json.load(json_file)\n",
    "json_file.close()\n",
    "\n",
    "# Insert a row of data\n",
    "for key in pairs:\n",
    "    value = pairs[key]\n",
    "    cur.execute('INSERT OR REPLACE INTO BookMarks (location, url) VALUES(?,?)', (key, value))\n",
    "\n",
    "# Save (commit) the changes\n",
    "con.commit()\n",
    "\n",
    "# We can also close the connection if we are done with it.\n",
    "# Just be sure any changes have been committed or they will be lost.\n",
    "con.close()"
   ]
  },
  {
   "cell_type": "code",
   "execution_count": 25,
   "id": "26891a68-82a3-44fc-896e-22779406da7b",
   "metadata": {},
   "outputs": [
    {
     "name": "stdout",
     "output_type": "stream",
     "text": [
      "('Python.org Home Page', 'https://www.python.org')\n",
      "('Python PEPs', 'https://www.python.org/dev/peps/')\n",
      "('Python Documentation', 'https://docs.python.org/3/')\n",
      "('Python Environment (XKCD)', 'https://xkcd.com/1987/')\n",
      "('I-Python magics', 'https://ipython.readthedocs.io/en/stable/interactive/magics.html')\n",
      "('Python-ds', 'https://www.python-ds.com/')\n",
      "('Python Data Science Handbook by Jake VanderPlas', 'https://jakevdp.github.io/PythonDataScienceHandbook')\n",
      "('Python Data Structures', 'https://docs.python.org/3/tutorial/datastructures.html')\n",
      "('Python driver for MongoDB', 'https://www.mongodb.com/languages/python')\n",
      "('HOW TO: sqlite3 in Python', 'https://docs.python.org/3/library/sqlite3.html')\n"
     ]
    }
   ],
   "source": [
    "con = sqlite3.connect('links.db')\n",
    "cur = con.cursor()\n",
    "cur.execute('SELECT * FROM BookMarks WHERE INSTR(location, \"Python\")')\n",
    "for record in cur.fetchall():\n",
    "    print(record)\n",
    "con.close()"
   ]
  },
  {
   "cell_type": "code",
   "execution_count": 26,
   "id": "6d232857-01df-464c-b569-a744431dd26a",
   "metadata": {},
   "outputs": [
    {
     "name": "stdout",
     "output_type": "stream",
     "text": [
      "('vZome: json case study', 'https://github.com/dekay5555555/vzome-sharing/tree/main/2022/02/16/19-38-24-icosa-test')\n"
     ]
    }
   ],
   "source": [
    "con = sqlite3.connect('links.db')\n",
    "cur = con.cursor()\n",
    "cur.execute('SELECT * FROM BookMarks WHERE INSTR(location, \"vZome\")')\n",
    "for record in cur.fetchall():\n",
    "    print(record)\n",
    "con.close()"
   ]
  },
  {
   "cell_type": "markdown",
   "id": "857a6bef-59df-4abc-be03-9f8d82332407",
   "metadata": {},
   "source": [
    "### Previewing pandas\n",
    "\n",
    "The star object in pandas is the DataFrame, much as the star (celebrated) object in numpy is the ndarray.  The two go together.  ndarrays stand up vertical column vectors, called Series in pandas. Series stand side-by-side to create a DataFrame of multiple columns.\n",
    "\n",
    "A DataFrame is akin to a table in a spreadsheet, a rows and columns affair.  Rows and columns remain our everyday data structure rolling forward.  Only the API has changed."
   ]
  },
  {
   "cell_type": "code",
   "execution_count": 27,
   "id": "639e097c-c138-4de5-bd58-ee639a4e1d3b",
   "metadata": {},
   "outputs": [
    {
     "data": {
      "text/html": [
       "<div>\n",
       "<style scoped>\n",
       "    .dataframe tbody tr th:only-of-type {\n",
       "        vertical-align: middle;\n",
       "    }\n",
       "\n",
       "    .dataframe tbody tr th {\n",
       "        vertical-align: top;\n",
       "    }\n",
       "\n",
       "    .dataframe thead th {\n",
       "        text-align: right;\n",
       "    }\n",
       "</style>\n",
       "<table border=\"1\" class=\"dataframe\">\n",
       "  <thead>\n",
       "    <tr style=\"text-align: right;\">\n",
       "      <th></th>\n",
       "      <th>location</th>\n",
       "      <th>url</th>\n",
       "    </tr>\n",
       "  </thead>\n",
       "  <tbody>\n",
       "    <tr>\n",
       "      <th>0</th>\n",
       "      <td>This Notebook on Colab</td>\n",
       "      <td>https://colab.research.google.com/github/4dsolutions/bootcamp/blob/main/session1.ipynb</td>\n",
       "    </tr>\n",
       "    <tr>\n",
       "      <th>1</th>\n",
       "      <td>This Notebook on nbviewer</td>\n",
       "      <td>https://nbviewer.org/github/4dsolutions/bootcamp/blob/main/session1.ipynb</td>\n",
       "    </tr>\n",
       "    <tr>\n",
       "      <th>2</th>\n",
       "      <td>Python.org Home Page</td>\n",
       "      <td>https://www.python.org</td>\n",
       "    </tr>\n",
       "    <tr>\n",
       "      <th>3</th>\n",
       "      <td>Beginner's Guide</td>\n",
       "      <td>https://wiki.python.org/moin/BeginnersGuide</td>\n",
       "    </tr>\n",
       "    <tr>\n",
       "      <th>4</th>\n",
       "      <td>Python PEPs</td>\n",
       "      <td>https://www.python.org/dev/peps/</td>\n",
       "    </tr>\n",
       "    <tr>\n",
       "      <th>5</th>\n",
       "      <td>PEP 8</td>\n",
       "      <td>https://www.python.org/dev/peps/pep-0008/</td>\n",
       "    </tr>\n",
       "    <tr>\n",
       "      <th>6</th>\n",
       "      <td>PEP8.org</td>\n",
       "      <td>https://pep8.org</td>\n",
       "    </tr>\n",
       "    <tr>\n",
       "      <th>7</th>\n",
       "      <td>Standard Library Modules</td>\n",
       "      <td>https://docs.python.org/3/library/index.html</td>\n",
       "    </tr>\n",
       "    <tr>\n",
       "      <th>8</th>\n",
       "      <td>Python Documentation</td>\n",
       "      <td>https://docs.python.org/3/</td>\n",
       "    </tr>\n",
       "    <tr>\n",
       "      <th>9</th>\n",
       "      <td>Anaconda Home Page</td>\n",
       "      <td>https://anaconda.org</td>\n",
       "    </tr>\n",
       "  </tbody>\n",
       "</table>\n",
       "</div>"
      ],
      "text/plain": [
       "                    location  \\\n",
       "0     This Notebook on Colab   \n",
       "1  This Notebook on nbviewer   \n",
       "2       Python.org Home Page   \n",
       "3           Beginner's Guide   \n",
       "4                Python PEPs   \n",
       "5                      PEP 8   \n",
       "6                   PEP8.org   \n",
       "7   Standard Library Modules   \n",
       "8       Python Documentation   \n",
       "9         Anaconda Home Page   \n",
       "\n",
       "                                                                                      url  \n",
       "0  https://colab.research.google.com/github/4dsolutions/bootcamp/blob/main/session1.ipynb  \n",
       "1               https://nbviewer.org/github/4dsolutions/bootcamp/blob/main/session1.ipynb  \n",
       "2                                                                  https://www.python.org  \n",
       "3                                             https://wiki.python.org/moin/BeginnersGuide  \n",
       "4                                                        https://www.python.org/dev/peps/  \n",
       "5                                               https://www.python.org/dev/peps/pep-0008/  \n",
       "6                                                                        https://pep8.org  \n",
       "7                                            https://docs.python.org/3/library/index.html  \n",
       "8                                                              https://docs.python.org/3/  \n",
       "9                                                                    https://anaconda.org  "
      ]
     },
     "execution_count": 27,
     "metadata": {},
     "output_type": "execute_result"
    }
   ],
   "source": [
    "import pandas as pd\n",
    "pd.set_option('display.max_colwidth', None)  # or 199\n",
    "con = sqlite3.connect('links.db')\n",
    "\n",
    "# read directly from sqlite3 and/or a SQL Alchemy database\n",
    "df = pd.read_sql(\"SELECT * FROM BookMarks\", con)\n",
    "df.head(10)"
   ]
  },
  {
   "cell_type": "code",
   "execution_count": 28,
   "id": "98203982-79b5-4811-be7f-1e6c56135ece",
   "metadata": {},
   "outputs": [
    {
     "data": {
      "text/html": [
       "<div>\n",
       "<style scoped>\n",
       "    .dataframe tbody tr th:only-of-type {\n",
       "        vertical-align: middle;\n",
       "    }\n",
       "\n",
       "    .dataframe tbody tr th {\n",
       "        vertical-align: top;\n",
       "    }\n",
       "\n",
       "    .dataframe thead th {\n",
       "        text-align: right;\n",
       "    }\n",
       "</style>\n",
       "<table border=\"1\" class=\"dataframe\">\n",
       "  <thead>\n",
       "    <tr style=\"text-align: right;\">\n",
       "      <th></th>\n",
       "      <th>location</th>\n",
       "      <th>url</th>\n",
       "    </tr>\n",
       "  </thead>\n",
       "  <tbody>\n",
       "    <tr>\n",
       "      <th>20</th>\n",
       "      <td>Python Environment (XKCD)</td>\n",
       "      <td>https://xkcd.com/1987/</td>\n",
       "    </tr>\n",
       "    <tr>\n",
       "      <th>21</th>\n",
       "      <td>LaTeX cheat sheet</td>\n",
       "      <td>https://joshua.smcvt.edu/undergradmath/undergradmath.pdf</td>\n",
       "    </tr>\n",
       "    <tr>\n",
       "      <th>22</th>\n",
       "      <td>I-Python magics</td>\n",
       "      <td>https://ipython.readthedocs.io/en/stable/interactive/magics.html</td>\n",
       "    </tr>\n",
       "    <tr>\n",
       "      <th>23</th>\n",
       "      <td>json module</td>\n",
       "      <td>https://docs.python.org/3/library/string.html#formatspec</td>\n",
       "    </tr>\n",
       "    <tr>\n",
       "      <th>24</th>\n",
       "      <td>vZome: json case study</td>\n",
       "      <td>https://github.com/dekay5555555/vzome-sharing/tree/main/2022/02/16/19-38-24-icosa-test</td>\n",
       "    </tr>\n",
       "    <tr>\n",
       "      <th>25</th>\n",
       "      <td>PEP 238 re Changing the Division Operator</td>\n",
       "      <td>https://www.python.org/dev/peps/pep-0238/</td>\n",
       "    </tr>\n",
       "    <tr>\n",
       "      <th>26</th>\n",
       "      <td>Brief Tour of the Standard Library</td>\n",
       "      <td>https://docs.python.org/3/tutorial/stdlib.html</td>\n",
       "    </tr>\n",
       "    <tr>\n",
       "      <th>27</th>\n",
       "      <td>HOW TO: Unicode</td>\n",
       "      <td>https://docs.python.org/3/howto/unicode.html</td>\n",
       "    </tr>\n",
       "    <tr>\n",
       "      <th>28</th>\n",
       "      <td>Escape Sequences</td>\n",
       "      <td>https://www.python-ds.com/python-3-escape-sequences</td>\n",
       "    </tr>\n",
       "    <tr>\n",
       "      <th>29</th>\n",
       "      <td>Python-ds</td>\n",
       "      <td>https://www.python-ds.com/</td>\n",
       "    </tr>\n",
       "  </tbody>\n",
       "</table>\n",
       "</div>"
      ],
      "text/plain": [
       "                                     location  \\\n",
       "20                  Python Environment (XKCD)   \n",
       "21                          LaTeX cheat sheet   \n",
       "22                            I-Python magics   \n",
       "23                                json module   \n",
       "24                     vZome: json case study   \n",
       "25  PEP 238 re Changing the Division Operator   \n",
       "26         Brief Tour of the Standard Library   \n",
       "27                            HOW TO: Unicode   \n",
       "28                           Escape Sequences   \n",
       "29                                  Python-ds   \n",
       "\n",
       "                                                                                       url  \n",
       "20                                                                  https://xkcd.com/1987/  \n",
       "21                                https://joshua.smcvt.edu/undergradmath/undergradmath.pdf  \n",
       "22                        https://ipython.readthedocs.io/en/stable/interactive/magics.html  \n",
       "23                                https://docs.python.org/3/library/string.html#formatspec  \n",
       "24  https://github.com/dekay5555555/vzome-sharing/tree/main/2022/02/16/19-38-24-icosa-test  \n",
       "25                                               https://www.python.org/dev/peps/pep-0238/  \n",
       "26                                          https://docs.python.org/3/tutorial/stdlib.html  \n",
       "27                                            https://docs.python.org/3/howto/unicode.html  \n",
       "28                                     https://www.python-ds.com/python-3-escape-sequences  \n",
       "29                                                              https://www.python-ds.com/  "
      ]
     },
     "execution_count": 28,
     "metadata": {},
     "output_type": "execute_result"
    }
   ],
   "source": [
    "df[20:30]"
   ]
  },
  {
   "cell_type": "code",
   "execution_count": 29,
   "id": "b2c0a67f-1463-4c07-91eb-b7974ab7a81f",
   "metadata": {},
   "outputs": [
    {
     "data": {
      "text/plain": [
       "50    https://www.theatlantic.com/magazine/archive/1945/07/as-we-may-think/303881/\n",
       "Name: url, dtype: object"
      ]
     },
     "execution_count": 29,
     "metadata": {},
     "output_type": "execute_result"
    }
   ],
   "source": [
    "df[50:51].url"
   ]
  },
  {
   "cell_type": "code",
   "execution_count": 30,
   "id": "70db03ce-a1f0-45c3-858c-c7b5a7b59123",
   "metadata": {},
   "outputs": [],
   "source": [
    "sorted_table = df.sort_values([\"location\"])"
   ]
  },
  {
   "cell_type": "code",
   "execution_count": 31,
   "id": "563fa6e7-a67f-4364-b60b-ff23ed31be45",
   "metadata": {},
   "outputs": [
    {
     "data": {
      "text/html": [
       "<div>\n",
       "<style scoped>\n",
       "    .dataframe tbody tr th:only-of-type {\n",
       "        vertical-align: middle;\n",
       "    }\n",
       "\n",
       "    .dataframe tbody tr th {\n",
       "        vertical-align: top;\n",
       "    }\n",
       "\n",
       "    .dataframe thead th {\n",
       "        text-align: right;\n",
       "    }\n",
       "</style>\n",
       "<table border=\"1\" class=\"dataframe\">\n",
       "  <thead>\n",
       "    <tr style=\"text-align: right;\">\n",
       "      <th></th>\n",
       "      <th>location</th>\n",
       "      <th>url</th>\n",
       "    </tr>\n",
       "  </thead>\n",
       "  <tbody>\n",
       "    <tr>\n",
       "      <th>43</th>\n",
       "      <td>A Neural Network Playground</td>\n",
       "      <td>https://playground.tensorflow.org/</td>\n",
       "    </tr>\n",
       "    <tr>\n",
       "      <th>9</th>\n",
       "      <td>Anaconda Home Page</td>\n",
       "      <td>https://anaconda.org</td>\n",
       "    </tr>\n",
       "    <tr>\n",
       "      <th>50</th>\n",
       "      <td>As We May Think (*Atlantic Montly*, 1945)</td>\n",
       "      <td>https://www.theatlantic.com/magazine/archive/1945/07/as-we-may-think/303881/</td>\n",
       "    </tr>\n",
       "    <tr>\n",
       "      <th>3</th>\n",
       "      <td>Beginner's Guide</td>\n",
       "      <td>https://wiki.python.org/moin/BeginnersGuide</td>\n",
       "    </tr>\n",
       "    <tr>\n",
       "      <th>26</th>\n",
       "      <td>Brief Tour of the Standard Library</td>\n",
       "      <td>https://docs.python.org/3/tutorial/stdlib.html</td>\n",
       "    </tr>\n",
       "    <tr>\n",
       "      <th>17</th>\n",
       "      <td>Built-in Types</td>\n",
       "      <td>https://docs.python.org/3/library/stdtypes.html</td>\n",
       "    </tr>\n",
       "    <tr>\n",
       "      <th>56</th>\n",
       "      <td>Case-Match Syntax in 3.10+</td>\n",
       "      <td>https://www.pythonpool.com/match-case-python/</td>\n",
       "    </tr>\n",
       "    <tr>\n",
       "      <th>35</th>\n",
       "      <td>Common String Operations</td>\n",
       "      <td>https://docs.python.org/3/library/string.html</td>\n",
       "    </tr>\n",
       "    <tr>\n",
       "      <th>13</th>\n",
       "      <td>Course Album</td>\n",
       "      <td>https://flic.kr/s/aHBqjzCs82</td>\n",
       "    </tr>\n",
       "    <tr>\n",
       "      <th>14</th>\n",
       "      <td>Course Repository</td>\n",
       "      <td>https://github.com/4dsolutions/bootcamp</td>\n",
       "    </tr>\n",
       "    <tr>\n",
       "      <th>30</th>\n",
       "      <td>Django Web Framework</td>\n",
       "      <td>https://www.djangoproject.com/</td>\n",
       "    </tr>\n",
       "    <tr>\n",
       "      <th>19</th>\n",
       "      <td>Emojipedia</td>\n",
       "      <td>https://emojipedia.org/</td>\n",
       "    </tr>\n",
       "    <tr>\n",
       "      <th>28</th>\n",
       "      <td>Escape Sequences</td>\n",
       "      <td>https://www.python-ds.com/python-3-escape-sequences</td>\n",
       "    </tr>\n",
       "    <tr>\n",
       "      <th>36</th>\n",
       "      <td>Example StackOverflow Question</td>\n",
       "      <td>https://stackoverflow.com/questions/432842/how-do-you-get-the-logical-xor-of-two-variables-in-python</td>\n",
       "    </tr>\n",
       "    <tr>\n",
       "      <th>31</th>\n",
       "      <td>Flask Web Framework</td>\n",
       "      <td>https://flask.palletsprojects.com/en/2.0.x/</td>\n",
       "    </tr>\n",
       "  </tbody>\n",
       "</table>\n",
       "</div>"
      ],
      "text/plain": [
       "                                     location  \\\n",
       "43                A Neural Network Playground   \n",
       "9                          Anaconda Home Page   \n",
       "50  As We May Think (*Atlantic Montly*, 1945)   \n",
       "3                            Beginner's Guide   \n",
       "26         Brief Tour of the Standard Library   \n",
       "17                             Built-in Types   \n",
       "56                 Case-Match Syntax in 3.10+   \n",
       "35                   Common String Operations   \n",
       "13                               Course Album   \n",
       "14                          Course Repository   \n",
       "30                       Django Web Framework   \n",
       "19                                 Emojipedia   \n",
       "28                           Escape Sequences   \n",
       "36             Example StackOverflow Question   \n",
       "31                        Flask Web Framework   \n",
       "\n",
       "                                                                                                     url  \n",
       "43                                                                    https://playground.tensorflow.org/  \n",
       "9                                                                                   https://anaconda.org  \n",
       "50                          https://www.theatlantic.com/magazine/archive/1945/07/as-we-may-think/303881/  \n",
       "3                                                            https://wiki.python.org/moin/BeginnersGuide  \n",
       "26                                                        https://docs.python.org/3/tutorial/stdlib.html  \n",
       "17                                                       https://docs.python.org/3/library/stdtypes.html  \n",
       "56                                                         https://www.pythonpool.com/match-case-python/  \n",
       "35                                                         https://docs.python.org/3/library/string.html  \n",
       "13                                                                          https://flic.kr/s/aHBqjzCs82  \n",
       "14                                                               https://github.com/4dsolutions/bootcamp  \n",
       "30                                                                        https://www.djangoproject.com/  \n",
       "19                                                                               https://emojipedia.org/  \n",
       "28                                                   https://www.python-ds.com/python-3-escape-sequences  \n",
       "36  https://stackoverflow.com/questions/432842/how-do-you-get-the-logical-xor-of-two-variables-in-python  \n",
       "31                                                           https://flask.palletsprojects.com/en/2.0.x/  "
      ]
     },
     "execution_count": 31,
     "metadata": {},
     "output_type": "execute_result"
    }
   ],
   "source": [
    "sorted_table.head(15)"
   ]
  },
  {
   "cell_type": "code",
   "execution_count": 32,
   "id": "2860b8f9-d80d-4bce-a435-435a12ffdb53",
   "metadata": {},
   "outputs": [
    {
     "data": {
      "text/plain": [
       "Index(['location', 'url'], dtype='object')"
      ]
     },
     "execution_count": 32,
     "metadata": {},
     "output_type": "execute_result"
    }
   ],
   "source": [
    "df.columns"
   ]
  },
  {
   "cell_type": "markdown",
   "id": "d7eea71e-125b-4061-8fc8-b72dfef288e7",
   "metadata": {},
   "source": [
    "### HTML as Structured Storage\n",
    "\n",
    "There's still another put format that's considered a standard, and human readable:  HTML itself.  Having `links.txt` and even `links.csv` with no `links.html` would seem an oversight.  After all, even with no JavaScript running, an HTML file consisting of links, in a browser tab, will still be readable and clickable."
   ]
  },
  {
   "cell_type": "code",
   "execution_count": 33,
   "id": "5721bee0-a129-42a5-841d-224a634ed47a",
   "metadata": {},
   "outputs": [],
   "source": [
    "webpage = \\\n",
    "\"\"\"<html>\n",
    "<head>\n",
    "<title>{title}</title>\n",
    "</head>\n",
    "<body>\n",
    "{body}\n",
    "</body>\n",
    "</html>\n",
    "\"\"\""
   ]
  },
  {
   "cell_type": "code",
   "execution_count": 34,
   "id": "92243b31-5e52-4a8f-b7f5-53befd6740d2",
   "metadata": {},
   "outputs": [],
   "source": [
    "title = \"Useful Links\"\n",
    "\n",
    "json_file = open(\"links.json\",'r')\n",
    "pairs = json.load(json_file)\n",
    "json_file.close()\n",
    "\n",
    "links = \"\"\n",
    "for location in sorted(pairs.keys()):\n",
    "    url = pairs[location]\n",
    "    links += f\"<li><a href='{url}'>{location}</a></li>\\n\"\n",
    "\n",
    "# insert links into body below\n",
    "body = \\\n",
    "f\"\"\"<h1>Useful Links</h1>\n",
    "<ul>\n",
    "{links}</ul>\"\"\"\n",
    "\n",
    "# save completed web page\n",
    "outfile = open(\"links.html\", \"w\")\n",
    "print(webpage.format(title=title, body=body), file=outfile)\n",
    "outfile.close()"
   ]
  },
  {
   "cell_type": "markdown",
   "id": "37006bd7-7be2-4ac6-90c4-7c5f4799e447",
   "metadata": {},
   "source": [
    "Are we ready to play similar games using `glossary.txt` as input?  Like with `links.txt`, all the markdown from each of the Notebooks has been cut and pasted into a single text file.  The job now is to parse it and save it in a more standard format, such as csv, json or sqlite3."
   ]
  },
  {
   "cell_type": "code",
   "execution_count": 35,
   "id": "a3861339-6990-4719-936c-a05ae270cd94",
   "metadata": {},
   "outputs": [],
   "source": [
    "from csv import writer\n",
    "links_obj = open(\"glossary.txt\", 'r')\n",
    "csv_file  = open(\"glossary.csv\", 'w')\n",
    "\n",
    "output = writer(csv_file, delimiter=\"|\")\n",
    "\n",
    "output.writerow([\"Term\", \"Definition\"])\n",
    "for line in links_obj.readlines():\n",
    "    row = line[:-1].replace(\"* \",\"\").split(\":\")\n",
    "    output.writerow(row)\n",
    "    \n",
    "csv_file.close()\n",
    "links_obj.close()"
   ]
  },
  {
   "cell_type": "code",
   "execution_count": 36,
   "id": "1de27e7c-bb33-403a-bff7-26af872c42ac",
   "metadata": {},
   "outputs": [],
   "source": [
    "gloss_df = pd.read_csv(\"glossary.csv\", delimiter=\"|\")"
   ]
  },
  {
   "cell_type": "code",
   "execution_count": 37,
   "id": "f08dc09e-008e-4682-8ae5-791c8bcb95d8",
   "metadata": {},
   "outputs": [
    {
     "data": {
      "text/html": [
       "<div>\n",
       "<style scoped>\n",
       "    .dataframe tbody tr th:only-of-type {\n",
       "        vertical-align: middle;\n",
       "    }\n",
       "\n",
       "    .dataframe tbody tr th {\n",
       "        vertical-align: top;\n",
       "    }\n",
       "\n",
       "    .dataframe thead th {\n",
       "        text-align: right;\n",
       "    }\n",
       "</style>\n",
       "<table border=\"1\" class=\"dataframe\">\n",
       "  <thead>\n",
       "    <tr style=\"text-align: right;\">\n",
       "      <th></th>\n",
       "      <th>Term</th>\n",
       "      <th>Definition</th>\n",
       "    </tr>\n",
       "  </thead>\n",
       "  <tbody>\n",
       "    <tr>\n",
       "      <th>0</th>\n",
       "      <td>localhost</td>\n",
       "      <td>your own computer, with IP number 127.0.0.1</td>\n",
       "    </tr>\n",
       "    <tr>\n",
       "      <th>1</th>\n",
       "      <td>ASCII</td>\n",
       "      <td>American Standard Code for Information Interchange, 256 glyphs max.</td>\n",
       "    </tr>\n",
       "    <tr>\n",
       "      <th>2</th>\n",
       "      <td>BDFL</td>\n",
       "      <td>Guido's old title, Benevolent Dictator for Life (he's now BDFL emeritus)</td>\n",
       "    </tr>\n",
       "    <tr>\n",
       "      <th>3</th>\n",
       "      <td>Python</td>\n",
       "      <td>a general purpose, object-oriented computer language</td>\n",
       "    </tr>\n",
       "    <tr>\n",
       "      <th>4</th>\n",
       "      <td>Python 3</td>\n",
       "      <td>any 3.x version of Python</td>\n",
       "    </tr>\n",
       "  </tbody>\n",
       "</table>\n",
       "</div>"
      ],
      "text/plain": [
       "        Term  \\\n",
       "0  localhost   \n",
       "1      ASCII   \n",
       "2       BDFL   \n",
       "3     Python   \n",
       "4   Python 3   \n",
       "\n",
       "                                                                   Definition  \n",
       "0                                 your own computer, with IP number 127.0.0.1  \n",
       "1         American Standard Code for Information Interchange, 256 glyphs max.  \n",
       "2    Guido's old title, Benevolent Dictator for Life (he's now BDFL emeritus)  \n",
       "3                       a general purpose, object-oriented computer language   \n",
       "4                                                   any 3.x version of Python  "
      ]
     },
     "execution_count": 37,
     "metadata": {},
     "output_type": "execute_result"
    }
   ],
   "source": [
    "gloss_df.head()"
   ]
  },
  {
   "cell_type": "code",
   "execution_count": 38,
   "id": "15f5c7ff-d9c7-46ca-92ca-e789b4671e09",
   "metadata": {},
   "outputs": [],
   "source": [
    "gloss_sorted_table = gloss_df.sort_values([\"Term\"])"
   ]
  },
  {
   "cell_type": "code",
   "execution_count": 39,
   "id": "e18fcbc8-a934-4390-8404-753ba50b1f53",
   "metadata": {},
   "outputs": [
    {
     "data": {
      "text/html": [
       "<div>\n",
       "<style scoped>\n",
       "    .dataframe tbody tr th:only-of-type {\n",
       "        vertical-align: middle;\n",
       "    }\n",
       "\n",
       "    .dataframe tbody tr th {\n",
       "        vertical-align: top;\n",
       "    }\n",
       "\n",
       "    .dataframe thead th {\n",
       "        text-align: right;\n",
       "    }\n",
       "</style>\n",
       "<table border=\"1\" class=\"dataframe\">\n",
       "  <thead>\n",
       "    <tr style=\"text-align: right;\">\n",
       "      <th></th>\n",
       "      <th>Term</th>\n",
       "      <th>Definition</th>\n",
       "    </tr>\n",
       "  </thead>\n",
       "  <tbody>\n",
       "    <tr>\n",
       "      <th>40</th>\n",
       "      <td>\"magic method\"</td>\n",
       "      <td>Python method with a special name e.g. `__invert__`</td>\n",
       "    </tr>\n",
       "    <tr>\n",
       "      <th>1</th>\n",
       "      <td>ASCII</td>\n",
       "      <td>American Standard Code for Information Interchange, 256 glyphs max.</td>\n",
       "    </tr>\n",
       "    <tr>\n",
       "      <th>52</th>\n",
       "      <td>Angular</td>\n",
       "      <td>JS framework from Google</td>\n",
       "    </tr>\n",
       "    <tr>\n",
       "      <th>14</th>\n",
       "      <td>Apache</td>\n",
       "      <td>popular free webserver</td>\n",
       "    </tr>\n",
       "    <tr>\n",
       "      <th>20</th>\n",
       "      <td>Apache Cassandra</td>\n",
       "      <td>a popular NoSQL DB</td>\n",
       "    </tr>\n",
       "  </tbody>\n",
       "</table>\n",
       "</div>"
      ],
      "text/plain": [
       "                Term  \\\n",
       "40    \"magic method\"   \n",
       "1              ASCII   \n",
       "52           Angular   \n",
       "14            Apache   \n",
       "20  Apache Cassandra   \n",
       "\n",
       "                                                              Definition  \n",
       "40                   Python method with a special name e.g. `__invert__`  \n",
       "1    American Standard Code for Information Interchange, 256 glyphs max.  \n",
       "52                                              JS framework from Google  \n",
       "14                                                popular free webserver  \n",
       "20                                                    a popular NoSQL DB  "
      ]
     },
     "execution_count": 39,
     "metadata": {},
     "output_type": "execute_result"
    }
   ],
   "source": [
    "gloss_sorted_table.head()"
   ]
  },
  {
   "cell_type": "code",
   "execution_count": 40,
   "id": "e455877b-f3c9-495f-a9dc-240651772d10",
   "metadata": {},
   "outputs": [
    {
     "data": {
      "text/html": [
       "<div>\n",
       "<style scoped>\n",
       "    .dataframe tbody tr th:only-of-type {\n",
       "        vertical-align: middle;\n",
       "    }\n",
       "\n",
       "    .dataframe tbody tr th {\n",
       "        vertical-align: top;\n",
       "    }\n",
       "\n",
       "    .dataframe thead th {\n",
       "        text-align: right;\n",
       "    }\n",
       "</style>\n",
       "<table border=\"1\" class=\"dataframe\">\n",
       "  <thead>\n",
       "    <tr style=\"text-align: right;\">\n",
       "      <th></th>\n",
       "      <th>Term</th>\n",
       "      <th>Definition</th>\n",
       "    </tr>\n",
       "  </thead>\n",
       "  <tbody>\n",
       "    <tr>\n",
       "      <th>67</th>\n",
       "      <td>regex</td>\n",
       "      <td>Regular Expression</td>\n",
       "    </tr>\n",
       "    <tr>\n",
       "      <th>26</th>\n",
       "      <td>requests</td>\n",
       "      <td>popular Python package for talking to web servers</td>\n",
       "    </tr>\n",
       "    <tr>\n",
       "      <th>56</th>\n",
       "      <td>scikit-learn</td>\n",
       "      <td>Machine Learning in Python</td>\n",
       "    </tr>\n",
       "    <tr>\n",
       "      <th>27</th>\n",
       "      <td>sphinx</td>\n",
       "      <td>package for building documentation as a website</td>\n",
       "    </tr>\n",
       "    <tr>\n",
       "      <th>74</th>\n",
       "      <td>tuple</td>\n",
       "      <td>a type of Python object, like a list but froze</td>\n",
       "    </tr>\n",
       "  </tbody>\n",
       "</table>\n",
       "</div>"
      ],
      "text/plain": [
       "            Term                                           Definition\n",
       "67         regex                                   Regular Expression\n",
       "26      requests    popular Python package for talking to web servers\n",
       "56  scikit-learn                           Machine Learning in Python\n",
       "27        sphinx      package for building documentation as a website\n",
       "74         tuple       a type of Python object, like a list but froze"
      ]
     },
     "execution_count": 40,
     "metadata": {},
     "output_type": "execute_result"
    }
   ],
   "source": [
    "gloss_sorted_table.tail()"
   ]
  }
 ],
 "metadata": {
  "kernelspec": {
   "display_name": "Python 3 (ipykernel)",
   "language": "python",
   "name": "python3"
  },
  "language_info": {
   "codemirror_mode": {
    "name": "ipython",
    "version": 3
   },
   "file_extension": ".py",
   "mimetype": "text/x-python",
   "name": "python",
   "nbconvert_exporter": "python",
   "pygments_lexer": "ipython3",
   "version": "3.7.9"
  }
 },
 "nbformat": 4,
 "nbformat_minor": 5
}
