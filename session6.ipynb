{
 "cells": [
  {
   "cell_type": "markdown",
   "id": "826d9bdd-5dd7-4d33-9435-34a0b0c61e4f",
   "metadata": {},
   "source": [
    "# Session 6:  Clarusway Mini-Bootcamp\n",
    "\n",
    "* Control Flow Statements\n",
    "* Loops\n",
    "\n",
    "### Useful Links:\n",
    "\n"
   ]
  },
  {
   "cell_type": "markdown",
   "id": "06bdf8f0-1494-4c1f-b8a2-0b35142d9e04",
   "metadata": {},
   "source": [
    "## Control Flow Statements\n",
    "\n",
    "What makes computer programs so useful is their ability to take a different route through the code depending on circumstances.  During any one use of a program, large sections of the code base may never be executed, because the user wants to do this and not that.\n",
    "\n",
    "Even at a much lower level than user choices, programs need to be able to execute code \"conditionally\" meaning only if specific conditions are met.  The ability to control the flow of execution is what we will take up next."
   ]
  },
  {
   "cell_type": "code",
   "execution_count": null,
   "id": "d41074db-ec9b-495f-87af-aba903bcd33a",
   "metadata": {},
   "outputs": [],
   "source": []
  },
  {
   "cell_type": "markdown",
   "id": "65ac1143-7a68-466c-abd7-a9c451743a09",
   "metadata": {},
   "source": [
    "## Loops\n",
    "\n",
    "Loops are among the most useful of flow control structures, and, combined with if / elif / else, give you (the programmer) a lot of power and flexibility.  You also get to be more concise, as we will see with \"list comprehension syntax\" -- a combination of list and for-loop syntax.\n"
   ]
  },
  {
   "cell_type": "code",
   "execution_count": null,
   "id": "4af2e2f3-5c73-4f81-9cb6-cfa3229f76ef",
   "metadata": {},
   "outputs": [],
   "source": []
  }
 ],
 "metadata": {
  "kernelspec": {
   "display_name": "Python 3 (ipykernel)",
   "language": "python",
   "name": "python3"
  },
  "language_info": {
   "codemirror_mode": {
    "name": "ipython",
    "version": 3
   },
   "file_extension": ".py",
   "mimetype": "text/x-python",
   "name": "python",
   "nbconvert_exporter": "python",
   "pygments_lexer": "ipython3",
   "version": "3.7.9"
  }
 },
 "nbformat": 4,
 "nbformat_minor": 5
}
