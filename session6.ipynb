{
 "cells": [
  {
   "cell_type": "markdown",
   "id": "c31a6c0e-6c02-4c7e-a4bb-99fc24709c1f",
   "metadata": {},
   "source": [
    "<a data-flickr-embed=\"true\" href=\"https://www.flickr.com/photos/kirbyurner/51883694941/in/album-72177720296706479/\" title=\"week2_schedule\"><img src=\"https://live.staticflickr.com/65535/51883694941_84ef7655e9.jpg\" width=\"359\" height=\"500\" alt=\"week2_schedule\"></a><script async src=\"//embedr.flickr.com/assets/client-code.js\" charset=\"utf-8\"></script>\n",
    "\n",
    "# Session 6:  Clarusway Mini-Bootcamp\n",
    "\n",
    "## Control Flow Statements\n",
    "\n",
    "* Conditionals (if elif else)\n",
    "* Loops (for and while)\n",
    "* List Comprehensions (combining list with for loop syntax)\n",
    "* Match-Case (Python's new Switch statement)"
   ]
  },
  {
   "cell_type": "markdown",
   "id": "25b83041-f463-4817-a495-b1d1f1439af2",
   "metadata": {},
   "source": [
    "### Useful Links: \n",
    "(sometimes repeated)\n",
    "\n",
    "* [As We May Think (*Atlantic Montly*, 1945)](https://www.theatlantic.com/magazine/archive/1945/07/as-we-may-think/303881/)\n",
    "* [The Scientific Paper is Obsolete (*Atlantic Monthly*, 2018)](https://www.theatlantic.com/science/archive/2018/04/the-scientific-paper-is-obsolete/556676/) \n",
    "* [Online Encyclopedia of Integer Sequences](https://oeis.org/)\n",
    "* [Regular Expressions in Wikipedia](https://en.wikipedia.org/wiki/Regular_expression)\n",
    "* [json module](https://docs.python.org/3/library/string.html#formatspec)\n",
    "* [Case-Match Syntax in 3.10+](https://www.pythonpool.com/match-case-python/)\n",
    "* [Socratica Channel](https://www.youtube.com/watch?v=bY6m6_IIN94&list=PLi01XoE8jYohWFPpC17Z-wWhPOSuh8Er-)\n",
    "* [Python Data Science Handbook by Jake VanderPlas](https://jakevdp.github.io/PythonDataScienceHandbook/)"
   ]
  },
  {
   "cell_type": "markdown",
   "id": "a8220db6-e861-4f3b-9b28-dcbffa0200af",
   "metadata": {},
   "source": [
    "### Glossary of Terms \n",
    "(not alphabetical)\n",
    "\n",
    "* ndarray: n-dimensional array (often 2D), a rectangle of cells, in the numpy package\n",
    "* range:  a type of Python object, a sequence defined by start, stop and step\n",
    "* list: a type of Python object, like an array, but allowed to be heterogenous\n",
    "* array:  a type of Python object, like a list but of uniform type (more like an ndarray)\n",
    "* dict: a type of Python object consisting of key:value pairs, fast lookup, core glue\n",
    "* hash table: a more generic name for the dict idea, common across most languages\n",
    "* tuple: a type of Python object, like a list but frozen"
   ]
  },
  {
   "cell_type": "markdown",
   "id": "06bdf8f0-1494-4c1f-b8a2-0b35142d9e04",
   "metadata": {},
   "source": [
    "# Control Flow Statements\n",
    "\n",
    "What makes computer programs so useful is their ability to take a different route through the code depending on circumstances.  During any one use of a program, large sections of code may never be executed, because the user wants to do this, and not that.\n",
    "\n",
    "Even at a much lower level than user choices, programs need to be able to execute code \"conditionally\" meaning only if specific conditions are met.  \n",
    "\n",
    "The ability to control the flow of execution is what we will take up next."
   ]
  },
  {
   "cell_type": "markdown",
   "id": "888e24a5-da57-40ce-94b4-24754587d859",
   "metadata": {},
   "source": [
    "## Conditional Statements\n",
    "\n",
    "Conditional statements revole around three keywords: if, else, and elif."
   ]
  },
  {
   "cell_type": "code",
   "execution_count": null,
   "id": "d41074db-ec9b-495f-87af-aba903bcd33a",
   "metadata": {},
   "outputs": [],
   "source": [
    "if \"A\":  # bool(\"A\")\n",
    "    print(\"\\\"A\\\" is True\")"
   ]
  },
  {
   "cell_type": "code",
   "execution_count": null,
   "id": "5b54cf9d-305c-4282-8501-3a258cf79d8f",
   "metadata": {},
   "outputs": [],
   "source": [
    "if 2 + 2 == 5:\n",
    "    print(\"We're in a parallel universe\")\n",
    "else:\n",
    "    print(\"Another day in the neighborhood\")"
   ]
  },
  {
   "cell_type": "markdown",
   "id": "253c7ca0-6824-40ce-8149-48b2b1d545f0",
   "metadata": {},
   "source": [
    "The construct below is sometimes called an if-else ladder.  Any number of elifs is OK, and `else` is optional."
   ]
  },
  {
   "cell_type": "code",
   "execution_count": null,
   "id": "3fdd6ea8-46d2-4e4b-baf4-b60d1767fcf9",
   "metadata": {},
   "outputs": [],
   "source": [
    "from random import randint\n",
    "\n",
    "guess = randint(1, 6)  # inclusive of both lower and upper bound\n",
    "\n",
    "if guess   == 1:\n",
    "    print(\"One is for Fun\")\n",
    "elif guess == 2:\n",
    "    print(\"Two is for Blue\")\n",
    "elif guess == 3:\n",
    "    print(\"Three is for Free\")\n",
    "elif guess == 4:\n",
    "    print(\"Four is for door\")\n",
    "elif guess == 5:\n",
    "    print(\"Five is alive\")\n",
    "else:\n",
    "    print(\"Not 1-5\")"
   ]
  },
  {
   "cell_type": "markdown",
   "id": "4e0cbc8d-ecf6-4ce2-be14-82529ec2bb32",
   "metadata": {},
   "source": [
    "Quite often one will find, at the end of a Python module, a conditional statement that says what to do, if and only if, the module is being run top-level i.e. is not being imported by some other module.\n",
    "\n",
    "Some modules, which we could call library modules, define a lot of callable objects when run, but leave it to the top-level module to do any actual calling.  For example, the `math` module, when imported, does nothing on its own except define a lot of ready-to-hand objects (e.g. sqrt, log, cos etc.)."
   ]
  },
  {
   "cell_type": "code",
   "execution_count": null,
   "id": "f33222b1-eec9-4f26-9dd2-a3a56df9bc6b",
   "metadata": {},
   "outputs": [],
   "source": [
    "if __name__ == \"__main__\":\n",
    "    print(\"Run some code only if the module is being run, not imported\")"
   ]
  },
  {
   "cell_type": "markdown",
   "id": "0d35a56a-d743-45d3-8a6f-6dd60b1b04b8",
   "metadata": {},
   "source": [
    "Finally there's what's called a ternary statement."
   ]
  },
  {
   "cell_type": "code",
   "execution_count": null,
   "id": "ee94a274-953b-45b3-a116-a3722e82d0a7",
   "metadata": {},
   "outputs": [],
   "source": [
    "expr = \"a\" in \"cat\"\n",
    "\n",
    "a = 1 if expr else 2  \n",
    "\n",
    "a"
   ]
  },
  {
   "cell_type": "markdown",
   "id": "d19bbcf3-08b0-4b18-b869-baa1549a10aa",
   "metadata": {},
   "source": [
    "That's the same as:"
   ]
  },
  {
   "cell_type": "code",
   "execution_count": null,
   "id": "6abb87b6-d105-456e-aa03-36cf37cfa84f",
   "metadata": {},
   "outputs": [],
   "source": [
    "if expr:\n",
    "    a= 1\n",
    "else:\n",
    "    a = 2\n",
    "    \n",
    "a"
   ]
  },
  {
   "cell_type": "markdown",
   "id": "65ac1143-7a68-466c-abd7-a9c451743a09",
   "metadata": {},
   "source": [
    "## Loops\n",
    "\n",
    "Loops are among the most useful of flow control structures, and, combined with if / elif / else, give you (the programmer) a lot of power and flexibility.  You also get to be more concise, as we will see with \"list comprehension syntax\" -- a combination of list and for-loop syntax.\n",
    "\n",
    "Python has only two looping statements:  `for` and `while`.  Both work with additional keywords: `else`, `break`, and `continue`.\n",
    "\n",
    "`for` is for iteration over a for-loop body, an indented suite or block.  The `for` syntax causes a Python name or names to assume a succession of values.  These names are available within the block to drive whatever computations."
   ]
  },
  {
   "cell_type": "code",
   "execution_count": null,
   "id": "2a357532-13e8-4dd7-a3d3-901329c41393",
   "metadata": {},
   "outputs": [],
   "source": [
    "total = 0\n",
    "for x in range(15):\n",
    "    total = total + x  # keep accumulating\n",
    "total"
   ]
  },
  {
   "cell_type": "code",
   "execution_count": null,
   "id": "06c20699-9dd3-4e81-a1e6-cddfa1b17006",
   "metadata": {},
   "outputs": [],
   "source": [
    "for c in \"Iterating over a string is fine\":\n",
    "    if c == \"s\":\n",
    "        print(\"found an 's'\")\n",
    "    elif c == \"f\":\n",
    "        print(\"found an 'f'\")\n",
    "    elif c == \"i\":\n",
    "        print(\"found an 'i'\")\n",
    "\n",
    "print()"
   ]
  },
  {
   "cell_type": "markdown",
   "id": "0c651964-8a21-4f55-8ad3-a97c460bf57c",
   "metadata": {},
   "source": [
    "The loop below breaks long before s reaches 1000 - 1, or 999."
   ]
  },
  {
   "cell_type": "code",
   "execution_count": null,
   "id": "20dd5ca5-ea81-47c6-a8df-791e968f1684",
   "metadata": {},
   "outputs": [],
   "source": [
    "for s in range(1000):\n",
    "    print(s, end=\" \")\n",
    "    if s > 10:\n",
    "        print()\n",
    "        break"
   ]
  },
  {
   "cell_type": "markdown",
   "id": "42b86165-3ac7-4831-adb9-a04abdda48ef",
   "metadata": {},
   "source": [
    "Below is a Python script for playing a guessing game.  \n",
    "\n",
    "The `while True` loop keeps giving the player a next turn, but when the player wins or runs out of turns or quits, the keyword `break` stops the action. \n",
    "\n",
    "The keyword `continue` does not break out of the loop, but merely jumps us to the top of the loop.  One could call it a \"short cut\" as it tells Python to skip executing the rest of the loop and go back to the initial `while` or `for` statement.\n",
    "\n",
    "Both `break` and `continue` have a role to play in the code below."
   ]
  },
  {
   "cell_type": "code",
   "execution_count": null,
   "id": "4af2e2f3-5c73-4f81-9cb6-cfa3229f76ef",
   "metadata": {},
   "outputs": [],
   "source": [
    "from random import randint\n",
    "\n",
    "guesses = 5\n",
    "guess   = randint(1, 10)  # adjust at will\n",
    "\n",
    "print(\"I'm thinking of a number from 1 to 10.\\nWhat is it?\")\n",
    "print(\"You have 5 guesses, enter q to quit\")\n",
    "\n",
    "while True:\n",
    "    \n",
    "    # are we done?\n",
    "    if guesses == 0:\n",
    "        print(\"Sorry, no more guesses, you lose.\")\n",
    "        break\n",
    "\n",
    "    ans = input(\"Your guess > \")\n",
    "    \n",
    "    # initial answer check\n",
    "    if ans.upper() == \"Q\":\n",
    "        print(\"OK bye\")\n",
    "        break\n",
    "    if not ans.isdigit() or not 1 <= int(ans) <= 10:\n",
    "        print(\"Integer between 1 and 10 please\")\n",
    "        guesses -= 1\n",
    "        print(f\"Guesses remaining: {guesses}\")\n",
    "        continue\n",
    "        \n",
    "    # if not quitting and not illegal input...\n",
    "    answer = int(ans)\n",
    "    if answer == guess:\n",
    "        print(\"Yay, you won!  Congratulations!\")\n",
    "        break\n",
    "    elif answer < guess:\n",
    "        print(\"Too low.\")\n",
    "    else:\n",
    "        print(\"Too high.\")\n",
    "        \n",
    "    guesses -= 1\n",
    "    print(f\"Guesses remaining: {guesses}\")\n",
    "\n",
    "print(\"Lets play again soon\")"
   ]
  },
  {
   "cell_type": "markdown",
   "id": "8903dcda-338f-413e-84de-a9fe70eee22e",
   "metadata": {},
   "source": [
    "### List Comprehension Syntax\n",
    "\n",
    "Now that you know about lists collections, and about for loops, lets check out a pithy syntax Pythonistas tend to favor for its conciseness."
   ]
  },
  {
   "cell_type": "code",
   "execution_count": null,
   "id": "5b154df6-451e-498a-9b18-0db7baf6157d",
   "metadata": {},
   "outputs": [],
   "source": [
    "# https://oeis.org/A000217\n",
    "A000217 = [n * (n + 1)//2 for n in range(0, 11)]\n",
    "\n",
    "A000217"
   ]
  },
  {
   "cell_type": "code",
   "execution_count": null,
   "id": "a964eb61-55fd-4c35-a152-9427e93fe9b5",
   "metadata": {},
   "outputs": [],
   "source": [
    "# https://oeis.org/A000290\n",
    "\n",
    "A000290 = [n**2 for n in range(0, 11)]\n",
    "\n",
    "A000290"
   ]
  },
  {
   "cell_type": "code",
   "execution_count": null,
   "id": "7e60875e-b5bc-4f0e-88c1-efe2e788cfdd",
   "metadata": {},
   "outputs": [],
   "source": [
    "# https://oeis.org/A000217\n",
    "A000217 = [n * (n + 1)//2 for n in range(0, 11)]\n",
    "\n",
    "A000217"
   ]
  },
  {
   "cell_type": "code",
   "execution_count": null,
   "id": "d46034ca-7ec2-47b2-8061-e7adade4fe6a",
   "metadata": {},
   "outputs": [],
   "source": [
    "# https://oeis.org/A005901\n",
    "A005901 = [(10 * f * f + 2 if f > 1 else 1) \n",
    "           for f in range(1, 11)]\n",
    "\n",
    "A005901"
   ]
  },
  {
   "cell_type": "markdown",
   "id": "13059761-e978-4674-a9a7-b1cc1987df75",
   "metadata": {},
   "source": [
    "List comprehensions also accept an optional if clause, which may be used to filter out unwanted values.\n",
    "\n",
    "The if clause below only keeps `eye` if it has no factors in common with `n` other than 1.  Two integers with no factors in common other than 1 are known as \"strangers\" to one another, or as \"relatively prime\".  The number of strangers from n-1 down to 1, is known as the \"totient\" of n."
   ]
  },
  {
   "cell_type": "code",
   "execution_count": null,
   "id": "a54690a5-a603-4026-8127-88be84e04cf5",
   "metadata": {},
   "outputs": [],
   "source": [
    "from math import gcd\n",
    "n = 100\n",
    "\n",
    "strangers = [ eye for eye in range(n) if gcd(eye, n) == 1 ]\n",
    "print(strangers)"
   ]
  },
  {
   "cell_type": "code",
   "execution_count": null,
   "id": "a2fb496c-df10-4265-a276-834720c1d419",
   "metadata": {},
   "outputs": [],
   "source": [
    "totient = len(strangers)\n",
    "print(f\"The totient of n={n} is {totient}\")"
   ]
  },
  {
   "cell_type": "markdown",
   "id": "9ea5c8a9-cc60-49e8-8382-b5a1b827c226",
   "metadata": {},
   "source": [
    "The idea of list comprehensions gave rise to set and dict comprehension syntax.  There's also the parentheses-based \"generator expression\".  You might have imagined a \"tuple comprehension\" but that turns out to be unnecessary.  \n",
    "\n",
    "A generator expression doesn't actually contain all the values in precomputed form, like a list would.  It computes next values \"on demand\".  This turns out to be a deep concept."
   ]
  },
  {
   "cell_type": "markdown",
   "id": "25e4c364-920b-45ab-9f93-a84c04ad5948",
   "metadata": {},
   "source": [
    "### Match-Case Syntax (new in 3.10)\n",
    "\n",
    "Until version 3.10, Python never had a true switch statement, a common pattern in other languages.  Python's match-case is a powerful addition to the flow control toolkit."
   ]
  },
  {
   "cell_type": "markdown",
   "id": "3d15737b-e6ff-46de-8990-31ff23de32db",
   "metadata": {},
   "source": [
    "## Some Summary Scripts\n",
    "\n",
    "Now that we have a lot of Python behind us, lets use fragments from previous sessions to convert the `links.txt` file into .csv and .json files."
   ]
  },
  {
   "cell_type": "code",
   "execution_count": null,
   "id": "72a427ff-c465-434e-b1ac-a917246b4406",
   "metadata": {},
   "outputs": [],
   "source": [
    "from csv import writer\n",
    "links_obj = open(\"links.txt\", 'r')\n",
    "csv_file  = open(\"links.csv\", 'w')\n",
    "\n",
    "output = writer(csv_file, delimiter=\",\")\n",
    "\n",
    "output.writerow([\"Link\", \"URL\"])\n",
    "for line in links_obj.readlines():\n",
    "    row = line[:-2].replace(\"* [\",\"\").split(\"](\")\n",
    "    output.writerow(row)\n",
    "    \n",
    "csv_file.close()\n",
    "links_obj.close()"
   ]
  },
  {
   "cell_type": "code",
   "execution_count": null,
   "id": "487526f4-a39f-4755-9124-568dcd0f95f6",
   "metadata": {},
   "outputs": [],
   "source": [
    "csv_file = open(\"links.csv\", \"r\")\n",
    "print(csv_file.read())\n",
    "csv_file.close()"
   ]
  },
  {
   "cell_type": "code",
   "execution_count": null,
   "id": "f20fee4d-5944-40bc-af97-a572a6a72b34",
   "metadata": {},
   "outputs": [],
   "source": [
    "import json\n",
    "import csv\n",
    "\n",
    "csv_file = open(\"links.csv\", \"r\")\n",
    "csv_reader = csv.reader(csv_file)\n",
    "\n",
    "pairs = {}  # empty dict\n",
    "for line in csv_reader:\n",
    "    if line[0] == \"Link\":\n",
    "        continue\n",
    "    pairs[line[0]]=line[1]\n",
    "csv_file.close()\n",
    "\n",
    "json_file = open(\"links.json\",'w')\n",
    "json.dump(pairs, json_file)\n",
    "json_file.close()"
   ]
  }
 ],
 "metadata": {
  "kernelspec": {
   "display_name": "Python 3 (ipykernel)",
   "language": "python",
   "name": "python3"
  },
  "language_info": {
   "codemirror_mode": {
    "name": "ipython",
    "version": 3
   },
   "file_extension": ".py",
   "mimetype": "text/x-python",
   "name": "python",
   "nbconvert_exporter": "python",
   "pygments_lexer": "ipython3",
   "version": "3.7.9"
  }
 },
 "nbformat": 4,
 "nbformat_minor": 5
}
