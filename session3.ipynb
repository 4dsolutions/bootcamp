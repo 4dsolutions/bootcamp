{
 "cells": [
  {
   "cell_type": "markdown",
   "id": "826d9bdd-5dd7-4d33-9435-34a0b0c61e4f",
   "metadata": {},
   "source": [
    "<a data-flickr-embed=\"true\" href=\"https://www.flickr.com/photos/kirbyurner/51883694976/in/album-72177720296706479/\" title=\"week1_schedule\"><img src=\"https://live.staticflickr.com/65535/51883694976_cc33017f67.jpg\" width=\"359\" height=\"500\" alt=\"week1_schedule\"></a><script async src=\"//embedr.flickr.com/assets/client-code.js\" charset=\"utf-8\"></script>\n",
    "\n",
    "\n",
    "# Session 3:  Clarusway Mini-Bootcamp\n",
    "\n",
    "* Simple Operations\n",
    "* Operations with print() function\n",
    "* Escape Sequences"
   ]
  },
  {
   "cell_type": "markdown",
   "id": "e3c2387c-fc03-4129-9670-0efaf0ce2f9a",
   "metadata": {},
   "source": [
    "### Useful Links (not always unique)\n",
    "\n",
    "* [This Notebook on Colab](https://colab.research.google.com/github/4dsolutions/bootcamp/blob/main/session3.ipynb)\n",
    "* [This Notebook on nbviewer](https://nbviewer.org/github/4dsolutions/bootcamp/blob/main/session3.ipynb)\n",
    "* [PEP 238 re Changing the Division Operator](https://www.python.org/dev/peps/pep-0238/)\n",
    "* [Brief Tour of the Standard Library](https://docs.python.org/3/tutorial/stdlib.html)\n",
    "* [Escape Sequences](  )\n",
    "* [Django Web Framework](https://www.djangoproject.com/)\n",
    "* [Flask Web Framework](https://flask.palletsprojects.com/en/2.0.x/)\n",
    "* [requests library](https://docs.python-requests.org/en/latest/)\n",
    "* [sphinx library](https://www.sphinx-doc.org/en/master/)\n",
    "* [Course Album](https://flic.kr/s/aHBqjzCs82)\n",
    "* [Course Repository](https://github.com/4dsolutions/bootcamp)"
   ]
  },
  {
   "cell_type": "markdown",
   "id": "3ed29c67-7a60-4bcb-8810-1e309787ac84",
   "metadata": {},
   "source": [
    "### Glossary of Terms (not alphabetical)\n",
    "\n",
    "* Python special name:  a name with the form `__xxxx__` (see Dunder)\n",
    "* Dunder: double-underline special name syntax e.g. \"dunder add\" means `__add__`\n",
    "* Operator Overloading:  taking control of operators such as \\+ and \\* with respect to one's own types (accomplished using special names)\n",
    "* module: a Python script, directly runnable and/or importable\n",
    "* \"magic method\":  Python method with a special name e.g. `__invert__`\n",
    "* `__rib__`: a mnemonic for a Python special name (also 'bone')\n",
    "* mnemonic: a memory aid, possibly an image or metaphor\n",
    "* menu-driven programs:  early programs gave users menus of choices and little more\n",
    "* event-driven programs:  programs providing a dashboard of GUI widgets listening for events"
   ]
  },
  {
   "cell_type": "markdown",
   "id": "8c7d79ff-5d53-44c1-9718-7818bb6db371",
   "metadata": {},
   "source": [
    "LMS: Simple Operations (32 slides)"
   ]
  },
  {
   "cell_type": "markdown",
   "id": "06bdf8f0-1494-4c1f-b8a2-0b35142d9e04",
   "metadata": {},
   "source": [
    "## Arithmetic Operators\n",
    "\n",
    "Python may be used like a scientific calculator, interactively, or by means of scripts.  Scripts may take arguments at the top, or even prompt for information if designed to be used interactively.  Later, we'll look at \"guessing a random number between 1 and 10\" for an example of prompting for input."
   ]
  },
  {
   "cell_type": "code",
   "execution_count": null,
   "id": "dde177a6-b0e4-4384-b427-357fbdef1005",
   "metadata": {},
   "outputs": [],
   "source": [
    "2 + 2"
   ]
  },
  {
   "cell_type": "code",
   "execution_count": null,
   "id": "3f7a294f-1c56-4481-b754-716e4d4429e5",
   "metadata": {},
   "outputs": [],
   "source": [
    "2 ** 100"
   ]
  },
  {
   "cell_type": "code",
   "execution_count": null,
   "id": "94261f0c-ae48-48a4-a3cf-baa4d08556a0",
   "metadata": {},
   "outputs": [],
   "source": [
    "100 % 11"
   ]
  },
  {
   "cell_type": "code",
   "execution_count": null,
   "id": "7e2890cb-1315-4cf0-8a14-05bf59d6aba5",
   "metadata": {},
   "outputs": [],
   "source": [
    "divmod(100, 11)"
   ]
  },
  {
   "cell_type": "markdown",
   "id": "2453c765-f3ab-4403-bcba-d7a73a868227",
   "metadata": {},
   "source": [
    "The `operator` module in the Standard Library provides callable objects that may be used in place of the more conventional operators."
   ]
  },
  {
   "cell_type": "code",
   "execution_count": null,
   "id": "bf60f0ea-634b-4906-8d46-6463302506a2",
   "metadata": {},
   "outputs": [],
   "source": [
    "from operator import add, sub, truediv, mul, floordiv, mod"
   ]
  },
  {
   "cell_type": "code",
   "execution_count": null,
   "id": "286d3924-195c-4893-8cf0-eb5cd5c73b48",
   "metadata": {},
   "outputs": [],
   "source": [
    "add(2,2)"
   ]
  },
  {
   "cell_type": "code",
   "execution_count": null,
   "id": "ded9e90b-6b33-4726-a58a-fa2cbbbca416",
   "metadata": {},
   "outputs": [],
   "source": [
    "truediv(7, 10)"
   ]
  },
  {
   "cell_type": "code",
   "execution_count": null,
   "id": "4101d296-977d-4de8-85fc-7c2674d5ec58",
   "metadata": {},
   "outputs": [],
   "source": [
    "7/10"
   ]
  },
  {
   "cell_type": "code",
   "execution_count": null,
   "id": "1ac843e3-0e4a-42a9-a723-484bc0fab0b4",
   "metadata": {},
   "outputs": [],
   "source": [
    "floordiv(7, 10)"
   ]
  },
  {
   "cell_type": "code",
   "execution_count": null,
   "id": "73768db1-b779-4c21-865c-c15c6b8b468e",
   "metadata": {},
   "outputs": [],
   "source": [
    "7 // 10"
   ]
  },
  {
   "cell_type": "markdown",
   "id": "c72b1e78-6649-47ad-87bd-dd083521b735",
   "metadata": {},
   "source": [
    "## Operator Overloading\n",
    "\n",
    "We don't need to focus a lot of special names in a beginner course.  Once you begin defining your own types (classes) you will be empowered to define the behaviors associated with these special names, which Python provides as part of the language.\n",
    "\n",
    "Your own instances will be able to use the syntax like `obj + obj`, and `obj[num]` i.e. Python lets you \"hijack\" its own syntax to work with your types the same way it works with native (built-in) types."
   ]
  },
  {
   "cell_type": "code",
   "execution_count": null,
   "id": "d7f2bda9-a923-42ba-a258-6d11cd9cf8c0",
   "metadata": {},
   "outputs": [],
   "source": [
    "1 .__add__(1)  # the method triggered by the + operator"
   ]
  },
  {
   "cell_type": "markdown",
   "id": "65ac1143-7a68-466c-abd7-a9c451743a09",
   "metadata": {},
   "source": [
    "## Operations with the Print Function\n",
    "\n",
    "One of the big differences between Python 2.x and 3.x is that print( ) was turned from a keyword into a function.  \n",
    "\n",
    "Doing that allowed print( ) to consume some named arguments, such as separator character `sep=`), end character (`end=`), and even an output file object (`file=file_obj`)."
   ]
  },
  {
   "cell_type": "code",
   "execution_count": null,
   "id": "66fe2f50-fcce-40e9-b285-dad3f2fd6699",
   "metadata": {},
   "outputs": [],
   "source": [
    "print(\"I\",\"like\",\"Python\", sep=\"!\")"
   ]
  },
  {
   "cell_type": "code",
   "execution_count": null,
   "id": "bc2a7f2c-9cb1-4ad5-a132-1325f19fb45b",
   "metadata": {},
   "outputs": [],
   "source": [
    "fileobj = open(\"myfirst.py\", \"w\")  # destructive of any existing content"
   ]
  },
  {
   "cell_type": "code",
   "execution_count": null,
   "id": "a8df5dd9-883c-421d-912e-fbfb573bbedb",
   "metadata": {},
   "outputs": [],
   "source": [
    "print('''\n",
    "\"\"\"\n",
    "docstring at the top\n",
    "\"\"\"\n",
    "\n",
    "print('Hello world')\n",
    "''', file = fileobj)"
   ]
  },
  {
   "cell_type": "code",
   "execution_count": null,
   "id": "4cb6a61f-1755-4cc4-9aff-4eb416db65d6",
   "metadata": {},
   "outputs": [],
   "source": [
    "fileobj.close()"
   ]
  },
  {
   "cell_type": "code",
   "execution_count": null,
   "id": "8916f139-d2a7-4083-ad6a-e2fe49d7a95d",
   "metadata": {},
   "outputs": [],
   "source": [
    "! python myfirst.py"
   ]
  },
  {
   "cell_type": "code",
   "execution_count": null,
   "id": "c3498b34-00e4-43c1-91a8-d3d8cb594398",
   "metadata": {},
   "outputs": [],
   "source": [
    "import imp\n",
    "imp.reload(myfirst) # forces recompile in case imported earlier"
   ]
  },
  {
   "cell_type": "markdown",
   "id": "87978919-ceab-4043-b486-a445fa581df3",
   "metadata": {},
   "source": [
    "## Escape Sequences\n",
    "\n",
    "Not every character prints a glyph.  \"Escape sequences\" do something other than print the character that follows.  Adding to the confusion is the fact that escape sequences may themselves be escaped i.e. turned back into raw string literals."
   ]
  },
  {
   "cell_type": "code",
   "execution_count": null,
   "id": "4af2e2f3-5c73-4f81-9cb6-cfa3229f76ef",
   "metadata": {},
   "outputs": [],
   "source": [
    "print(\"(\", r\"\\n\", \")\", sep=\".\") # raw string"
   ]
  },
  {
   "cell_type": "code",
   "execution_count": null,
   "id": "d5527008-005f-42d0-ad41-79780fe5d4d5",
   "metadata": {},
   "outputs": [],
   "source": [
    "print(\"(\", \"\\\\n\", \")\", sep=\"|\") # escaped escape sequence"
   ]
  },
  {
   "cell_type": "code",
   "execution_count": null,
   "id": "bbac5813-15c2-4847-90ba-90cdba7de7cd",
   "metadata": {},
   "outputs": [],
   "source": [
    "print(\"(\", \"\\n\", \")\", sep=\"\") # intact escape sequence"
   ]
  }
 ],
 "metadata": {
  "kernelspec": {
   "display_name": "Python 3 (ipykernel)",
   "language": "python",
   "name": "python3"
  },
  "language_info": {
   "codemirror_mode": {
    "name": "ipython",
    "version": 3
   },
   "file_extension": ".py",
   "mimetype": "text/x-python",
   "name": "python",
   "nbconvert_exporter": "python",
   "pygments_lexer": "ipython3",
   "version": "3.7.9"
  }
 },
 "nbformat": 4,
 "nbformat_minor": 5
}
