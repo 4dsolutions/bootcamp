{
 "cells": [
  {
   "cell_type": "markdown",
   "id": "826d9bdd-5dd7-4d33-9435-34a0b0c61e4f",
   "metadata": {},
   "source": [
    "<a data-flickr-embed=\"true\" href=\"https://www.flickr.com/photos/kirbyurner/51883694976/in/album-72177720296706479/\" title=\"week1_schedule\"><img src=\"https://live.staticflickr.com/65535/51883694976_cc33017f67.jpg\" width=\"359\" height=\"500\" alt=\"week1_schedule\"></a><script async src=\"//embedr.flickr.com/assets/client-code.js\" charset=\"utf-8\"></script>\n",
    "\n",
    "\n",
    "# Session 3:  Clarusway Mini-Bootcamp\n",
    "\n",
    "* Simple Operations\n",
    "* Operations with print() function\n",
    "* Escape Sequences"
   ]
  },
  {
   "cell_type": "markdown",
   "id": "e3c2387c-fc03-4129-9670-0efaf0ce2f9a",
   "metadata": {},
   "source": [
    "### Useful Links (not always unique)\n",
    "\n",
    "* [This Notebook on Colab](https://colab.research.google.com/github/4dsolutions/bootcamp/blob/main/session3.ipynb)\n",
    "* [This Notebook on nbviewer](https://nbviewer.org/github/4dsolutions/bootcamp/blob/main/session3.ipynb)\n",
    "* [PEP 238 re Changing the Division Operator](https://www.python.org/dev/peps/pep-0238/)\n",
    "* [Brief Tour of the Standard Library](https://docs.python.org/3/tutorial/stdlib.html)\n",
    "* [HOW TO: Unicode](https://docs.python.org/3/howto/unicode.html)\n",
    "* [Escape Sequences](https://www.python-ds.com/python-3-escape-sequences)\n",
    "* [Python-ds](https://www.python-ds.com/)\n",
    "* [Formatting Mini-Language](https://docs.python.org/3/library/string.html#formatspec)\n",
    "* [sqlite3 module](https://docs.python.org/3/library/sqlite3.html)\n",
    "* [Django Web Framework](https://www.djangoproject.com/)\n",
    "* [Flask Web Framework](https://flask.palletsprojects.com/en/2.0.x/)\n",
    "* [Sample Flask Application](https://thekirbster.pythonanywhere.com/)\n",
    "* [requests library](https://docs.python-requests.org/en/latest/)\n",
    "* [sphinx library](https://www.sphinx-doc.org/en/master/)\n",
    "* [Course Album](https://flic.kr/s/aHBqjzCs82)\n",
    "* [Course Repository](https://github.com/4dsolutions/bootcamp)"
   ]
  },
  {
   "cell_type": "markdown",
   "id": "3ed29c67-7a60-4bcb-8810-1e309787ac84",
   "metadata": {},
   "source": [
    "### Glossary of Terms (not alphabetical)\n",
    "\n",
    "* Python special name:  a name with the form `__xxxx__` (see Dunder)\n",
    "* Dunder: double-underline special name syntax e.g. \"dunder add\" means `__add__`\n",
    "* Operator Overloading:  taking control of operators such as \\+ and \\* with respect to one's own types (accomplished using special names)\n",
    "* module: a Python script, directly runnable and/or importable\n",
    "* \"magic method\":  Python method with a special name e.g. `__invert__`\n",
    "* `__rib__`: a mnemonic for a Python special name (also 'bone')\n",
    "* mnemonic: a memory aid, possibly an image or metaphor\n",
    "* menu-driven programs:  early programs gave users menus of choices and little more\n",
    "* event-driven programs:  programs providing a dashboard of GUI widgets listening for events"
   ]
  },
  {
   "cell_type": "markdown",
   "id": "8c7d79ff-5d53-44c1-9718-7818bb6db371",
   "metadata": {},
   "source": [
    "LMS: Simple Operations (32 slides)"
   ]
  },
  {
   "cell_type": "markdown",
   "id": "06bdf8f0-1494-4c1f-b8a2-0b35142d9e04",
   "metadata": {},
   "source": [
    "## Arithmetic Operators\n",
    "\n",
    "Python may be used like a scientific calculator, interactively, or by means of scripts.  Scripts may take arguments at the top, or even prompt for information if designed to be used interactively.  Later, we'll look at \"guessing a random number between 1 and 10\" for an example of prompting for input."
   ]
  },
  {
   "cell_type": "code",
   "execution_count": null,
   "id": "dde177a6-b0e4-4384-b427-357fbdef1005",
   "metadata": {},
   "outputs": [],
   "source": [
    "2 + 2"
   ]
  },
  {
   "cell_type": "code",
   "execution_count": null,
   "id": "3f7a294f-1c56-4481-b754-716e4d4429e5",
   "metadata": {},
   "outputs": [],
   "source": [
    "2 ** 100"
   ]
  },
  {
   "cell_type": "markdown",
   "id": "ca679d52-5597-4ab4-bbeb-0be987416ba8",
   "metadata": {},
   "source": [
    "from `__future__` import division  (all over in Python 2.x)"
   ]
  },
  {
   "cell_type": "code",
   "execution_count": null,
   "id": "94261f0c-ae48-48a4-a3cf-baa4d08556a0",
   "metadata": {},
   "outputs": [],
   "source": [
    "100 % 11"
   ]
  },
  {
   "cell_type": "code",
   "execution_count": null,
   "id": "7e2890cb-1315-4cf0-8a14-05bf59d6aba5",
   "metadata": {},
   "outputs": [],
   "source": [
    "divmod(100, 11)"
   ]
  },
  {
   "cell_type": "markdown",
   "id": "2453c765-f3ab-4403-bcba-d7a73a868227",
   "metadata": {},
   "source": [
    "The `operator` module in the Standard Library provides callable objects that may be used in place of the more conventional operators."
   ]
  },
  {
   "cell_type": "code",
   "execution_count": null,
   "id": "bf60f0ea-634b-4906-8d46-6463302506a2",
   "metadata": {},
   "outputs": [],
   "source": [
    "from operator import add, sub, truediv, mul, floordiv, mod"
   ]
  },
  {
   "cell_type": "code",
   "execution_count": null,
   "id": "286d3924-195c-4893-8cf0-eb5cd5c73b48",
   "metadata": {},
   "outputs": [],
   "source": [
    "add(2,2)"
   ]
  },
  {
   "cell_type": "code",
   "execution_count": null,
   "id": "ded9e90b-6b33-4726-a58a-fa2cbbbca416",
   "metadata": {},
   "outputs": [],
   "source": [
    "truediv(7, 10)"
   ]
  },
  {
   "cell_type": "code",
   "execution_count": null,
   "id": "4101d296-977d-4de8-85fc-7c2674d5ec58",
   "metadata": {},
   "outputs": [],
   "source": [
    "7/10"
   ]
  },
  {
   "cell_type": "code",
   "execution_count": null,
   "id": "1ac843e3-0e4a-42a9-a723-484bc0fab0b4",
   "metadata": {},
   "outputs": [],
   "source": [
    "floordiv(7, 10)"
   ]
  },
  {
   "cell_type": "code",
   "execution_count": null,
   "id": "73768db1-b779-4c21-865c-c15c6b8b468e",
   "metadata": {},
   "outputs": [],
   "source": [
    "7 // 10"
   ]
  },
  {
   "cell_type": "markdown",
   "id": "c72b1e78-6649-47ad-87bd-dd083521b735",
   "metadata": {},
   "source": [
    "## Operator Overloading\n",
    "\n",
    "We don't need to focus a lot of special names in a beginner course.  Once you begin defining your own types (classes) you will be empowered to define the behaviors associated with these special names, which Python provides as part of the language.\n",
    "\n",
    "Your own instances will be able to use the syntax like `obj + obj`, and `obj[num]` i.e. Python lets you \"hijack\" its own syntax to work with your types the same way it works with native (built-in) types."
   ]
  },
  {
   "cell_type": "code",
   "execution_count": null,
   "id": "d7f2bda9-a923-42ba-a258-6d11cd9cf8c0",
   "metadata": {},
   "outputs": [],
   "source": [
    "1 .__add__(1)  # the method triggered by the + operator"
   ]
  },
  {
   "cell_type": "markdown",
   "id": "65ac1143-7a68-466c-abd7-a9c451743a09",
   "metadata": {},
   "source": [
    "## Operations with the Print Function\n",
    "\n",
    "One of the big differences between Python 2.x and 3.x is that print( ) was turned from a keyword into a function.  Keywords are not callable.  But turning print into a function, it became eligible to receive named and positional arguments.\n",
    "\n",
    "The named arguments are: \n",
    "\n",
    "* separator character `sep=`)\n",
    "* end character (`end=`)\n",
    "* optional output file object (`file=file_obj`)"
   ]
  },
  {
   "cell_type": "code",
   "execution_count": null,
   "id": "2ad3adc4-3693-4abb-b179-37173e479630",
   "metadata": {},
   "outputs": [],
   "source": [
    "print()"
   ]
  },
  {
   "cell_type": "code",
   "execution_count": null,
   "id": "66fe2f50-fcce-40e9-b285-dad3f2fd6699",
   "metadata": {},
   "outputs": [],
   "source": [
    "print(\"I\",\"like\",\"Python\", sep=\"\\n\", end=\"\\n\\n\")"
   ]
  },
  {
   "cell_type": "code",
   "execution_count": null,
   "id": "bc2a7f2c-9cb1-4ad5-a132-1325f19fb45b",
   "metadata": {},
   "outputs": [],
   "source": [
    "fileobj = open(\"myfirst.py\", \"w\")  # destructive of any existing content"
   ]
  },
  {
   "cell_type": "code",
   "execution_count": null,
   "id": "a8df5dd9-883c-421d-912e-fbfb573bbedb",
   "metadata": {},
   "outputs": [],
   "source": [
    "print('''\n",
    "\"\"\"\n",
    "docstring at the top\n",
    "\"\"\"\n",
    "\n",
    "print('Hello World')\n",
    "''', file = fileobj)"
   ]
  },
  {
   "cell_type": "code",
   "execution_count": null,
   "id": "4cb6a61f-1755-4cc4-9aff-4eb416db65d6",
   "metadata": {},
   "outputs": [],
   "source": [
    "fileobj.close()"
   ]
  },
  {
   "cell_type": "markdown",
   "id": "ad7e8199-881f-4e4d-8a8c-dfa42db59ea5",
   "metadata": {},
   "source": [
    "Running Python as an OS shell command from inside a Jupyter Notebook is possible but not usually recommended."
   ]
  },
  {
   "cell_type": "code",
   "execution_count": null,
   "id": "8916f139-d2a7-4083-ad6a-e2fe49d7a95d",
   "metadata": {},
   "outputs": [],
   "source": [
    "# ! python myfirst.py  # calling Python from inside NB"
   ]
  },
  {
   "cell_type": "markdown",
   "id": "06291bed-edc4-4587-9c3f-96b0b7e06be2",
   "metadata": {},
   "source": [
    "Sometimes, if a module has already been imported, importing it again will not reimport that latest changes.  To force a module to recompile, you may import the `imp` module and use `imp.reload(module)`."
   ]
  },
  {
   "cell_type": "code",
   "execution_count": null,
   "id": "c3498b34-00e4-43c1-91a8-d3d8cb594398",
   "metadata": {},
   "outputs": [],
   "source": [
    "import imp\n",
    "import myfirst\n",
    "imp.reload(myfirst) # forces recompile in case imported earlier"
   ]
  },
  {
   "cell_type": "markdown",
   "id": "f098bc73-86b1-41c2-baaf-2f502cbe234e",
   "metadata": {},
   "source": [
    "`print` has the job of interpreting escape sequences, not just passing them through as uninterpreted characters."
   ]
  },
  {
   "cell_type": "code",
   "execution_count": null,
   "id": "f388a6dc-d399-4181-9ac2-b2f7698c6c97",
   "metadata": {},
   "outputs": [],
   "source": [
    "s = \"this string\\ncontains a newline\"\n",
    "s"
   ]
  },
  {
   "cell_type": "code",
   "execution_count": null,
   "id": "6c7f076d-ca72-4b4c-a7f3-fbc66a694c09",
   "metadata": {},
   "outputs": [],
   "source": [
    "print(s)"
   ]
  },
  {
   "cell_type": "code",
   "execution_count": null,
   "id": "12dd6a8a-9e41-4d7f-86b4-3260b2e9e3b6",
   "metadata": {},
   "outputs": [],
   "source": [
    "print(repr(s))  # repr function creates a raw string"
   ]
  },
  {
   "cell_type": "markdown",
   "id": "68d1536b-e030-436d-8b96-b768adc7d3e0",
   "metadata": {},
   "source": [
    "#### Anatomy of a Unicode Character in UTF-8\n",
    "\n",
    "Lets take apart [the unicode Sigma character](https://www.compart.com/en/unicode/U+03A3) and see how it encodes in UTF-8, the variable width format of 1-4 bytes."
   ]
  },
  {
   "cell_type": "code",
   "execution_count": null,
   "id": "4ced328a-8cbe-41e3-8b8b-17174cd0d469",
   "metadata": {},
   "outputs": [],
   "source": [
    "unicode_char = \"\\u03A3\"  # Σ (sigma)\n",
    "print(unicode_char)"
   ]
  },
  {
   "cell_type": "code",
   "execution_count": null,
   "id": "81f623f8-fef0-4364-a174-9b6d9a9a5469",
   "metadata": {},
   "outputs": [],
   "source": [
    "print(f\"this is binary format: \\\n",
    "{ord(unicode_char):016b}\")"
   ]
  },
  {
   "cell_type": "code",
   "execution_count": null,
   "id": "178e5623-4749-40e3-8323-36407152c810",
   "metadata": {},
   "outputs": [],
   "source": [
    "utf8_sigma = unicode_char.encode('utf-8')\n",
    "utf8_sigma"
   ]
  },
  {
   "cell_type": "markdown",
   "id": "37b57d53-e57c-4ef1-8d51-a1fb452bc3ce",
   "metadata": {},
   "source": [
    "Right away we see more is going on than a simple 2-byte encoding of `00000011 10100011` or 03 A3.  Remember:  every four bits may be expressed with the hex digit 0 through F."
   ]
  },
  {
   "cell_type": "code",
   "execution_count": null,
   "id": "af0db904-098e-4a37-99ee-63b6145c3b32",
   "metadata": {},
   "outputs": [],
   "source": [
    "print(utf8_sigma[0], utf8_sigma[1])"
   ]
  },
  {
   "cell_type": "markdown",
   "id": "c9a30c58-a07d-4954-8e5e-c45202dd25a5",
   "metadata": {},
   "source": [
    "The reason is UTF-8 needs to build a \"byte train\" that contains the information:  \n",
    "\n",
    "* how may bytes follow the first one; \n",
    "* here is the next one.  \n",
    "\n",
    "The first byte uses \"110\" to say \"I'm two bytes\" leaving 01110 as payload.  The second byte uses \"10\" to say \"here is the next one\", leaving 100011 as payload.\n",
    "\n",
    "Putting the payloads together and padding to 16 bits on the left gives `0000 0011 1010 0011` i.e 03 A3 in hex."
   ]
  },
  {
   "cell_type": "code",
   "execution_count": null,
   "id": "4592b6f9-b6c3-455d-9bfe-828cb415312f",
   "metadata": {},
   "outputs": [],
   "source": [
    "utf8_bits = f\"{utf8_sigma[0]:b} {utf8_sigma[1]:b}\"\n",
    "utf8_bits"
   ]
  },
  {
   "cell_type": "code",
   "execution_count": null,
   "id": "a366a677-862d-49a4-8a66-e960bbaa8678",
   "metadata": {},
   "outputs": [],
   "source": [
    "# 110xxxxx + 10xxxxxx\n",
    "# :x in format specifier = hexadecimal\n",
    "\"{:x}  {:x}\".format(0b00000011, 0b10100011)"
   ]
  },
  {
   "cell_type": "code",
   "execution_count": null,
   "id": "90a8aca9-4091-4ef7-8284-33d0e663c97d",
   "metadata": {},
   "outputs": [],
   "source": [
    "print(bin(0x03), bin(0xA3))"
   ]
  },
  {
   "cell_type": "markdown",
   "id": "87978919-ceab-4043-b486-a445fa581df3",
   "metadata": {},
   "source": [
    "## Escape Sequences\n",
    "\n",
    "Not every character prints a glyph.  \"Escape sequences\" do something other than print the character that follows.  Adding to the confusion is the fact that escape sequences may themselves be escaped i.e. turned back into raw string literals."
   ]
  },
  {
   "cell_type": "code",
   "execution_count": null,
   "id": "5d4bf506-3006-42dc-853b-517d6fe7531f",
   "metadata": {},
   "outputs": [],
   "source": [
    "print(\"I like\\t\\t\\tthe tab key\")\n",
    "print(r\"I like\\t\\t\\tthe tab key\")"
   ]
  },
  {
   "cell_type": "code",
   "execution_count": null,
   "id": "4af2e2f3-5c73-4f81-9cb6-cfa3229f76ef",
   "metadata": {},
   "outputs": [],
   "source": [
    "print(\"(\", r\"\\n\", \")\", sep=\".\") # raw string"
   ]
  },
  {
   "cell_type": "code",
   "execution_count": null,
   "id": "d5527008-005f-42d0-ad41-79780fe5d4d5",
   "metadata": {},
   "outputs": [],
   "source": [
    "print(\"(\", \"\\\\n\", \")\", sep=\"|\") # escaped escape sequence"
   ]
  },
  {
   "cell_type": "code",
   "execution_count": null,
   "id": "bbac5813-15c2-4847-90ba-90cdba7de7cd",
   "metadata": {},
   "outputs": [],
   "source": [
    "print(\"(\", \"\\n\", \")\", sep=\"\") # intact escape sequence"
   ]
  },
  {
   "cell_type": "markdown",
   "id": "27d5a8d4-6ecf-4e07-8f29-d68539b02cf3",
   "metadata": {},
   "source": [
    "## More About String Formatting\n",
    "\n",
    "Looking ahead, the curly braces inside a string serve as placeholders, with identifying info to the left of the colon, and formatting directives to the right."
   ]
  },
  {
   "cell_type": "code",
   "execution_count": null,
   "id": "3309faf1-c3d1-47cb-81e6-91187df12481",
   "metadata": {},
   "outputs": [],
   "source": [
    "table = {'Sjoerd': 4127, 'Jack': 4098, 'Dcab': 7678}\n",
    "for name, phone in table.items():\n",
    "    print(f'{name:10} ==> {phone:10d}')"
   ]
  },
  {
   "cell_type": "markdown",
   "id": "d66aaf23-2363-4e90-b493-ab4ef5f859a9",
   "metadata": {},
   "source": [
    "## Sandbox\n",
    "\n",
    "The requests package is one of the more popular 3rd party assets in the Python universe.  Its use seems pretty intuitive.\n",
    "\n",
    "The GET request below only works because earlier, outside the browser, at the operating system command line, we ran:\n",
    "\n",
    "```bash\n",
    "$ python -m http.server\n",
    "```\n",
    "\n",
    "which is a module in the Standard Library designed to serve the file tree, from the current location on down, as a web document."
   ]
  },
  {
   "cell_type": "code",
   "execution_count": null,
   "id": "9a1688dc-e369-4e5f-8f34-642a62a8077b",
   "metadata": {},
   "outputs": [],
   "source": [
    "import requests"
   ]
  },
  {
   "cell_type": "code",
   "execution_count": null,
   "id": "dad48b42-f62a-40f6-89c5-b2f11809bed2",
   "metadata": {},
   "outputs": [],
   "source": [
    "r = requests.get(\"http://0.0.0.0:8000/\")"
   ]
  },
  {
   "cell_type": "code",
   "execution_count": null,
   "id": "ba090e81-f7ae-41e0-937e-fcb98bd76d48",
   "metadata": {},
   "outputs": [],
   "source": [
    "type(r)"
   ]
  },
  {
   "cell_type": "markdown",
   "id": "47ab0480-ef26-4d65-a572-53596e949f5b",
   "metadata": {},
   "source": [
    "The `requests` module is able to reach out over the internet to pull down specific web pages as strings, and to otherwise interact with servers."
   ]
  },
  {
   "cell_type": "code",
   "execution_count": null,
   "id": "fc57dc64-9713-46ea-a6b5-a2c030ad8df5",
   "metadata": {},
   "outputs": [],
   "source": [
    "print(r.text)"
   ]
  },
  {
   "cell_type": "code",
   "execution_count": null,
   "id": "82c00a9b-57bb-47b6-a973-abf629d23d34",
   "metadata": {},
   "outputs": [],
   "source": [
    "type(r.text)"
   ]
  },
  {
   "cell_type": "code",
   "execution_count": null,
   "id": "1d2b3f38-2277-4a0b-a5e4-a63381ba3fd6",
   "metadata": {},
   "outputs": [],
   "source": [
    "r = requests.get(\"http://google.com/\")"
   ]
  },
  {
   "cell_type": "code",
   "execution_count": null,
   "id": "f6876ded-6365-4558-9c23-0bf04f2afadd",
   "metadata": {},
   "outputs": [],
   "source": [
    "print(r.text[:200])"
   ]
  },
  {
   "cell_type": "code",
   "execution_count": null,
   "id": "ec108d3a-d3c4-4bd1-9acf-c8b1e2422585",
   "metadata": {},
   "outputs": [],
   "source": [
    "print(r.text[-200:])"
   ]
  },
  {
   "cell_type": "markdown",
   "id": "4948ef20-f53c-4226-9ebf-9a5420f4671a",
   "metadata": {},
   "source": [
    "\n",
    "<a data-flickr-embed=\"true\" href=\"https://www.flickr.com/photos/kirbyurner/51891378321/in/dateposted-public/\" title=\"Clarusway Boot Camp\"><img src=\"https://live.staticflickr.com/65535/51891378321_811b5cfe4d.jpg\" width=\"500\" height=\"313\" alt=\"Clarusway Boot Camp\"></a><script async src=\"//embedr.flickr.com/assets/client-code.js\" charset=\"utf-8\"></script>"
   ]
  }
 ],
 "metadata": {
  "kernelspec": {
   "display_name": "Python 3 (ipykernel)",
   "language": "python",
   "name": "python3"
  },
  "language_info": {
   "codemirror_mode": {
    "name": "ipython",
    "version": 3
   },
   "file_extension": ".py",
   "mimetype": "text/x-python",
   "name": "python",
   "nbconvert_exporter": "python",
   "pygments_lexer": "ipython3",
   "version": "3.7.9"
  }
 },
 "nbformat": 4,
 "nbformat_minor": 5
}
