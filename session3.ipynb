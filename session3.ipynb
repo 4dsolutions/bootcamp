{
 "cells": [
  {
   "cell_type": "markdown",
   "id": "826d9bdd-5dd7-4d33-9435-34a0b0c61e4f",
   "metadata": {},
   "source": [
    "# Session 3:  Clarusway Mini-Bootcamp\n",
    "\n",
    "* Simple Operations\n",
    "* Operations with print() function\n",
    "* Escape Sequences\n",
    "\n",
    "Useful Links:\n",
    "\n"
   ]
  },
  {
   "cell_type": "markdown",
   "id": "8c7d79ff-5d53-44c1-9718-7818bb6db371",
   "metadata": {},
   "source": [
    "LMS: Simple Operations (32 slides)"
   ]
  },
  {
   "cell_type": "markdown",
   "id": "06bdf8f0-1494-4c1f-b8a2-0b35142d9e04",
   "metadata": {},
   "source": [
    "## Arithmetic Operators\n",
    "\n"
   ]
  },
  {
   "cell_type": "code",
   "execution_count": 1,
   "id": "dde177a6-b0e4-4384-b427-357fbdef1005",
   "metadata": {},
   "outputs": [
    {
     "data": {
      "text/plain": [
       "4"
      ]
     },
     "execution_count": 1,
     "metadata": {},
     "output_type": "execute_result"
    }
   ],
   "source": [
    "2 + 2"
   ]
  },
  {
   "cell_type": "code",
   "execution_count": 2,
   "id": "3f7a294f-1c56-4481-b754-716e4d4429e5",
   "metadata": {},
   "outputs": [
    {
     "data": {
      "text/plain": [
       "1267650600228229401496703205376"
      ]
     },
     "execution_count": 2,
     "metadata": {},
     "output_type": "execute_result"
    }
   ],
   "source": [
    "2 ** 100"
   ]
  },
  {
   "cell_type": "code",
   "execution_count": 15,
   "id": "94261f0c-ae48-48a4-a3cf-baa4d08556a0",
   "metadata": {},
   "outputs": [
    {
     "data": {
      "text/plain": [
       "1"
      ]
     },
     "execution_count": 15,
     "metadata": {},
     "output_type": "execute_result"
    }
   ],
   "source": [
    "100 % 11"
   ]
  },
  {
   "cell_type": "code",
   "execution_count": 16,
   "id": "7e2890cb-1315-4cf0-8a14-05bf59d6aba5",
   "metadata": {},
   "outputs": [
    {
     "data": {
      "text/plain": [
       "(9, 1)"
      ]
     },
     "execution_count": 16,
     "metadata": {},
     "output_type": "execute_result"
    }
   ],
   "source": [
    "divmod(100, 11)"
   ]
  },
  {
   "cell_type": "code",
   "execution_count": 9,
   "id": "bf60f0ea-634b-4906-8d46-6463302506a2",
   "metadata": {},
   "outputs": [],
   "source": [
    "from operator import add, sub, truediv, mul"
   ]
  },
  {
   "cell_type": "code",
   "execution_count": 11,
   "id": "286d3924-195c-4893-8cf0-eb5cd5c73b48",
   "metadata": {},
   "outputs": [
    {
     "data": {
      "text/plain": [
       "4"
      ]
     },
     "execution_count": 11,
     "metadata": {},
     "output_type": "execute_result"
    }
   ],
   "source": [
    "add(2,2)"
   ]
  },
  {
   "cell_type": "code",
   "execution_count": 13,
   "id": "ded9e90b-6b33-4726-a58a-fa2cbbbca416",
   "metadata": {},
   "outputs": [
    {
     "data": {
      "text/plain": [
       "2.0"
      ]
     },
     "execution_count": 13,
     "metadata": {},
     "output_type": "execute_result"
    }
   ],
   "source": [
    "truediv(10, 5)"
   ]
  },
  {
   "cell_type": "code",
   "execution_count": 14,
   "id": "4101d296-977d-4de8-85fc-7c2674d5ec58",
   "metadata": {},
   "outputs": [
    {
     "data": {
      "text/plain": [
       "2.0"
      ]
     },
     "execution_count": 14,
     "metadata": {},
     "output_type": "execute_result"
    }
   ],
   "source": [
    "10/5"
   ]
  },
  {
   "cell_type": "markdown",
   "id": "65ac1143-7a68-466c-abd7-a9c451743a09",
   "metadata": {},
   "source": [
    "## Operations with the Print Function\n",
    "\n",
    "One of the big differences between Python 2.x and 3.x is that print( ) was turned from a keyword into a function.  Doing that allowed print( ) to consume some named arguments, such as separator character `sep=`), end character (`end=`), and even an output file object (`file=file_obj`)."
   ]
  },
  {
   "cell_type": "code",
   "execution_count": 17,
   "id": "66fe2f50-fcce-40e9-b285-dad3f2fd6699",
   "metadata": {},
   "outputs": [
    {
     "name": "stdout",
     "output_type": "stream",
     "text": [
      "I!like!Python\n"
     ]
    }
   ],
   "source": [
    "print(\"I\",\"like\",\"Python\", sep=\"!\")"
   ]
  },
  {
   "cell_type": "markdown",
   "id": "87978919-ceab-4043-b486-a445fa581df3",
   "metadata": {},
   "source": [
    "## Escape Sequences\n",
    "\n",
    "Not every character prints a glyph.  \"To escape\" a sequence is to toggle its behavior from \"literal string\" to \"control character\" (such as `\\n` for newline)."
   ]
  },
  {
   "cell_type": "code",
   "execution_count": 22,
   "id": "4af2e2f3-5c73-4f81-9cb6-cfa3229f76ef",
   "metadata": {},
   "outputs": [
    {
     "name": "stdout",
     "output_type": "stream",
     "text": [
      "(.\\n.)\n"
     ]
    }
   ],
   "source": [
    "print(\"(\", r\"\\n\", \")\", sep=\".\")"
   ]
  },
  {
   "cell_type": "code",
   "execution_count": 23,
   "id": "d5527008-005f-42d0-ad41-79780fe5d4d5",
   "metadata": {},
   "outputs": [
    {
     "name": "stdout",
     "output_type": "stream",
     "text": [
      "(|\\n|)\n"
     ]
    }
   ],
   "source": [
    "print(\"(\", \"\\\\n\", \")\", sep=\"|\")"
   ]
  },
  {
   "cell_type": "code",
   "execution_count": 26,
   "id": "bbac5813-15c2-4847-90ba-90cdba7de7cd",
   "metadata": {},
   "outputs": [
    {
     "name": "stdout",
     "output_type": "stream",
     "text": [
      "(\n",
      ")\n"
     ]
    }
   ],
   "source": [
    "print(\"(\", \"\\n\", \")\", sep=\"\")"
   ]
  },
  {
   "cell_type": "code",
   "execution_count": null,
   "id": "eda544fa-ba1a-4a5d-947e-bfc14219ea34",
   "metadata": {},
   "outputs": [],
   "source": []
  }
 ],
 "metadata": {
  "kernelspec": {
   "display_name": "Python 3 (ipykernel)",
   "language": "python",
   "name": "python3"
  },
  "language_info": {
   "codemirror_mode": {
    "name": "ipython",
    "version": 3
   },
   "file_extension": ".py",
   "mimetype": "text/x-python",
   "name": "python",
   "nbconvert_exporter": "python",
   "pygments_lexer": "ipython3",
   "version": "3.7.9"
  }
 },
 "nbformat": 4,
 "nbformat_minor": 5
}
