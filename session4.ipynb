{
 "cells": [
  {
   "cell_type": "markdown",
   "id": "826d9bdd-5dd7-4d33-9435-34a0b0c61e4f",
   "metadata": {},
   "source": [
    "<a data-flickr-embed=\"true\" href=\"https://www.flickr.com/photos/kirbyurner/51883694941/in/album-72177720296706479/\" title=\"week2_schedule\"><img src=\"https://live.staticflickr.com/65535/51883694941_84ef7655e9.jpg\" width=\"359\" height=\"500\" alt=\"week2_schedule\"></a><script async src=\"//embedr.flickr.com/assets/client-code.js\" charset=\"utf-8\"></script>\n",
    "\n",
    "# Session 4:  Clarusway Mini-Bootcamp\n",
    "\n",
    "* Boolean Logic Expressions\n",
    "* Truth Values of Logic Statements\n",
    "* The Strength of the String"
   ]
  },
  {
   "cell_type": "markdown",
   "id": "e0496db5-3c21-4dd0-a9ba-ef2a52368840",
   "metadata": {},
   "source": [
    "### Useful Links (not always unique)\n",
    "\n",
    "* [This Notebook on Colab](https://colab.research.google.com/github/4dsolutions/bootcamp/blob/main/session2.ipynb)\n",
    "* [This Notebook on nbviewer](https://nbviewer.org/github/4dsolutions/bootcamp/blob/main/session2.ipynb)\n",
    "* [Common String Operations](https://docs.python.org/3/library/string.html)\n",
    "* [Example StackOverflow Question](https://stackoverflow.com/questions/432842/how-do-you-get-the-logical-xor-of-two-variables-in-python)\n",
    "* [StackOverflow: Basic BitFlipper](https://stackoverflow.com/questions/27958292/basic-bit-flip-algorithm)\n",
    "* [json module](https://docs.python.org/3/library/json.html)\n",
    "* [numpy package](https://numpy.org/)\n",
    "* [pandas package](https://pandas.pydata.org/)\n",
    "* [Python Data Science Handbook by Jake VanderPlas](https://jakevdp.github.io/PythonDataScienceHandbook/)\n",
    "* [Free Books by Allen Downey](https://greenteapress.com/wp/)\n",
    "* [scikit-learn](https://scikit-learn.org/stable/)\n",
    "* [Course Album](https://flic.kr/s/aHBqjzCs82)\n",
    "* [Course Repository](https://github.com/4dsolutions/bootcamp)"
   ]
  },
  {
   "cell_type": "markdown",
   "id": "17743e3b-0e71-4ba7-b7db-5b7580dc4322",
   "metadata": {},
   "source": [
    "### Glossary of Terms (not alphabetical)\n",
    "\n",
    "* The Turk: apparent chess playing robot that was actually a hoax (it beat Napoleon)\n",
    "* Data Munging:  cleaning and regularizing data to make it usable in computations\n",
    "* ML: Machine Learning, training models to predict correctly\n",
    "* DL: Deep Learning: a model training technique\n",
    "* numpy package: n-dimensional array object, linear algebra\n",
    "* pandas package:  DataFrames containing Series containing numpy arrays\n",
    "* JS: JavaScript\n",
    "* Angular: JS framework from Google\n",
    "* React: JS framework from Facebook\n",
    "* HTML:  Hypertext Markup Language (version 5 most recent)\n",
    "* CSS: Cascading Style Sheet (version 3 most recent)\n",
    "* scikit-learn: Machine Learning in Python\n",
    "* TensorFlow: ML for Python from Google\n",
    "* PyTorch: ML for Python from Facebook"
   ]
  },
  {
   "cell_type": "markdown",
   "id": "06bdf8f0-1494-4c1f-b8a2-0b35142d9e04",
   "metadata": {},
   "source": [
    "## Boolean Logic Expressions\n",
    "\n",
    "True and False are actually both keywords and names for the integers 1 and 0 respectively.  We say the bool type is a subclass of the int type.  This is part of Python's design, not a feature shared by all languages."
   ]
  },
  {
   "cell_type": "code",
   "execution_count": null,
   "id": "ebb53f61-ddef-4e98-85bf-4621d8712639",
   "metadata": {},
   "outputs": [],
   "source": [
    "issubclass(bool, int)"
   ]
  },
  {
   "cell_type": "markdown",
   "id": "65ac1143-7a68-466c-abd7-a9c451743a09",
   "metadata": {},
   "source": [
    "## Truth Values of Logic Statements\n",
    "\n",
    "The boolean type looks for operators relating True or False values, namely: and, or, not."
   ]
  },
  {
   "cell_type": "code",
   "execution_count": null,
   "id": "8ae2f6cd-8eef-4f8e-a522-fa56687dd8a5",
   "metadata": {},
   "outputs": [],
   "source": [
    "not \"c\" in \"cat\""
   ]
  },
  {
   "cell_type": "code",
   "execution_count": null,
   "id": "17077b06-5ed5-461e-9aed-874e76dee140",
   "metadata": {},
   "outputs": [],
   "source": [
    "\"c\" not in \"cat\" # allowed syntax"
   ]
  },
  {
   "cell_type": "code",
   "execution_count": null,
   "id": "3204e8fd-fac8-466a-a383-e296ed48169c",
   "metadata": {},
   "outputs": [],
   "source": [
    "(\"c\" in \"cat\") and (\"d\" in \"dog\")"
   ]
  },
  {
   "cell_type": "markdown",
   "id": "6b3bf304-2842-47cc-b3c0-a7b2527ddf02",
   "metadata": {},
   "source": [
    "Remember:  special names (`__ribs__`) inside the various types, control what the operators mean and do.  The `in` keyword may be considered an operator and `a in b` is equivalently `b.__contains__(a)`.  This second, more ugly way of saying it, is just a reminder that, when the time comes, you-the-programmer have the power to take control of `in` with respect to your own types."
   ]
  },
  {
   "cell_type": "code",
   "execution_count": null,
   "id": "6d4704be-092f-4824-9772-22fa0bd0a857",
   "metadata": {},
   "outputs": [],
   "source": [
    "\"cat\".__contains__\"c\""
   ]
  },
  {
   "cell_type": "markdown",
   "id": "f8b8017e-0d39-46de-a12a-f43cfca5b119",
   "metadata": {},
   "source": [
    "The code below is a preview of the rest of Python:  defining your own types with their own methods.  The keywords `class` and `def` have not yet been formally introduced.  However we have talked quite a bit about types versus intances.  \n",
    "\n",
    "Below, the Animal type is defined such that `in` always triggers a `True` response.  This code is for any animal instance.  We still have to create those instances, by calling the Animal type."
   ]
  },
  {
   "cell_type": "code",
   "execution_count": null,
   "id": "0b87a9b4-a0f7-4059-8e78-e954ed393869",
   "metadata": {},
   "outputs": [],
   "source": [
    "class Animal:\n",
    "    \"\"\"\n",
    "    Preview of defining a new type: Animal\n",
    "    with one method, triggered by 'in' \n",
    "    that always returns True\n",
    "    \"\"\"\n",
    "    def __contains__(self, thing):  # <-- special name in action\n",
    "        print(\"Yes, always\")\n",
    "        return True"
   ]
  },
  {
   "cell_type": "code",
   "execution_count": null,
   "id": "9029395c-28a2-4b14-9a08-84fe159d4fab",
   "metadata": {},
   "outputs": [],
   "source": [
    "a = Animal()  # calling the Animal type to get an instance\n",
    "\"b\" in a"
   ]
  },
  {
   "cell_type": "code",
   "execution_count": null,
   "id": "7b5adf8e-9072-408a-90ee-f5c7eecfb54f",
   "metadata": {},
   "outputs": [],
   "source": [
    "(\"c\" in \"cat\") or (1/0)  # 2nd condition never visited if first is True"
   ]
  },
  {
   "cell_type": "code",
   "execution_count": null,
   "id": "58a1842c-1a38-4463-b283-1731cf9ebfd7",
   "metadata": {},
   "outputs": [],
   "source": [
    "a = \"c\" in \"cat\"\n",
    "b = \"d\" in \"dog\"\n",
    "(a and not b) or (b and not a)  # exclusive or"
   ]
  },
  {
   "cell_type": "markdown",
   "id": "00dabdb1-79cc-4921-99d7-9d9c1de2aef9",
   "metadata": {},
   "source": [
    "At the foundation of Boolean Logic, we have what are called bitwise operations, which operate bit-for-bit, applying the logic of and, or, xor."
   ]
  },
  {
   "cell_type": "code",
   "execution_count": null,
   "id": "c73b7c5e-ce7d-48cb-a05f-81a0c13ea93d",
   "metadata": {},
   "outputs": [],
   "source": [
    "from operator import xor\n",
    "\n",
    "xor(a,b)"
   ]
  },
  {
   "cell_type": "markdown",
   "id": "8d4c7191-fffe-4cef-b9a5-25b9f601f22a",
   "metadata": {},
   "source": [
    "The Python code:\n",
    "\n",
    "```python\n",
    "f\"{bitwise:04b}\"\n",
    "```\n",
    "\n",
    "means:  find `bitwise` in the current namespace and substitute its value expressed in binary, padding with 0s on the left if necessary, and 4 wide.  The prefix \"f\" means \"format\".  An alternative, in older Pythons, is to explicitly feed the required names through the string type's `format` method.\n",
    "\n",
    "```python\n",
    "\"{:04b}\".format(bitwise)  # no placeholder name needed\n",
    "```\n",
    "\n",
    "Here in the Jupyter Notebook context, the last row in a cell is automatically evaluated for output.  Inside a conventional program, `print` would be needed to send output to the console and/or names would be assigned so that results could have some use."
   ]
  },
  {
   "cell_type": "code",
   "execution_count": null,
   "id": "d31d02f4-f5e6-4aed-8c11-cd82053c1fc8",
   "metadata": {},
   "outputs": [],
   "source": [
    "bitwise = 0b1000 & 0b1100  # and the bits\n",
    "f\"{bitwise:04b}\""
   ]
  },
  {
   "cell_type": "code",
   "execution_count": null,
   "id": "b7be5144-bdea-4a63-be3f-7e135b9f1e46",
   "metadata": {},
   "outputs": [],
   "source": [
    "bitwise = 0b1000 | 0b1100  # or the bits\n",
    "f\"{bitwise:04b}\""
   ]
  },
  {
   "cell_type": "code",
   "execution_count": null,
   "id": "dd7085bb-8864-4d6f-8186-88d18c0f5166",
   "metadata": {},
   "outputs": [],
   "source": [
    "bitwise = 0b1000 ^ 0b1101  # xor the bits\n",
    "f\"{bitwise:04b}\""
   ]
  },
  {
   "cell_type": "code",
   "execution_count": null,
   "id": "c82e9cbd-2267-47e1-af0b-ac810c6b0b06",
   "metadata": {},
   "outputs": [],
   "source": [
    "bin(0b1000 & 0b1100)  # another approach"
   ]
  },
  {
   "cell_type": "code",
   "execution_count": null,
   "id": "d3b70a4c-b081-4978-bae5-99269ab8b604",
   "metadata": {},
   "outputs": [],
   "source": [
    "bitwise = ~0b11100111 & 0xff  # see Basic BitFlipper in Links above\n",
    "f\"{bitwise:08b}\""
   ]
  },
  {
   "cell_type": "code",
   "execution_count": null,
   "id": "c03e238f-db75-40ed-9a73-53a948d9b0ce",
   "metadata": {},
   "outputs": [],
   "source": [
    "f\"{-bitwise:08b}\""
   ]
  },
  {
   "cell_type": "code",
   "execution_count": null,
   "id": "d6b5e946-33fe-498c-b487-112a06a816dc",
   "metadata": {},
   "outputs": [],
   "source": [
    "\"copyright\" in dir(__builtins__)"
   ]
  },
  {
   "cell_type": "markdown",
   "id": "87978919-ceab-4043-b486-a445fa581df3",
   "metadata": {},
   "source": [
    "## The Strength of the String\n",
    "\n",
    "The string type is core to information processing because so much information is communicated using a text encoding, be that Unicode, ASCII or something else.\n",
    "\n",
    "The other core data exchange type is binary, and knowing the file type in the case of binary is just as critical as knowing the encoding type in the case of text.  Is this a picture, music, or other file?\n",
    "\n",
    "Text files have the advantage of meaning something to the eyes, i.e. they tend to be human readable to a far greater extent than random bytes in a binary file."
   ]
  },
  {
   "cell_type": "markdown",
   "id": "d2af7b55-d950-40be-bc5d-16cd6d607d70",
   "metadata": {},
   "source": [
    "### Strings and File I/O\n",
    "\n",
    "This section illustrates working with persistent text files, through file type objects.  Text files typically need to be \"parsed\".  From Wikipedia: \n",
    "\n",
    "<blockquote>Parsing, syntax analysis, or syntactic analysis is the process of analyzing a string of symbols, either in natural language, computer languages or data structures, conforming to the rules of a formal grammar. The term parsing comes from Latin pars, meaning part.</blockquote>"
   ]
  },
  {
   "cell_type": "code",
   "execution_count": null,
   "id": "4af2e2f3-5c73-4f81-9cb6-cfa3229f76ef",
   "metadata": {},
   "outputs": [],
   "source": [
    "file_object = open(\"links.txt\", \"r\")"
   ]
  },
  {
   "cell_type": "code",
   "execution_count": null,
   "id": "3a6deace-a4d9-48c5-a1a1-3cae0a357106",
   "metadata": {},
   "outputs": [],
   "source": [
    "sample = file_object.readlines()[5:10]"
   ]
  },
  {
   "cell_type": "code",
   "execution_count": null,
   "id": "0140dc9c-f1db-44c5-84b3-21b5cb8261df",
   "metadata": {},
   "outputs": [],
   "source": [
    "file_object.close()"
   ]
  },
  {
   "cell_type": "code",
   "execution_count": null,
   "id": "bf576893-3b00-406b-bdf1-4533a19fb59a",
   "metadata": {},
   "outputs": [],
   "source": [
    "sample"
   ]
  },
  {
   "cell_type": "code",
   "execution_count": null,
   "id": "01b975dd-faec-429d-8163-4ac1773f9c86",
   "metadata": {},
   "outputs": [],
   "source": [
    "sample[0]"
   ]
  },
  {
   "cell_type": "code",
   "execution_count": null,
   "id": "d38a3e39-c741-4f5d-b57a-e847008e9599",
   "metadata": {},
   "outputs": [],
   "source": [
    "sample[0][:-1]"
   ]
  },
  {
   "cell_type": "code",
   "execution_count": null,
   "id": "5fd19d90-3ad8-4bb3-b1b5-9e7d92555145",
   "metadata": {},
   "outputs": [],
   "source": [
    "sample[0][:-2].replace(\"* [\",\"\").split(\"](\")"
   ]
  },
  {
   "cell_type": "code",
   "execution_count": null,
   "id": "47c35225-6a0e-44d8-923b-a13f9c19a90c",
   "metadata": {},
   "outputs": [],
   "source": [
    "sample[1][:-2].replace(\"* [\",\"\").split(\"](\")"
   ]
  },
  {
   "cell_type": "code",
   "execution_count": null,
   "id": "49a9d954-e383-4e65-ae7d-b9ca3e38575d",
   "metadata": {},
   "outputs": [],
   "source": [
    "file_object = open(\"glossary.txt\", \"r\")"
   ]
  },
  {
   "cell_type": "code",
   "execution_count": null,
   "id": "de3b537d-58b5-4739-9aed-bcb730e3438c",
   "metadata": {},
   "outputs": [],
   "source": [
    "sample = file_object.readlines()[5:10]"
   ]
  },
  {
   "cell_type": "code",
   "execution_count": null,
   "id": "1744e518-bb8b-48bf-beac-3e4dc3f82b3a",
   "metadata": {},
   "outputs": [],
   "source": [
    "file_object.close()"
   ]
  },
  {
   "cell_type": "code",
   "execution_count": null,
   "id": "25cd1f73-8931-4459-9db2-27b52e124fc9",
   "metadata": {},
   "outputs": [],
   "source": [
    "sample"
   ]
  },
  {
   "cell_type": "code",
   "execution_count": null,
   "id": "b4d4f450-d5bc-49f6-b1ae-6869623d4117",
   "metadata": {},
   "outputs": [],
   "source": [
    "sample[3][2:-1].split(\": \")"
   ]
  },
  {
   "cell_type": "code",
   "execution_count": null,
   "id": "0cfcdcf2-a21e-4e76-8eee-75abb17b4fd5",
   "metadata": {},
   "outputs": [],
   "source": [
    "sample[4][2:-1].split(\": \")"
   ]
  },
  {
   "cell_type": "markdown",
   "id": "482ee164-8791-4c77-98c6-69a83efaa946",
   "metadata": {},
   "source": [
    "## Sandboxed Review: UTF-8, Bits and Bytes\n",
    "\n",
    "Lets write code to accept any UTF-8 encoded character in order to:\n",
    "\n",
    "* figure out how many bytes it requires\n",
    "* show those bytes\n",
    "* show payload bits only\n",
    "* convert payload to hex\n",
    "* compare with published hex value using requests (http)\n"
   ]
  },
  {
   "cell_type": "code",
   "execution_count": null,
   "id": "42adb7ce-1bea-4c89-9d39-a53a602fc3a5",
   "metadata": {},
   "outputs": [],
   "source": [
    "input_char = \"Σ\" # \"T\" \"😊\"  <--- several candidates for analysis\n",
    "\n",
    "byte_string = bytes(input_char, encoding='UTF-8')\n",
    "howmany_bytes = len(byte_string)\n",
    "print(\"Bytes:\", howmany_bytes)"
   ]
  },
  {
   "cell_type": "code",
   "execution_count": null,
   "id": "06165c35-4327-423f-a61d-cdccd8f27b77",
   "metadata": {},
   "outputs": [],
   "source": [
    "byte_string"
   ]
  },
  {
   "cell_type": "code",
   "execution_count": null,
   "id": "ea257860-7dae-4580-8fe0-b3dc2657e72b",
   "metadata": {},
   "outputs": [],
   "source": [
    "f\"{byte_string[0]:08b}\""
   ]
  },
  {
   "cell_type": "code",
   "execution_count": null,
   "id": "c0e69a55-6832-4a2d-9a38-a3e78b315e75",
   "metadata": {},
   "outputs": [],
   "source": [
    "bin(byte_string[0])"
   ]
  },
  {
   "cell_type": "markdown",
   "id": "ba05adf1-4678-4a43-83ed-50d59ceeed4b",
   "metadata": {},
   "source": [
    "| Byte0    |   | Byte1    |   | Byte2    |   | Byte3    |   |\n",
    "|----------|---|----------|---|----------|---|----------|---|\n",
    "| 0xxxxxxx |   |          |   |          |   |          |   |\n",
    "| 110xxxxx |   | 10xxxxxx |   |          |   |          |   |\n",
    "| 1110xxxx |   | 10xxxxxx |   | 10xxxxxx |   |          |   |\n",
    "| 11110xxx |   | 10xxxxxx |   | 10xxxxxx |   | 10xxxxxx |   |"
   ]
  },
  {
   "cell_type": "markdown",
   "id": "1892c192-a45e-4eb8-8ea2-52c035d4e8ef",
   "metadata": {},
   "source": [
    "The code below could be shortened quite a bit using looping constructs.  However at this point in our boot camp, those looping constructs are ahead of us.  Once you learn them, think about coming back and writing some shorter functions.\n",
    "\n",
    "The strategy below is to tease the payload apart from the structural bits.  The Markdown table above, [from a Table Generator](https://www.tablesgenerator.com/markdown_tables#), remind us how UTF-8 works."
   ]
  },
  {
   "cell_type": "code",
   "execution_count": null,
   "id": "384a5826-11ec-4367-a333-1bb7fef7636c",
   "metadata": {},
   "outputs": [],
   "source": [
    "payload = \"\"\n",
    "\n",
    "if howmany_bytes == 4:\n",
    "    byte0 = f\"{byte_string[0]:08b}\"\n",
    "    byte1 = f\"{byte_string[1]:08b}\"\n",
    "    byte2 = f\"{byte_string[2]:08b}\"\n",
    "    byte3 = f\"{byte_string[3]:08b}\"\n",
    "    payload += byte0[5:]\n",
    "    payload += byte1[2:]\n",
    "    payload += byte2[2:]\n",
    "    payload += byte3[2:]\n",
    "    print(\"Bytes\", byte0, byte1, byte2, byte3, sep=\"\\nByte:   \")\n",
    "\n",
    "if howmany_bytes == 3:\n",
    "    byte0 = f\"{byte_string[0]:08b}\"\n",
    "    byte1 = f\"{byte_string[1]:08b}\"\n",
    "    byte2 = f\"{byte_string[2]:08b}\"\n",
    "    payload += byte0[4:]\n",
    "    payload += byte1[2:]\n",
    "    payload += byte2[2:]\n",
    "    print(\"Bytes\", byte0, byte1, byte2, sep=\"\\n Byte:   \")\n",
    "    \n",
    "if howmany_bytes == 2:\n",
    "    byte0 = f\"{byte_string[0]:08b}\"\n",
    "    byte1 = f\"{byte_string[1]:08b}\"\n",
    "    payload += byte0[4:]\n",
    "    payload += byte1[2:]\n",
    "    print(\"Bytes\", byte0, byte1, sep=\"\\n Byte:   \")\n",
    "    \n",
    "if howmany_bytes == 1:\n",
    "    byte0 = f\"{byte_string[0]:08b}\"\n",
    "    payload += byte0\n",
    "    print(\"Bytes\", byte0, sep=\"\\n Byte:   \")\n",
    "\n",
    "print()\n",
    "print(\"Payload:\", payload)\n",
    "code_point = int(payload, 2)\n",
    "hex_point = f\"{code_point:04x}\".upper()\n",
    "print(f\"Code Point (hex):\", hex_point)\n",
    "print(\"Code Point (dec):\", code_point)"
   ]
  },
  {
   "cell_type": "code",
   "execution_count": null,
   "id": "9ea36c75-3df3-464d-9ffb-43278fbc3fdc",
   "metadata": {},
   "outputs": [],
   "source": [
    "import requests\n",
    "# response = requests.get(\"https://www.compart.com/en/unicode/U+1F60A\")\n",
    "response = requests.get(\"https://www.compart.com/en/unicode/U+03A3\")"
   ]
  },
  {
   "cell_type": "code",
   "execution_count": null,
   "id": "31f3df25-6cd3-41a4-aa59-a7d71f411034",
   "metadata": {},
   "outputs": [],
   "source": [
    "response.status_code|"
   ]
  },
  {
   "cell_type": "code",
   "execution_count": null,
   "id": "4deb645c-6092-48d0-a42f-72c8a50ec636",
   "metadata": {},
   "outputs": [],
   "source": [
    "start = response.text.index(\"<title \")\n",
    "stop = response.text.find(\"</title>\")\n",
    "print(response.text[start:stop+8])"
   ]
  }
 ],
 "metadata": {
  "kernelspec": {
   "display_name": "Python 3 (ipykernel)",
   "language": "python",
   "name": "python3"
  },
  "language_info": {
   "codemirror_mode": {
    "name": "ipython",
    "version": 3
   },
   "file_extension": ".py",
   "mimetype": "text/x-python",
   "name": "python",
   "nbconvert_exporter": "python",
   "pygments_lexer": "ipython3",
   "version": "3.7.9"
  }
 },
 "nbformat": 4,
 "nbformat_minor": 5
}
