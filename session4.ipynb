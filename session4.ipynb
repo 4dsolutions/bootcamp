{
 "cells": [
  {
   "cell_type": "markdown",
   "id": "826d9bdd-5dd7-4d33-9435-34a0b0c61e4f",
   "metadata": {},
   "source": [
    "<a data-flickr-embed=\"true\" href=\"https://www.flickr.com/photos/kirbyurner/51883694941/in/album-72177720296706479/\" title=\"week2_schedule\"><img src=\"https://live.staticflickr.com/65535/51883694941_84ef7655e9.jpg\" width=\"359\" height=\"500\" alt=\"week2_schedule\"></a><script async src=\"//embedr.flickr.com/assets/client-code.js\" charset=\"utf-8\"></script>\n",
    "\n",
    "# Session 4:  Clarusway Mini-Bootcamp\n",
    "\n",
    "* Boolean Logic Expressions\n",
    "* Truth Values of Logic Statements\n",
    "* The Strength of the String"
   ]
  },
  {
   "cell_type": "markdown",
   "id": "e0496db5-3c21-4dd0-a9ba-ef2a52368840",
   "metadata": {},
   "source": [
    "### Useful Links (not always unique)\n",
    "\n",
    "* [This Notebook on Colab](https://colab.research.google.com/github/4dsolutions/bootcamp/blob/main/session2.ipynb)\n",
    "* [This Notebook on nbviewer](https://nbviewer.org/github/4dsolutions/bootcamp/blob/main/session2.ipynb)\n",
    "* [Common String Operations](https://docs.python.org/3/library/string.html)\n",
    "* [json module](https://docs.python.org/3/library/json.html)\n",
    "* [numpy package](https://numpy.org/)\n",
    "* [pandas package](https://pandas.pydata.org/)\n",
    "* [scikit-learn](https://scikit-learn.org/stable/)\n",
    "* [Course Album](https://flic.kr/s/aHBqjzCs82)\n",
    "* [Course Repository](https://github.com/4dsolutions/bootcamp)"
   ]
  },
  {
   "cell_type": "markdown",
   "id": "17743e3b-0e71-4ba7-b7db-5b7580dc4322",
   "metadata": {},
   "source": [
    "### Glossary of Terms (not alphabetical)\n",
    "\n",
    "* The Turk: apparent chess playing robot that was actually a hoax (it beat Napoleon)\n",
    "* ML: Machine Learning, training models to predict correctly\n",
    "* DL: Deep Learning: a model training technique\n",
    "* numpy package: n-dimensional array object, linear algebra\n",
    "* pandas package:  DataFrames containing Series containing numpy arrays\n",
    "* JS: JavaScript\n",
    "* Angular: JS framework from Google\n",
    "* React: JS framework from Facebook\n",
    "* HTML:  Hypertext Markup Language (version 5 most recent)\n",
    "* CSS: Cascading Style Sheet (version 3 most recent)\n",
    "* scikit-learn: Machine Learning in Python\n",
    "* TensorFlow: ML for Python from Google\n",
    "* PyTorch: ML for Python from Facebook"
   ]
  },
  {
   "cell_type": "markdown",
   "id": "06bdf8f0-1494-4c1f-b8a2-0b35142d9e04",
   "metadata": {},
   "source": [
    "## Boolean Logic Expressions"
   ]
  },
  {
   "cell_type": "code",
   "execution_count": null,
   "id": "ebb53f61-ddef-4e98-85bf-4621d8712639",
   "metadata": {},
   "outputs": [],
   "source": [
    "issubclass(bool, int)"
   ]
  },
  {
   "cell_type": "markdown",
   "id": "65ac1143-7a68-466c-abd7-a9c451743a09",
   "metadata": {},
   "source": [
    "## Truth Values of Logic Statements"
   ]
  },
  {
   "cell_type": "code",
   "execution_count": null,
   "id": "3204e8fd-fac8-466a-a383-e296ed48169c",
   "metadata": {},
   "outputs": [],
   "source": [
    "(\"c\" in \"cat\") and (\"d\" in \"dog\")"
   ]
  },
  {
   "cell_type": "code",
   "execution_count": null,
   "id": "7b5adf8e-9072-408a-90ee-f5c7eecfb54f",
   "metadata": {},
   "outputs": [],
   "source": [
    "(\"c\" in \"cat\") or (1/0)  # 2nd condition never visited if first is True"
   ]
  },
  {
   "cell_type": "code",
   "execution_count": null,
   "id": "d6b5e946-33fe-498c-b487-112a06a816dc",
   "metadata": {},
   "outputs": [],
   "source": [
    "\"copyright\" in dir(__builtins__)"
   ]
  },
  {
   "cell_type": "markdown",
   "id": "87978919-ceab-4043-b486-a445fa581df3",
   "metadata": {},
   "source": [
    "## The Strength of the String\n",
    "\n",
    "The string type is core to information processing because so much information is communicated using a text encoding, be that Unicode, ASCII or something else.\n",
    "\n",
    "The other core data exchange type is binary, and knowing the file type in the case of binary is just as critical as knowing the encoding type in the case of text.  Is this a picture, music, or other file?\n",
    "\n",
    "Text files have the advantage of meaning something to the eyes, i.e. they tend to be human readable to a far greater extent than random bytes in a binary file."
   ]
  },
  {
   "cell_type": "markdown",
   "id": "d2af7b55-d950-40be-bc5d-16cd6d607d70",
   "metadata": {},
   "source": [
    "### Strings and File I/O\n",
    "\n",
    "This section illustrates working with persistent text files, through file type objects.  Text files typically need to be \"parsed\".  From Wikipedia: \n",
    "\n",
    "<blockquote>Parsing, syntax analysis, or syntactic analysis is the process of analyzing a string of symbols, either in natural language, computer languages or data structures, conforming to the rules of a formal grammar. The term parsing comes from Latin pars, meaning part.</blockquote>"
   ]
  },
  {
   "cell_type": "code",
   "execution_count": null,
   "id": "4af2e2f3-5c73-4f81-9cb6-cfa3229f76ef",
   "metadata": {},
   "outputs": [],
   "source": [
    "file_object = open(\"links.txt\", \"r\")"
   ]
  },
  {
   "cell_type": "code",
   "execution_count": null,
   "id": "3a6deace-a4d9-48c5-a1a1-3cae0a357106",
   "metadata": {},
   "outputs": [],
   "source": [
    "sample = file_object.readlines()[5:10]"
   ]
  },
  {
   "cell_type": "code",
   "execution_count": null,
   "id": "0140dc9c-f1db-44c5-84b3-21b5cb8261df",
   "metadata": {},
   "outputs": [],
   "source": [
    "file_object.close()"
   ]
  },
  {
   "cell_type": "code",
   "execution_count": null,
   "id": "bf576893-3b00-406b-bdf1-4533a19fb59a",
   "metadata": {},
   "outputs": [],
   "source": [
    "sample"
   ]
  },
  {
   "cell_type": "code",
   "execution_count": null,
   "id": "01b975dd-faec-429d-8163-4ac1773f9c86",
   "metadata": {},
   "outputs": [],
   "source": [
    "sample[0]"
   ]
  },
  {
   "cell_type": "code",
   "execution_count": null,
   "id": "d38a3e39-c741-4f5d-b57a-e847008e9599",
   "metadata": {},
   "outputs": [],
   "source": [
    "sample[0][:-1]"
   ]
  },
  {
   "cell_type": "code",
   "execution_count": null,
   "id": "5fd19d90-3ad8-4bb3-b1b5-9e7d92555145",
   "metadata": {},
   "outputs": [],
   "source": [
    "sample[0][:-2].replace(\"* [\",\"\").split(\"](\")"
   ]
  },
  {
   "cell_type": "code",
   "execution_count": null,
   "id": "47c35225-6a0e-44d8-923b-a13f9c19a90c",
   "metadata": {},
   "outputs": [],
   "source": [
    "sample[1][:-2].replace(\"* [\",\"\").split(\"](\")"
   ]
  },
  {
   "cell_type": "code",
   "execution_count": null,
   "id": "49a9d954-e383-4e65-ae7d-b9ca3e38575d",
   "metadata": {},
   "outputs": [],
   "source": [
    "file_object = open(\"glossary.txt\", \"r\")"
   ]
  },
  {
   "cell_type": "code",
   "execution_count": null,
   "id": "de3b537d-58b5-4739-9aed-bcb730e3438c",
   "metadata": {},
   "outputs": [],
   "source": [
    "sample = file_object.readlines()[5:10]"
   ]
  },
  {
   "cell_type": "code",
   "execution_count": null,
   "id": "1744e518-bb8b-48bf-beac-3e4dc3f82b3a",
   "metadata": {},
   "outputs": [],
   "source": [
    "file_object.close()"
   ]
  },
  {
   "cell_type": "code",
   "execution_count": null,
   "id": "25cd1f73-8931-4459-9db2-27b52e124fc9",
   "metadata": {},
   "outputs": [],
   "source": [
    "sample"
   ]
  },
  {
   "cell_type": "code",
   "execution_count": null,
   "id": "b4d4f450-d5bc-49f6-b1ae-6869623d4117",
   "metadata": {},
   "outputs": [],
   "source": [
    "sample[3][2:-1].split(\": \")"
   ]
  },
  {
   "cell_type": "code",
   "execution_count": null,
   "id": "0cfcdcf2-a21e-4e76-8eee-75abb17b4fd5",
   "metadata": {},
   "outputs": [],
   "source": [
    "sample[4][2:-1].split(\": \")"
   ]
  }
 ],
 "metadata": {
  "kernelspec": {
   "display_name": "Python 3 (ipykernel)",
   "language": "python",
   "name": "python3"
  },
  "language_info": {
   "codemirror_mode": {
    "name": "ipython",
    "version": 3
   },
   "file_extension": ".py",
   "mimetype": "text/x-python",
   "name": "python",
   "nbconvert_exporter": "python",
   "pygments_lexer": "ipython3",
   "version": "3.7.9"
  }
 },
 "nbformat": 4,
 "nbformat_minor": 5
}
